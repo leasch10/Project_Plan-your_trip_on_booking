{
 "cells": [
  {
   "cell_type": "code",
   "execution_count": 1,
   "metadata": {},
   "outputs": [
    {
     "name": "stdout",
     "output_type": "stream",
     "text": [
      "Requirement already satisfied: scrapy in c:\\users\\leasc\\anaconda3\\lib\\site-packages (2.8.0)\n",
      "Requirement already satisfied: Twisted>=18.9.0 in c:\\users\\leasc\\anaconda3\\lib\\site-packages (from scrapy) (22.10.0)\n",
      "Requirement already satisfied: cryptography>=3.4.6 in c:\\users\\leasc\\anaconda3\\lib\\site-packages (from scrapy) (42.0.2)\n",
      "Requirement already satisfied: cssselect>=0.9.1 in c:\\users\\leasc\\anaconda3\\lib\\site-packages (from scrapy) (1.2.0)\n",
      "Requirement already satisfied: itemloaders>=1.0.1 in c:\\users\\leasc\\anaconda3\\lib\\site-packages (from scrapy) (1.1.0)\n",
      "Requirement already satisfied: parsel>=1.5.0 in c:\\users\\leasc\\anaconda3\\lib\\site-packages (from scrapy) (1.8.1)\n",
      "Requirement already satisfied: pyOpenSSL>=21.0.0 in c:\\users\\leasc\\anaconda3\\lib\\site-packages (from scrapy) (24.0.0)\n",
      "Requirement already satisfied: queuelib>=1.4.2 in c:\\users\\leasc\\anaconda3\\lib\\site-packages (from scrapy) (1.6.2)\n",
      "Requirement already satisfied: service-identity>=18.1.0 in c:\\users\\leasc\\anaconda3\\lib\\site-packages (from scrapy) (18.1.0)\n",
      "Requirement already satisfied: w3lib>=1.17.0 in c:\\users\\leasc\\anaconda3\\lib\\site-packages (from scrapy) (2.1.2)\n",
      "Requirement already satisfied: zope.interface>=5.1.0 in c:\\users\\leasc\\anaconda3\\lib\\site-packages (from scrapy) (5.4.0)\n",
      "Requirement already satisfied: protego>=0.1.15 in c:\\users\\leasc\\anaconda3\\lib\\site-packages (from scrapy) (0.1.16)\n",
      "Requirement already satisfied: itemadapter>=0.1.0 in c:\\users\\leasc\\anaconda3\\lib\\site-packages (from scrapy) (0.3.0)\n",
      "Requirement already satisfied: setuptools in c:\\users\\leasc\\anaconda3\\lib\\site-packages (from scrapy) (68.2.2)\n",
      "Requirement already satisfied: packaging in c:\\users\\leasc\\anaconda3\\lib\\site-packages (from scrapy) (23.1)\n",
      "Requirement already satisfied: tldextract in c:\\users\\leasc\\anaconda3\\lib\\site-packages (from scrapy) (3.2.0)\n",
      "Requirement already satisfied: lxml>=4.3.0 in c:\\users\\leasc\\anaconda3\\lib\\site-packages (from scrapy) (4.9.3)\n",
      "Requirement already satisfied: PyDispatcher>=2.0.5 in c:\\users\\leasc\\anaconda3\\lib\\site-packages (from scrapy) (2.0.5)\n",
      "Requirement already satisfied: cffi>=1.12 in c:\\users\\leasc\\anaconda3\\lib\\site-packages (from cryptography>=3.4.6->scrapy) (1.16.0)\n",
      "Requirement already satisfied: jmespath>=0.9.5 in c:\\users\\leasc\\anaconda3\\lib\\site-packages (from itemloaders>=1.0.1->scrapy) (1.0.1)\n",
      "Requirement already satisfied: six in c:\\users\\leasc\\anaconda3\\lib\\site-packages (from protego>=0.1.15->scrapy) (1.16.0)\n",
      "Requirement already satisfied: attrs>=16.0.0 in c:\\users\\leasc\\anaconda3\\lib\\site-packages (from service-identity>=18.1.0->scrapy) (23.1.0)\n",
      "Requirement already satisfied: pyasn1-modules in c:\\users\\leasc\\anaconda3\\lib\\site-packages (from service-identity>=18.1.0->scrapy) (0.2.8)\n",
      "Requirement already satisfied: pyasn1 in c:\\users\\leasc\\anaconda3\\lib\\site-packages (from service-identity>=18.1.0->scrapy) (0.4.8)\n",
      "Requirement already satisfied: constantly>=15.1 in c:\\users\\leasc\\anaconda3\\lib\\site-packages (from Twisted>=18.9.0->scrapy) (23.10.4)\n",
      "Requirement already satisfied: incremental>=21.3.0 in c:\\users\\leasc\\anaconda3\\lib\\site-packages (from Twisted>=18.9.0->scrapy) (22.10.0)\n",
      "Requirement already satisfied: Automat>=0.8.0 in c:\\users\\leasc\\anaconda3\\lib\\site-packages (from Twisted>=18.9.0->scrapy) (20.2.0)\n",
      "Requirement already satisfied: hyperlink>=17.1.1 in c:\\users\\leasc\\anaconda3\\lib\\site-packages (from Twisted>=18.9.0->scrapy) (21.0.0)\n",
      "Requirement already satisfied: typing-extensions>=3.6.5 in c:\\users\\leasc\\anaconda3\\lib\\site-packages (from Twisted>=18.9.0->scrapy) (4.9.0)\n",
      "Requirement already satisfied: twisted-iocpsupport<2,>=1.0.2 in c:\\users\\leasc\\anaconda3\\lib\\site-packages (from Twisted>=18.9.0->scrapy) (1.0.2)\n",
      "Requirement already satisfied: idna in c:\\users\\leasc\\anaconda3\\lib\\site-packages (from tldextract->scrapy) (3.4)\n",
      "Requirement already satisfied: requests>=2.1.0 in c:\\users\\leasc\\anaconda3\\lib\\site-packages (from tldextract->scrapy) (2.31.0)\n",
      "Requirement already satisfied: requests-file>=1.4 in c:\\users\\leasc\\anaconda3\\lib\\site-packages (from tldextract->scrapy) (1.5.1)\n",
      "Requirement already satisfied: filelock>=3.0.8 in c:\\users\\leasc\\anaconda3\\lib\\site-packages (from tldextract->scrapy) (3.13.1)\n",
      "Requirement already satisfied: pycparser in c:\\users\\leasc\\anaconda3\\lib\\site-packages (from cffi>=1.12->cryptography>=3.4.6->scrapy) (2.21)\n",
      "Requirement already satisfied: charset-normalizer<4,>=2 in c:\\users\\leasc\\anaconda3\\lib\\site-packages (from requests>=2.1.0->tldextract->scrapy) (2.0.4)\n",
      "Requirement already satisfied: urllib3<3,>=1.21.1 in c:\\users\\leasc\\anaconda3\\lib\\site-packages (from requests>=2.1.0->tldextract->scrapy) (2.0.7)\n",
      "Requirement already satisfied: certifi>=2017.4.17 in c:\\users\\leasc\\anaconda3\\lib\\site-packages (from requests>=2.1.0->tldextract->scrapy) (2024.7.4)\n"
     ]
    }
   ],
   "source": [
    "!pip install scrapy\n",
    "import os"
   ]
  },
  {
   "cell_type": "code",
   "execution_count": 4,
   "metadata": {},
   "outputs": [
    {
     "name": "stderr",
     "output_type": "stream",
     "text": [
      "python: can't open file 'c:\\\\Users\\\\leasc\\\\github\\\\data_management_collection-\\\\Kayak_project\\\\scrapy_booking.py': [Errno 2] No such file or directory\n"
     ]
    }
   ],
   "source": [
    "!python scrapy_booking.py\n"
   ]
  },
  {
   "cell_type": "code",
   "execution_count": 5,
   "metadata": {},
   "outputs": [
    {
     "name": "stdout",
     "output_type": "stream",
     "text": [
      "Requirement already satisfied: Twisted==22.10.0 in c:\\users\\leasc\\anaconda3\\lib\\site-packages (22.10.0)\n",
      "Requirement already satisfied: zope.interface>=4.4.2 in c:\\users\\leasc\\anaconda3\\lib\\site-packages (from Twisted==22.10.0) (5.4.0)\n",
      "Requirement already satisfied: constantly>=15.1 in c:\\users\\leasc\\anaconda3\\lib\\site-packages (from Twisted==22.10.0) (23.10.4)\n",
      "Requirement already satisfied: incremental>=21.3.0 in c:\\users\\leasc\\anaconda3\\lib\\site-packages (from Twisted==22.10.0) (22.10.0)\n",
      "Requirement already satisfied: Automat>=0.8.0 in c:\\users\\leasc\\anaconda3\\lib\\site-packages (from Twisted==22.10.0) (20.2.0)\n",
      "Requirement already satisfied: hyperlink>=17.1.1 in c:\\users\\leasc\\anaconda3\\lib\\site-packages (from Twisted==22.10.0) (21.0.0)\n",
      "Requirement already satisfied: attrs>=19.2.0 in c:\\users\\leasc\\anaconda3\\lib\\site-packages (from Twisted==22.10.0) (23.1.0)\n",
      "Requirement already satisfied: typing-extensions>=3.6.5 in c:\\users\\leasc\\anaconda3\\lib\\site-packages (from Twisted==22.10.0) (4.9.0)\n",
      "Requirement already satisfied: twisted-iocpsupport<2,>=1.0.2 in c:\\users\\leasc\\anaconda3\\lib\\site-packages (from Twisted==22.10.0) (1.0.2)\n",
      "Requirement already satisfied: six in c:\\users\\leasc\\anaconda3\\lib\\site-packages (from Automat>=0.8.0->Twisted==22.10.0) (1.16.0)\n",
      "Requirement already satisfied: idna>=2.5 in c:\\users\\leasc\\anaconda3\\lib\\site-packages (from hyperlink>=17.1.1->Twisted==22.10.0) (3.4)\n",
      "Requirement already satisfied: setuptools in c:\\users\\leasc\\anaconda3\\lib\\site-packages (from zope.interface>=4.4.2->Twisted==22.10.0) (68.2.2)\n"
     ]
    }
   ],
   "source": [
    "!pip install Twisted==22.10.0\n"
   ]
  },
  {
   "cell_type": "code",
   "execution_count": 2,
   "metadata": {},
   "outputs": [
    {
     "data": {
      "text/plain": [
       "'c:\\\\Users\\\\leasc\\\\github\\\\data_management_collection-\\\\Kayak_project'"
      ]
     },
     "execution_count": 2,
     "metadata": {},
     "output_type": "execute_result"
    }
   ],
   "source": [
    "os.getcwd()"
   ]
  },
  {
   "cell_type": "code",
   "execution_count": 3,
   "metadata": {},
   "outputs": [
    {
     "data": {
      "text/plain": [
       "'c:\\\\Users\\\\leasc\\\\github\\\\data_management_collection-\\\\Kayak_project\\\\booking_project'"
      ]
     },
     "execution_count": 3,
     "metadata": {},
     "output_type": "execute_result"
    }
   ],
   "source": [
    "os.chdir(\"c:\\\\Users\\\\leasc\\\\github\\\\data_management_collection-\\\\Kayak_project\\\\booking_project\")\n",
    "os.getcwd()"
   ]
  },
  {
   "cell_type": "code",
   "execution_count": 9,
   "metadata": {},
   "outputs": [],
   "source": [
    "#!scrapy crawl autothrottle -O tutorial/6_quotesautothrottle.json\n",
    "#!scrapy crawl autothrottle -O tutorial/6_quotesautothrottle.json"
   ]
  },
  {
   "cell_type": "code",
   "execution_count": 4,
   "metadata": {},
   "outputs": [
    {
     "name": "stderr",
     "output_type": "stream",
     "text": [
      "2024-09-12 11:23:22 [scrapy.utils.log] INFO: Scrapy 2.8.0 started (bot: scrapybot)\n",
      "2024-09-12 11:23:22 [scrapy.utils.log] INFO: Versions: lxml 4.9.3.0, libxml2 2.10.4, cssselect 1.2.0, parsel 1.8.1, w3lib 2.1.2, Twisted 22.10.0, Python 3.11.7 | packaged by Anaconda, Inc. | (main, Dec 15 2023, 18:05:47) [MSC v.1916 64 bit (AMD64)], pyOpenSSL 24.0.0 (OpenSSL 3.0.14 4 Jun 2024), cryptography 42.0.2, Platform Windows-10-10.0.22631-SP0\n",
      "2024-09-12 11:23:22 [scrapy.crawler] INFO: Overridden settings:\n",
      "{'LOG_LEVEL': 20, 'USER_AGENT': 'Chrome/97.0'}\n",
      "2024-09-12 11:23:22 [py.warnings] WARNING: C:\\Users\\leasc\\anaconda3\\Lib\\site-packages\\scrapy\\utils\\request.py:232: ScrapyDeprecationWarning: '2.6' is a deprecated value for the 'REQUEST_FINGERPRINTER_IMPLEMENTATION' setting.\n",
      "\n",
      "It is also the default value. In other words, it is normal to get this warning if you have not defined a value for the 'REQUEST_FINGERPRINTER_IMPLEMENTATION' setting. This is so for backward compatibility reasons, but it will change in a future version of Scrapy.\n",
      "\n",
      "See the documentation of the 'REQUEST_FINGERPRINTER_IMPLEMENTATION' setting for information on how to handle this deprecation.\n",
      "  return cls(crawler)\n",
      "\n",
      "2024-09-12 11:23:22 [scrapy.extensions.telnet] INFO: Telnet Password: d3b6cecfa8690122\n",
      "2024-09-12 11:23:22 [scrapy.middleware] INFO: Enabled extensions:\n",
      "['scrapy.extensions.corestats.CoreStats',\n",
      " 'scrapy.extensions.telnet.TelnetConsole',\n",
      " 'scrapy.extensions.feedexport.FeedExporter',\n",
      " 'scrapy.extensions.logstats.LogStats']\n",
      "2024-09-12 11:23:23 [scrapy.middleware] INFO: Enabled downloader middlewares:\n",
      "['scrapy.downloadermiddlewares.httpauth.HttpAuthMiddleware',\n",
      " 'scrapy.downloadermiddlewares.downloadtimeout.DownloadTimeoutMiddleware',\n",
      " 'scrapy.downloadermiddlewares.defaultheaders.DefaultHeadersMiddleware',\n",
      " 'scrapy.downloadermiddlewares.useragent.UserAgentMiddleware',\n",
      " 'scrapy.downloadermiddlewares.retry.RetryMiddleware',\n",
      " 'scrapy.downloadermiddlewares.redirect.MetaRefreshMiddleware',\n",
      " 'scrapy.downloadermiddlewares.httpcompression.HttpCompressionMiddleware',\n",
      " 'scrapy.downloadermiddlewares.redirect.RedirectMiddleware',\n",
      " 'scrapy.downloadermiddlewares.cookies.CookiesMiddleware',\n",
      " 'scrapy.downloadermiddlewares.httpproxy.HttpProxyMiddleware',\n",
      " 'scrapy.downloadermiddlewares.stats.DownloaderStats']\n",
      "2024-09-12 11:23:23 [scrapy.middleware] INFO: Enabled spider middlewares:\n",
      "['scrapy.spidermiddlewares.httperror.HttpErrorMiddleware',\n",
      " 'scrapy.spidermiddlewares.offsite.OffsiteMiddleware',\n",
      " 'scrapy.spidermiddlewares.referer.RefererMiddleware',\n",
      " 'scrapy.spidermiddlewares.urllength.UrlLengthMiddleware',\n",
      " 'scrapy.spidermiddlewares.depth.DepthMiddleware']\n",
      "2024-09-12 11:23:23 [scrapy.middleware] INFO: Enabled item pipelines:\n",
      "[]\n",
      "2024-09-12 11:23:23 [scrapy.core.engine] INFO: Spider opened\n",
      "2024-09-12 11:23:23 [scrapy.extensions.logstats] INFO: Crawled 0 pages (at 0 pages/min), scraped 0 items (at 0 items/min)\n",
      "2024-09-12 11:23:23 [scrapy.extensions.telnet] INFO: Telnet console listening on 127.0.0.1:6023\n",
      "2024-09-12 11:23:24 [py.warnings] WARNING: C:\\Users\\leasc\\anaconda3\\Lib\\site-packages\\scrapy\\selector\\unified.py:83: UserWarning: Selector got both text and root, root is being ignored.\n",
      "  super().__init__(text=text, type=st, root=root, **kwargs)\n",
      "\n",
      "2024-09-12 11:23:29 [scrapy.core.engine] INFO: Closing spider (finished)\n",
      "2024-09-12 11:23:30 [scrapy.extensions.feedexport] INFO: Stored json feed (25 items) in: booking_project/booking_test2.json\n",
      "2024-09-12 11:23:30 [scrapy.statscollectors] INFO: Dumping Scrapy stats:\n",
      "{'downloader/request_bytes': 29251,\n",
      " 'downloader/request_count': 25,\n",
      " 'downloader/request_method_count/GET': 25,\n",
      " 'downloader/response_bytes': 7206771,\n",
      " 'downloader/response_count': 25,\n",
      " 'downloader/response_status_count/200': 25,\n",
      " 'elapsed_time_seconds': 6.697865,\n",
      " 'feedexport/success_count/FileFeedStorage': 1,\n",
      " 'finish_reason': 'finished',\n",
      " 'finish_time': datetime.datetime(2024, 9, 12, 9, 23, 29, 950122),\n",
      " 'httpcompression/response_bytes': 37652117,\n",
      " 'httpcompression/response_count': 25,\n",
      " 'item_scraped_count': 25,\n",
      " 'log_count/INFO': 11,\n",
      " 'log_count/WARNING': 2,\n",
      " 'response_received_count': 25,\n",
      " 'scheduler/dequeued': 25,\n",
      " 'scheduler/dequeued/memory': 25,\n",
      " 'scheduler/enqueued': 25,\n",
      " 'scheduler/enqueued/memory': 25,\n",
      " 'start_time': datetime.datetime(2024, 9, 12, 9, 23, 23, 252257)}\n",
      "2024-09-12 11:23:30 [scrapy.core.engine] INFO: Spider closed (finished)\n",
      "2024-09-12 11:23:30 [scrapy.utils.log] INFO: Scrapy 2.8.0 started (bot: scrapybot)\n",
      "2024-09-12 11:23:30 [scrapy.utils.log] INFO: Versions: lxml 4.9.3.0, libxml2 2.10.4, cssselect 1.2.0, parsel 1.8.1, w3lib 2.1.2, Twisted 22.10.0, Python 3.11.7 | packaged by Anaconda, Inc. | (main, Dec 15 2023, 18:05:47) [MSC v.1916 64 bit (AMD64)], pyOpenSSL 24.0.0 (OpenSSL 3.0.14 4 Jun 2024), cryptography 42.0.2, Platform Windows-10-10.0.22631-SP0\n",
      "2024-09-12 11:23:30 [scrapy.crawler] INFO: Overridden settings:\n",
      "{'LOG_LEVEL': 20, 'USER_AGENT': 'Chrome/97.0'}\n",
      "2024-09-12 11:23:30 [py.warnings] WARNING: C:\\Users\\leasc\\anaconda3\\Lib\\site-packages\\scrapy\\utils\\request.py:232: ScrapyDeprecationWarning: '2.6' is a deprecated value for the 'REQUEST_FINGERPRINTER_IMPLEMENTATION' setting.\n",
      "\n",
      "It is also the default value. In other words, it is normal to get this warning if you have not defined a value for the 'REQUEST_FINGERPRINTER_IMPLEMENTATION' setting. This is so for backward compatibility reasons, but it will change in a future version of Scrapy.\n",
      "\n",
      "See the documentation of the 'REQUEST_FINGERPRINTER_IMPLEMENTATION' setting for information on how to handle this deprecation.\n",
      "  return cls(crawler)\n",
      "\n",
      "2024-09-12 11:23:30 [scrapy.extensions.telnet] INFO: Telnet Password: 84eb8a6914013ee6\n",
      "2024-09-12 11:23:30 [scrapy.middleware] INFO: Enabled extensions:\n",
      "['scrapy.extensions.corestats.CoreStats',\n",
      " 'scrapy.extensions.telnet.TelnetConsole',\n",
      " 'scrapy.extensions.feedexport.FeedExporter',\n",
      " 'scrapy.extensions.logstats.LogStats']\n",
      "2024-09-12 11:23:30 [scrapy.middleware] INFO: Enabled downloader middlewares:\n",
      "['scrapy.downloadermiddlewares.httpauth.HttpAuthMiddleware',\n",
      " 'scrapy.downloadermiddlewares.downloadtimeout.DownloadTimeoutMiddleware',\n",
      " 'scrapy.downloadermiddlewares.defaultheaders.DefaultHeadersMiddleware',\n",
      " 'scrapy.downloadermiddlewares.useragent.UserAgentMiddleware',\n",
      " 'scrapy.downloadermiddlewares.retry.RetryMiddleware',\n",
      " 'scrapy.downloadermiddlewares.redirect.MetaRefreshMiddleware',\n",
      " 'scrapy.downloadermiddlewares.httpcompression.HttpCompressionMiddleware',\n",
      " 'scrapy.downloadermiddlewares.redirect.RedirectMiddleware',\n",
      " 'scrapy.downloadermiddlewares.cookies.CookiesMiddleware',\n",
      " 'scrapy.downloadermiddlewares.httpproxy.HttpProxyMiddleware',\n",
      " 'scrapy.downloadermiddlewares.stats.DownloaderStats']\n",
      "2024-09-12 11:23:30 [scrapy.middleware] INFO: Enabled spider middlewares:\n",
      "['scrapy.spidermiddlewares.httperror.HttpErrorMiddleware',\n",
      " 'scrapy.spidermiddlewares.offsite.OffsiteMiddleware',\n",
      " 'scrapy.spidermiddlewares.referer.RefererMiddleware',\n",
      " 'scrapy.spidermiddlewares.urllength.UrlLengthMiddleware',\n",
      " 'scrapy.spidermiddlewares.depth.DepthMiddleware']\n",
      "2024-09-12 11:23:30 [scrapy.middleware] INFO: Enabled item pipelines:\n",
      "[]\n",
      "2024-09-12 11:23:30 [scrapy.core.engine] INFO: Spider opened\n",
      "2024-09-12 11:23:30 [scrapy.extensions.logstats] INFO: Crawled 0 pages (at 0 pages/min), scraped 0 items (at 0 items/min)\n",
      "2024-09-12 11:23:30 [scrapy.extensions.telnet] INFO: Telnet console listening on 127.0.0.1:6023\n",
      "Traceback (most recent call last):\n",
      "  File \"C:\\Users\\leasc\\anaconda3\\Scripts\\scrapy-script.py\", line 10, in <module>\n",
      "    sys.exit(execute())\n",
      "             ^^^^^^^^^\n",
      "  File \"C:\\Users\\leasc\\anaconda3\\Lib\\site-packages\\scrapy\\cmdline.py\", line 157, in execute\n",
      "    cmd.crawler_process = CrawlerProcess(settings)\n",
      "                          ^^^^^^^^^^^^^^^^^^^^^^^^\n",
      "  File \"C:\\Users\\leasc\\anaconda3\\Lib\\site-packages\\scrapy\\crawler.py\", line 318, in __init__\n",
      "    super().__init__(settings)\n",
      "  File \"C:\\Users\\leasc\\anaconda3\\Lib\\site-packages\\scrapy\\crawler.py\", line 190, in __init__\n",
      "    self.spider_loader = self._get_spider_loader(settings)\n",
      "                         ^^^^^^^^^^^^^^^^^^^^^^^^^^^^^^^^^\n",
      "  File \"C:\\Users\\leasc\\anaconda3\\Lib\\site-packages\\scrapy\\crawler.py\", line 184, in _get_spider_loader\n",
      "    return loader_cls.from_settings(settings.frozencopy())\n",
      "           ^^^^^^^^^^^^^^^^^^^^^^^^^^^^^^^^^^^^^^^^^^^^^^^\n",
      "  File \"C:\\Users\\leasc\\anaconda3\\Lib\\site-packages\\scrapy\\spiderloader.py\", line 69, in from_settings\n",
      "    return cls(settings)\n",
      "           ^^^^^^^^^^^^^\n",
      "  File \"C:\\Users\\leasc\\anaconda3\\Lib\\site-packages\\scrapy\\spiderloader.py\", line 24, in __init__\n",
      "    self._load_all_spiders()\n",
      "  File \"C:\\Users\\leasc\\anaconda3\\Lib\\site-packages\\scrapy\\spiderloader.py\", line 53, in _load_all_spiders\n",
      "    for module in walk_modules(name):\n",
      "                  ^^^^^^^^^^^^^^^^^^\n",
      "  File \"C:\\Users\\leasc\\anaconda3\\Lib\\site-packages\\scrapy\\utils\\misc.py\", line 87, in walk_modules\n",
      "    submod = import_module(fullpath)\n",
      "             ^^^^^^^^^^^^^^^^^^^^^^^\n",
      "  File \"C:\\Users\\leasc\\anaconda3\\Lib\\importlib\\__init__.py\", line 126, in import_module\n",
      "    return _bootstrap._gcd_import(name[level:], package, level)\n",
      "           ^^^^^^^^^^^^^^^^^^^^^^^^^^^^^^^^^^^^^^^^^^^^^^^^^^^^\n",
      "  File \"<frozen importlib._bootstrap>\", line 1204, in _gcd_import\n",
      "  File \"<frozen importlib._bootstrap>\", line 1176, in _find_and_load\n",
      "  File \"<frozen importlib._bootstrap>\", line 1147, in _find_and_load_unlocked\n",
      "  File \"<frozen importlib._bootstrap>\", line 690, in _load_unlocked\n",
      "  File \"<frozen importlib._bootstrap_external>\", line 940, in exec_module\n",
      "  File \"<frozen importlib._bootstrap>\", line 241, in _call_with_frames_removed\n",
      "  File \"C:\\Users\\leasc\\github\\data_management_collection-\\Kayak_project\\booking_project\\booking_project\\spiders\\scrapy_booking.py\", line 64, in <module>\n",
      "    process.start()\n",
      "  File \"C:\\Users\\leasc\\anaconda3\\Lib\\site-packages\\scrapy\\crawler.py\", line 383, in start\n",
      "    reactor.run(installSignalHandlers=False)  # blocking call\n",
      "    ^^^^^^^^^^^^^^^^^^^^^^^^^^^^^^^^^^^^^^^^\n",
      "  File \"C:\\Users\\leasc\\anaconda3\\Lib\\site-packages\\twisted\\internet\\base.py\", line 1317, in run\n",
      "    self.startRunning(installSignalHandlers=installSignalHandlers)\n",
      "  File \"C:\\Users\\leasc\\anaconda3\\Lib\\site-packages\\twisted\\internet\\base.py\", line 1299, in startRunning\n",
      "    ReactorBase.startRunning(cast(ReactorBase, self))\n",
      "  File \"C:\\Users\\leasc\\anaconda3\\Lib\\site-packages\\twisted\\internet\\base.py\", line 843, in startRunning\n",
      "    raise error.ReactorNotRestartable()\n",
      "twisted.internet.error.ReactorNotRestartable\n"
     ]
    }
   ],
   "source": [
    "!scrapy crawl scraping_booking -O booking_project/booking_test.json"
   ]
  },
  {
   "cell_type": "code",
   "execution_count": 6,
   "metadata": {},
   "outputs": [
    {
     "data": {
      "text/plain": [
       "'c:\\\\Users\\\\leasc\\\\github\\\\data_management_collection-\\\\Kayak_project\\\\booking_project\\\\booking_project'"
      ]
     },
     "execution_count": 6,
     "metadata": {},
     "output_type": "execute_result"
    }
   ],
   "source": [
    "os.chdir(\"c:\\\\Users\\\\leasc\\\\github\\\\data_management_collection-\\\\Kayak_project\\\\booking_project\\\\booking_project\")\n",
    "os.getcwd()"
   ]
  },
  {
   "cell_type": "code",
   "execution_count": 12,
   "metadata": {},
   "outputs": [
    {
     "name": "stdout",
     "output_type": "stream",
     "text": [
      "['https://www.booking.com/hotel/fr/les-canyons-du-verdon.en-gb.html?label=en-fr-booking-desktop-Akb7DsuMl_04Kj1fagYeEgS652796016858%3Apl%3Ata%3Ap1%3Ap2%3Aac%3Aap%3Aneg%3Afi%3Atikwd-65526620%3Alp1006094%3Ali%3Adec%3Adm&sid=f2480d4adff900632cc88bb076d858c9&aid=2311236&ucfs=1&arphpl=1&checkin=2024-09-18&checkout=2024-09-19&dest_id=2746&dest_type=region&group_adults=2&req_adults=2&no_rooms=1&group_children=0&req_children=0&hpos=1&hapos=1&sr_order=popularity&nflt=ht_id%3D204&srpvid=48954382804f00e9&srepoch=1726133767&all_sr_blocks=41042005_372132471_0_2_0&highlighted_blocks=41042005_372132471_0_2_0&matching_block_id=41042005_372132471_0_2_0&sr_pri_blocks=41042005_372132471_0_2_0__8200&from=searchresults', 'https://www.booking.com/hotel/fr/hotellouparadou.en-gb.html?label=en-fr-booking-desktop-Akb7DsuMl_04Kj1fagYeEgS652796016858%3Apl%3Ata%3Ap1%3Ap2%3Aac%3Aap%3Aneg%3Afi%3Atikwd-65526620%3Alp1006094%3Ali%3Adec%3Adm&sid=f2480d4adff900632cc88bb076d858c9&aid=2311236&ucfs=1&arphpl=1&checkin=2024-09-18&checkout=2024-09-19&dest_id=2746&dest_type=region&group_adults=2&req_adults=2&no_rooms=1&group_children=0&req_children=0&hpos=2&hapos=2&sr_order=popularity&nflt=ht_id%3D204&srpvid=48954382804f00e9&srepoch=1726133767&all_sr_blocks=13655_195943888_0_1_0&highlighted_blocks=13655_195943888_0_1_0&matching_block_id=13655_195943888_0_1_0&sr_pri_blocks=13655_195943888_0_1_0__14848&from_sustainable_property_sr=1&from=searchresults', 'https://www.booking.com/hotel/fr/auberge-des-salles.en-gb.html?label=en-fr-booking-desktop-Akb7DsuMl_04Kj1fagYeEgS652796016858%3Apl%3Ata%3Ap1%3Ap2%3Aac%3Aap%3Aneg%3Afi%3Atikwd-65526620%3Alp1006094%3Ali%3Adec%3Adm&sid=f2480d4adff900632cc88bb076d858c9&aid=2311236&ucfs=1&arphpl=1&checkin=2024-09-18&checkout=2024-09-19&dest_id=2746&dest_type=region&group_adults=2&req_adults=2&no_rooms=1&group_children=0&req_children=0&hpos=3&hapos=3&sr_order=popularity&nflt=ht_id%3D204&srpvid=48954382804f00e9&srepoch=1726133767&all_sr_blocks=55477702_354698393_0_2_0&highlighted_blocks=55477702_354698393_0_2_0&matching_block_id=55477702_354698393_0_2_0&sr_pri_blocks=55477702_354698393_0_2_0__11560&from_sustainable_property_sr=1&from=searchresults', 'https://www.booking.com/hotel/fr/le-chemin-neuf-greoux-les-bains.en-gb.html?label=en-fr-booking-desktop-Akb7DsuMl_04Kj1fagYeEgS652796016858%3Apl%3Ata%3Ap1%3Ap2%3Aac%3Aap%3Aneg%3Afi%3Atikwd-65526620%3Alp1006094%3Ali%3Adec%3Adm&sid=f2480d4adff900632cc88bb076d858c9&aid=2311236&ucfs=1&arphpl=1&checkin=2024-09-18&checkout=2024-09-19&dest_id=2746&dest_type=region&group_adults=2&req_adults=2&no_rooms=1&group_children=0&req_children=0&hpos=4&hapos=4&sr_order=popularity&nflt=ht_id%3D204&srpvid=48954382804f00e9&srepoch=1726133767&all_sr_blocks=183745102_201286709_2_0_0&highlighted_blocks=183745102_201286709_2_0_0&matching_block_id=183745102_201286709_2_0_0&sr_pri_blocks=183745102_201286709_2_0_0__5654&from=searchresults', 'https://www.booking.com/hotel/fr/logis-altitude-823.en-gb.html?label=en-fr-booking-desktop-Akb7DsuMl_04Kj1fagYeEgS652796016858%3Apl%3Ata%3Ap1%3Ap2%3Aac%3Aap%3Aneg%3Afi%3Atikwd-65526620%3Alp1006094%3Ali%3Adec%3Adm&sid=f2480d4adff900632cc88bb076d858c9&aid=2311236&ucfs=1&arphpl=1&checkin=2024-09-18&checkout=2024-09-19&dest_id=2746&dest_type=region&group_adults=2&req_adults=2&no_rooms=1&group_children=0&req_children=0&hpos=5&hapos=5&sr_order=popularity&nflt=ht_id%3D204&srpvid=48954382804f00e9&srepoch=1726133767&all_sr_blocks=23781015_359883128_2_34_0&highlighted_blocks=23781015_359883128_2_34_0&matching_block_id=23781015_359883128_2_34_0&sr_pri_blocks=23781015_359883128_2_34_0__9500&from=searchresults', 'https://www.booking.com/hotel/fr/bastide-du-calalou.en-gb.html?label=en-fr-booking-desktop-Akb7DsuMl_04Kj1fagYeEgS652796016858%3Apl%3Ata%3Ap1%3Ap2%3Aac%3Aap%3Aneg%3Afi%3Atikwd-65526620%3Alp1006094%3Ali%3Adec%3Adm&sid=f2480d4adff900632cc88bb076d858c9&aid=2311236&ucfs=1&arphpl=1&checkin=2024-09-18&checkout=2024-09-19&dest_id=2746&dest_type=region&group_adults=2&req_adults=2&no_rooms=1&group_children=0&req_children=0&hpos=6&hapos=6&sr_order=popularity&nflt=ht_id%3D204&srpvid=48954382804f00e9&srepoch=1726133767&all_sr_blocks=21427312_366530944_2_42_0&highlighted_blocks=21427312_366530944_2_42_0&matching_block_id=21427312_366530944_2_42_0&sr_pri_blocks=21427312_366530944_2_42_0__18842&from_sustainable_property_sr=1&from=searchresults', 'https://www.booking.com/hotel/fr/auberge-de-baudinard.en-gb.html?label=en-fr-booking-desktop-Akb7DsuMl_04Kj1fagYeEgS652796016858%3Apl%3Ata%3Ap1%3Ap2%3Aac%3Aap%3Aneg%3Afi%3Atikwd-65526620%3Alp1006094%3Ali%3Adec%3Adm&sid=f2480d4adff900632cc88bb076d858c9&aid=2311236&ucfs=1&arphpl=1&checkin=2024-09-18&checkout=2024-09-19&dest_id=2746&dest_type=region&group_adults=2&req_adults=2&no_rooms=1&group_children=0&req_children=0&hpos=7&hapos=7&sr_order=popularity&nflt=ht_id%3D204&srpvid=48954382804f00e9&srepoch=1726133767&all_sr_blocks=41142913_170013382_2_34_0&highlighted_blocks=41142913_170013382_2_34_0&matching_block_id=41142913_170013382_2_34_0&sr_pri_blocks=41142913_170013382_2_34_0__9560&from=searchresults', 'https://www.booking.com/hotel/fr/du-vieux-chateau.en-gb.html?label=en-fr-booking-desktop-Akb7DsuMl_04Kj1fagYeEgS652796016858%3Apl%3Ata%3Ap1%3Ap2%3Aac%3Aap%3Aneg%3Afi%3Atikwd-65526620%3Alp1006094%3Ali%3Adec%3Adm&sid=f2480d4adff900632cc88bb076d858c9&aid=2311236&ucfs=1&arphpl=1&checkin=2024-09-18&checkout=2024-09-19&dest_id=2746&dest_type=region&group_adults=2&req_adults=2&no_rooms=1&group_children=0&req_children=0&hpos=8&hapos=8&sr_order=popularity&nflt=ht_id%3D204&srpvid=48954382804f00e9&srepoch=1726133767&all_sr_blocks=49321808_392395970_0_0_0&highlighted_blocks=49321808_392395970_0_0_0&matching_block_id=49321808_392395970_0_0_0&sr_pri_blocks=49321808_392395970_0_0_0__7651&from_sustainable_property_sr=1&from=searchresults', 'https://www.booking.com/hotel/fr/studi-ha-tel-ra-c-sidence-plein-voile.en-gb.html?label=en-fr-booking-desktop-Akb7DsuMl_04Kj1fagYeEgS652796016858%3Apl%3Ata%3Ap1%3Ap2%3Aac%3Aap%3Aneg%3Afi%3Atikwd-65526620%3Alp1006094%3Ali%3Adec%3Adm&sid=f2480d4adff900632cc88bb076d858c9&aid=2311236&ucfs=1&arphpl=1&checkin=2024-09-18&checkout=2024-09-19&dest_id=2746&dest_type=region&group_adults=2&req_adults=2&no_rooms=1&group_children=0&req_children=0&hpos=9&hapos=9&sr_order=popularity&nflt=ht_id%3D204&srpvid=48954382804f00e9&srepoch=1726133767&all_sr_blocks=43352401_400211608_2_2_0&highlighted_blocks=43352401_400211608_2_2_0&matching_block_id=43352401_400211608_2_2_0&sr_pri_blocks=43352401_400211608_2_2_0__7300&from=searchresults', 'https://www.booking.com/hotel/fr/ha-tel-l-ermitage.en-gb.html?label=en-fr-booking-desktop-Akb7DsuMl_04Kj1fagYeEgS652796016858%3Apl%3Ata%3Ap1%3Ap2%3Aac%3Aap%3Aneg%3Afi%3Atikwd-65526620%3Alp1006094%3Ali%3Adec%3Adm&sid=f2480d4adff900632cc88bb076d858c9&aid=2311236&ucfs=1&arphpl=1&checkin=2024-09-18&checkout=2024-09-19&dest_id=2746&dest_type=region&group_adults=2&req_adults=2&no_rooms=1&group_children=0&req_children=0&hpos=10&hapos=10&sr_order=popularity&nflt=ht_id%3D204&srpvid=48954382804f00e9&srepoch=1726133767&all_sr_blocks=44665701_388226770_0_2_0&highlighted_blocks=44665701_388226770_0_2_0&matching_block_id=44665701_388226770_0_2_0&sr_pri_blocks=44665701_388226770_0_2_0__12932&from_sustainable_property_sr=1&from=searchresults', 'https://www.booking.com/hotel/fr/ma-petite-auberge.en-gb.html?label=en-fr-booking-desktop-Akb7DsuMl_04Kj1fagYeEgS652796016858%3Apl%3Ata%3Ap1%3Ap2%3Aac%3Aap%3Aneg%3Afi%3Atikwd-65526620%3Alp1006094%3Ali%3Adec%3Adm&sid=f2480d4adff900632cc88bb076d858c9&aid=2311236&ucfs=1&arphpl=1&checkin=2024-09-18&checkout=2024-09-19&dest_id=2746&dest_type=region&group_adults=2&req_adults=2&no_rooms=1&group_children=0&req_children=0&hpos=11&hapos=11&sr_order=popularity&nflt=ht_id%3D204&srpvid=48954382804f00e9&srepoch=1726133767&all_sr_blocks=43279206_336152591_2_2_0&highlighted_blocks=43279206_336152591_2_2_0&matching_block_id=43279206_336152591_2_2_0&sr_pri_blocks=43279206_336152591_2_2_0__9954&from_sustainable_property_sr=1&from=searchresults', 'https://www.booking.com/hotel/fr/du-levant-castellane.en-gb.html?label=en-fr-booking-desktop-Akb7DsuMl_04Kj1fagYeEgS652796016858%3Apl%3Ata%3Ap1%3Ap2%3Aac%3Aap%3Aneg%3Afi%3Atikwd-65526620%3Alp1006094%3Ali%3Adec%3Adm&sid=f2480d4adff900632cc88bb076d858c9&aid=2311236&ucfs=1&arphpl=1&checkin=2024-09-18&checkout=2024-09-19&dest_id=2746&dest_type=region&group_adults=2&req_adults=2&no_rooms=1&group_children=0&req_children=0&hpos=12&hapos=12&sr_order=popularity&nflt=ht_id%3D204&srpvid=48954382804f00e9&srepoch=1726133767&all_sr_blocks=40505001_269140305_2_2_0&highlighted_blocks=40505001_269140305_2_2_0&matching_block_id=40505001_269140305_2_2_0&sr_pri_blocks=40505001_269140305_2_2_0__9360&from=searchresults', 'https://www.booking.com/hotel/fr/les-cavalets.en-gb.html?label=en-fr-booking-desktop-Akb7DsuMl_04Kj1fagYeEgS652796016858%3Apl%3Ata%3Ap1%3Ap2%3Aac%3Aap%3Aneg%3Afi%3Atikwd-65526620%3Alp1006094%3Ali%3Adec%3Adm&sid=f2480d4adff900632cc88bb076d858c9&aid=2311236&ucfs=1&arphpl=1&checkin=2024-09-18&checkout=2024-09-19&dest_id=2746&dest_type=region&group_adults=2&req_adults=2&no_rooms=1&group_children=0&req_children=0&hpos=13&hapos=13&sr_order=popularity&nflt=ht_id%3D204&srpvid=48954382804f00e9&srepoch=1726133767&all_sr_blocks=102922701_260032997_2_2_0&highlighted_blocks=102922701_260032997_2_2_0&matching_block_id=102922701_260032997_2_2_0&sr_pri_blocks=102922701_260032997_2_2_0__12198&from=searchresults', 'https://www.booking.com/hotel/fr/ha-tel-du-roc.en-gb.html?label=en-fr-booking-desktop-Akb7DsuMl_04Kj1fagYeEgS652796016858%3Apl%3Ata%3Ap1%3Ap2%3Aac%3Aap%3Aneg%3Afi%3Atikwd-65526620%3Alp1006094%3Ali%3Adec%3Adm&sid=f2480d4adff900632cc88bb076d858c9&aid=2311236&ucfs=1&arphpl=1&checkin=2024-09-18&checkout=2024-09-19&dest_id=2746&dest_type=region&group_adults=2&req_adults=2&no_rooms=1&group_children=0&req_children=0&hpos=14&hapos=14&sr_order=popularity&nflt=ht_id%3D204&srpvid=48954382804f00e9&srepoch=1726133767&all_sr_blocks=53562602_365976222_0_2_0&highlighted_blocks=53562602_365976222_0_2_0&matching_block_id=53562602_365976222_0_2_0&sr_pri_blocks=53562602_365976222_0_2_0__10140&from=searchresults', 'https://www.booking.com/hotel/fr/nouvel-du-commerce-castellane.en-gb.html?label=en-fr-booking-desktop-Akb7DsuMl_04Kj1fagYeEgS652796016858%3Apl%3Ata%3Ap1%3Ap2%3Aac%3Aap%3Aneg%3Afi%3Atikwd-65526620%3Alp1006094%3Ali%3Adec%3Adm&sid=f2480d4adff900632cc88bb076d858c9&aid=2311236&ucfs=1&arphpl=1&checkin=2024-09-18&checkout=2024-09-19&dest_id=2746&dest_type=region&group_adults=2&req_adults=2&no_rooms=1&group_children=0&req_children=0&hpos=15&hapos=15&sr_order=popularity&nflt=ht_id%3D204&srpvid=48954382804f00e9&srepoch=1726133767&all_sr_blocks=17616011_326752063_2_2_0&highlighted_blocks=17616011_326752063_2_2_0&matching_block_id=17616011_326752063_2_2_0&sr_pri_blocks=17616011_326752063_2_2_0__14000&from_sustainable_property_sr=1&from=searchresults', 'https://www.booking.com/hotel/fr/residence-le-moulin.en-gb.html?label=en-fr-booking-desktop-Akb7DsuMl_04Kj1fagYeEgS652796016858%3Apl%3Ata%3Ap1%3Ap2%3Aac%3Aap%3Aneg%3Afi%3Atikwd-65526620%3Alp1006094%3Ali%3Adec%3Adm&sid=f2480d4adff900632cc88bb076d858c9&aid=2311236&ucfs=1&arphpl=1&checkin=2024-09-18&checkout=2024-09-19&dest_id=2746&dest_type=region&group_adults=2&req_adults=2&no_rooms=1&group_children=0&req_children=0&hpos=16&hapos=16&sr_order=popularity&nflt=ht_id%3D204&srpvid=48954382804f00e9&srepoch=1726133767&all_sr_blocks=136252001_328159514_2_2_0&highlighted_blocks=136252001_328159514_2_2_0&matching_block_id=136252001_328159514_2_2_0&sr_pri_blocks=136252001_328159514_2_2_0__10598&from_sustainable_property_sr=1&from=searchresults', 'https://www.booking.com/hotel/fr/la-bastide-du-paradou-moustiers-sainte-marie.en-gb.html?label=en-fr-booking-desktop-Akb7DsuMl_04Kj1fagYeEgS652796016858%3Apl%3Ata%3Ap1%3Ap2%3Aac%3Aap%3Aneg%3Afi%3Atikwd-65526620%3Alp1006094%3Ali%3Adec%3Adm&sid=f2480d4adff900632cc88bb076d858c9&aid=2311236&ucfs=1&arphpl=1&checkin=2024-09-18&checkout=2024-09-19&dest_id=2746&dest_type=region&group_adults=2&req_adults=2&no_rooms=1&group_children=0&req_children=0&hpos=17&hapos=17&sr_order=popularity&nflt=ht_id%3D204&srpvid=48954382804f00e9&srepoch=1726133767&all_sr_blocks=5995601_386876025_0_34_0&highlighted_blocks=5995601_386876025_0_34_0&matching_block_id=5995601_386876025_0_34_0&sr_pri_blocks=5995601_386876025_0_34_0__15230&from=searchresults', 'https://www.booking.com/hotel/fr/logis-grand-bain.en-gb.html?label=en-fr-booking-desktop-Akb7DsuMl_04Kj1fagYeEgS652796016858%3Apl%3Ata%3Ap1%3Ap2%3Aac%3Aap%3Aneg%3Afi%3Atikwd-65526620%3Alp1006094%3Ali%3Adec%3Adm&sid=f2480d4adff900632cc88bb076d858c9&aid=2311236&ucfs=1&arphpl=1&checkin=2024-09-18&checkout=2024-09-19&dest_id=2746&dest_type=region&group_adults=2&req_adults=2&no_rooms=1&group_children=0&req_children=0&hpos=18&hapos=18&sr_order=popularity&nflt=ht_id%3D204&srpvid=48954382804f00e9&srepoch=1726133767&all_sr_blocks=25200003_195821588_0_42_0&highlighted_blocks=25200003_195821588_0_42_0&matching_block_id=25200003_195821588_0_42_0&sr_pri_blocks=25200003_195821588_0_42_0__14060&from_sustainable_property_sr=1&from=searchresults', 'https://www.booking.com/hotel/fr/le-verdon.en-gb.html?label=en-fr-booking-desktop-Akb7DsuMl_04Kj1fagYeEgS652796016858%3Apl%3Ata%3Ap1%3Ap2%3Aac%3Aap%3Aneg%3Afi%3Atikwd-65526620%3Alp1006094%3Ali%3Adec%3Adm&sid=f2480d4adff900632cc88bb076d858c9&aid=2311236&ucfs=1&arphpl=1&checkin=2024-09-18&checkout=2024-09-19&dest_id=2746&dest_type=region&group_adults=2&req_adults=2&no_rooms=1&group_children=0&req_children=0&hpos=19&hapos=19&sr_order=popularity&nflt=ht_id%3D204&srpvid=48954382804f00e9&srepoch=1726133767&all_sr_blocks=40296503_367712026_3_2_0&highlighted_blocks=40296503_367712026_3_2_0&matching_block_id=40296503_367712026_3_2_0&sr_pri_blocks=40296503_367712026_3_2_0__16220&from_sustainable_property_sr=1&from=searchresults', 'https://www.booking.com/hotel/fr/chateau-de-trigance.en-gb.html?label=en-fr-booking-desktop-Akb7DsuMl_04Kj1fagYeEgS652796016858%3Apl%3Ata%3Ap1%3Ap2%3Aac%3Aap%3Aneg%3Afi%3Atikwd-65526620%3Alp1006094%3Ali%3Adec%3Adm&sid=f2480d4adff900632cc88bb076d858c9&aid=2311236&ucfs=1&arphpl=1&checkin=2024-09-18&checkout=2024-09-19&dest_id=2746&dest_type=region&group_adults=2&req_adults=2&no_rooms=1&group_children=0&req_children=0&hpos=20&hapos=20&sr_order=popularity&nflt=ht_id%3D204&srpvid=48954382804f00e9&srepoch=1726133767&all_sr_blocks=18044608_367803047_2_0_0&highlighted_blocks=18044608_367803047_2_0_0&matching_block_id=18044608_367803047_2_0_0&sr_pri_blocks=18044608_367803047_2_0_0__21332&from=searchresults', 'https://www.booking.com/hotel/fr/le-comptoir-sainte-croix-du-verdon.en-gb.html?label=en-fr-booking-desktop-Akb7DsuMl_04Kj1fagYeEgS652796016858%3Apl%3Ata%3Ap1%3Ap2%3Aac%3Aap%3Aneg%3Afi%3Atikwd-65526620%3Alp1006094%3Ali%3Adec%3Adm&sid=f2480d4adff900632cc88bb076d858c9&aid=2311236&ucfs=1&arphpl=1&checkin=2024-09-18&checkout=2024-09-19&dest_id=2746&dest_type=region&group_adults=2&req_adults=2&no_rooms=1&group_children=0&req_children=0&hpos=21&hapos=21&sr_order=popularity&nflt=ht_id%3D204&srpvid=48954382804f00e9&srepoch=1726133767&all_sr_blocks=1139146705_386802981_0_2_0&highlighted_blocks=1139146705_386802981_0_2_0&matching_block_id=1139146705_386802981_0_2_0&sr_pri_blocks=1139146705_386802981_0_2_0__6195&from=searchresults', 'https://www.booking.com/hotel/fr/auberge-du-point-sublime.en-gb.html?label=en-fr-booking-desktop-Akb7DsuMl_04Kj1fagYeEgS652796016858%3Apl%3Ata%3Ap1%3Ap2%3Aac%3Aap%3Aneg%3Afi%3Atikwd-65526620%3Alp1006094%3Ali%3Adec%3Adm&sid=f2480d4adff900632cc88bb076d858c9&aid=2311236&ucfs=1&arphpl=1&checkin=2024-09-18&checkout=2024-09-19&dest_id=2746&dest_type=region&group_adults=2&req_adults=2&no_rooms=1&group_children=0&req_children=0&hpos=22&hapos=22&sr_order=popularity&nflt=ht_id%3D204&srpvid=48954382804f00e9&srepoch=1726133767&all_sr_blocks=523243001_367899504_2_42_0&highlighted_blocks=523243001_367899504_2_42_0&matching_block_id=523243001_367899504_2_42_0&sr_pri_blocks=523243001_367899504_2_42_0__9554&from_sustainable_property_sr=1&from=searchresults', 'https://www.booking.com/hotel/fr/auberge-des-cretes.en-gb.html?label=en-fr-booking-desktop-Akb7DsuMl_04Kj1fagYeEgS652796016858%3Apl%3Ata%3Ap1%3Ap2%3Aac%3Aap%3Aneg%3Afi%3Atikwd-65526620%3Alp1006094%3Ali%3Adec%3Adm&sid=f2480d4adff900632cc88bb076d858c9&aid=2311236&ucfs=1&arphpl=1&checkin=2024-09-18&checkout=2024-09-19&dest_id=2746&dest_type=region&group_adults=2&req_adults=2&no_rooms=1&group_children=0&req_children=0&hpos=23&hapos=23&sr_order=popularity&nflt=ht_id%3D204&srpvid=48954382804f00e9&srepoch=1726133767&all_sr_blocks=405182201_179252249_2_2_0&highlighted_blocks=405182201_179252249_2_2_0&matching_block_id=405182201_179252249_2_2_0&sr_pri_blocks=405182201_179252249_2_2_0__7660&from=searchresults', 'https://www.booking.com/hotel/fr/relais-notre-dame.en-gb.html?label=en-fr-booking-desktop-Akb7DsuMl_04Kj1fagYeEgS652796016858%3Apl%3Ata%3Ap1%3Ap2%3Aac%3Aap%3Aneg%3Afi%3Atikwd-65526620%3Alp1006094%3Ali%3Adec%3Adm&sid=f2480d4adff900632cc88bb076d858c9&aid=2311236&ucfs=1&arphpl=1&checkin=2024-09-18&checkout=2024-09-19&dest_id=2746&dest_type=region&group_adults=2&req_adults=2&no_rooms=1&group_children=0&req_children=0&hpos=24&hapos=24&sr_order=popularity&nflt=ht_id%3D204&srpvid=48954382804f00e9&srepoch=1726133767&all_sr_blocks=36071302_389091850_2_2_0&highlighted_blocks=36071302_389091850_2_2_0&matching_block_id=36071302_389091850_2_2_0&sr_pri_blocks=36071302_389091850_2_2_0__11940&from_sustainable_property_sr=1&from=searchresults', 'https://www.booking.com/hotel/fr/ha-tel-les-deux-lions.en-gb.html?label=en-fr-booking-desktop-Akb7DsuMl_04Kj1fagYeEgS652796016858%3Apl%3Ata%3Ap1%3Ap2%3Aac%3Aap%3Aneg%3Afi%3Atikwd-65526620%3Alp1006094%3Ali%3Adec%3Adm&sid=f2480d4adff900632cc88bb076d858c9&aid=2311236&ucfs=1&arphpl=1&checkin=2024-09-18&checkout=2024-09-19&dest_id=2746&dest_type=region&group_adults=2&req_adults=2&no_rooms=1&group_children=0&req_children=0&hpos=25&hapos=25&sr_order=popularity&nflt=ht_id%3D204&srpvid=48954382804f00e9&srepoch=1726133767&all_sr_blocks=42260501_364467678_2_2_0&highlighted_blocks=42260501_364467678_2_2_0&matching_block_id=42260501_364467678_2_2_0&sr_pri_blocks=42260501_364467678_2_2_0__11330&from_sustainable_property_sr=1&from=searchresults', 'https://www.booking.com/hotel/fr/les-residence-des-chateaux-forts-d-39-alsace.en-gb.html?label=en-fr-booking-desktop-Akb7DsuMl_04Kj1fagYeEgS652796016858%3Apl%3Ata%3Ap1%3Ap2%3Aac%3Aap%3Aneg%3Afi%3Atikwd-65526620%3Alp1006094%3Ali%3Adec%3Adm&sid=f2480d4adff900632cc88bb076d858c9&aid=2311236&ucfs=1&arphpl=1&checkin=2024-09-18&checkout=2024-09-19&dest_id=5865396&dest_type=hotel&group_adults=2&req_adults=2&no_rooms=1&group_children=0&req_children=0&hpos=1&hapos=1&sr_order=popularity&srpvid=3ccb43820e8500f8&srepoch=1726133767&soh=1&from=searchresults#no_availability_msg', 'https://www.booking.com/hotel/fr/appartement-des-chevaliers-designed-by-cm.en-gb.html?label=en-fr-booking-desktop-Akb7DsuMl_04Kj1fagYeEgS652796016858%3Apl%3Ata%3Ap1%3Ap2%3Aac%3Aap%3Aneg%3Afi%3Atikwd-65526620%3Alp1006094%3Ali%3Adec%3Adm&sid=f2480d4adff900632cc88bb076d858c9&aid=2311236&ucfs=1&arphpl=1&checkin=2024-09-18&checkout=2024-09-19&dest_id=5865396&dest_type=hotel&group_adults=2&req_adults=2&no_rooms=1&group_children=0&req_children=0&hpos=2&hapos=2&sr_order=popularity&srpvid=3ccb43820e8500f8&srepoch=1726133767&all_sr_blocks=889731301_359006924_2_0_0&highlighted_blocks=889731301_359006924_2_0_0&matching_block_id=889731301_359006924_2_0_0&sr_pri_blocks=889731301_359006924_2_0_0__8033&from=searchresults', 'https://www.booking.com/hotel/fr/le-bonheur-est-parfois-cache-dans-l-inconnu.en-gb.html?label=en-fr-booking-desktop-Akb7DsuMl_04Kj1fagYeEgS652796016858%3Apl%3Ata%3Ap1%3Ap2%3Aac%3Aap%3Aneg%3Afi%3Atikwd-65526620%3Alp1006094%3Ali%3Adec%3Adm&sid=f2480d4adff900632cc88bb076d858c9&aid=2311236&ucfs=1&arphpl=1&checkin=2024-09-18&checkout=2024-09-19&dest_id=5865396&dest_type=hotel&group_adults=2&req_adults=2&no_rooms=1&group_children=0&req_children=0&hpos=3&hapos=3&sr_order=popularity&srpvid=3ccb43820e8500f8&srepoch=1726133767&all_sr_blocks=255546901_160773436_2_0_0&highlighted_blocks=255546901_160773436_2_0_0&matching_block_id=255546901_160773436_2_0_0&sr_pri_blocks=255546901_160773436_2_0_0__10580&from=searchresults', 'https://www.booking.com/hotel/fr/le-landsberg.en-gb.html?label=en-fr-booking-desktop-Akb7DsuMl_04Kj1fagYeEgS652796016858%3Apl%3Ata%3Ap1%3Ap2%3Aac%3Aap%3Aneg%3Afi%3Atikwd-65526620%3Alp1006094%3Ali%3Adec%3Adm&sid=f2480d4adff900632cc88bb076d858c9&aid=2311236&ucfs=1&arphpl=1&checkin=2024-09-18&checkout=2024-09-19&dest_id=5865396&dest_type=hotel&group_adults=2&req_adults=2&no_rooms=1&group_children=0&req_children=0&hpos=4&hapos=4&sr_order=popularity&srpvid=3ccb43820e8500f8&srepoch=1726133767&all_sr_blocks=591954501_395281921_2_0_0&highlighted_blocks=591954501_395281921_2_0_0&matching_block_id=591954501_395281921_2_0_0&sr_pri_blocks=591954501_395281921_2_0_0__12669&from=searchresults', 'https://www.booking.com/hotel/fr/villa-avril.en-gb.html?label=en-fr-booking-desktop-Akb7DsuMl_04Kj1fagYeEgS652796016858%3Apl%3Ata%3Ap1%3Ap2%3Aac%3Aap%3Aneg%3Afi%3Atikwd-65526620%3Alp1006094%3Ali%3Adec%3Adm&sid=f2480d4adff900632cc88bb076d858c9&aid=2311236&ucfs=1&arphpl=1&checkin=2024-09-18&checkout=2024-09-19&dest_id=5865396&dest_type=hotel&group_adults=2&req_adults=2&no_rooms=1&group_children=0&req_children=0&hpos=5&hapos=5&sr_order=popularity&srpvid=3ccb43820e8500f8&srepoch=1726133767&all_sr_blocks=798177901_360913653_15_0_0&highlighted_blocks=798177901_360913653_15_0_0&matching_block_id=798177901_360913653_15_0_0&sr_pri_blocks=798177901_360913653_15_0_0__117000&from_sustainable_property_sr=1&from=searchresults', 'https://www.booking.com/hotel/fr/petit-studio-pour-2-personnes-au-coeur-de-selestat.en-gb.html?label=en-fr-booking-desktop-Akb7DsuMl_04Kj1fagYeEgS652796016858%3Apl%3Ata%3Ap1%3Ap2%3Aac%3Aap%3Aneg%3Afi%3Atikwd-65526620%3Alp1006094%3Ali%3Adec%3Adm&sid=f2480d4adff900632cc88bb076d858c9&aid=2311236&ucfs=1&arphpl=1&checkin=2024-09-18&checkout=2024-09-19&dest_id=5865396&dest_type=hotel&group_adults=2&req_adults=2&no_rooms=1&group_children=0&req_children=0&hpos=6&hapos=6&sr_order=popularity&srpvid=3ccb43820e8500f8&srepoch=1726133767&all_sr_blocks=1129706401_385626608_2_0_0&highlighted_blocks=1129706401_385626608_2_0_0&matching_block_id=1129706401_385626608_2_0_0&sr_pri_blocks=1129706401_385626608_2_0_0__8925&from=searchresults', 'https://www.booking.com/hotel/fr/appart-4-pers-avec-jardin-centre-historique-selestat.en-gb.html?label=en-fr-booking-desktop-Akb7DsuMl_04Kj1fagYeEgS652796016858%3Apl%3Ata%3Ap1%3Ap2%3Aac%3Aap%3Aneg%3Afi%3Atikwd-65526620%3Alp1006094%3Ali%3Adec%3Adm&sid=f2480d4adff900632cc88bb076d858c9&aid=2311236&ucfs=1&arphpl=1&checkin=2024-09-18&checkout=2024-09-19&dest_id=5865396&dest_type=hotel&group_adults=2&req_adults=2&no_rooms=1&group_children=0&req_children=0&hpos=7&hapos=7&sr_order=popularity&srpvid=3ccb43820e8500f8&srepoch=1726133767&all_sr_blocks=657134101_370868370_4_0_0&highlighted_blocks=657134101_370868370_4_0_0&matching_block_id=657134101_370868370_4_0_0&sr_pri_blocks=657134101_370868370_4_0_0__12075&from=searchresults', 'https://www.booking.com/hotel/fr/bel-appartement-selestat-selestat.en-gb.html?label=en-fr-booking-desktop-Akb7DsuMl_04Kj1fagYeEgS652796016858%3Apl%3Ata%3Ap1%3Ap2%3Aac%3Aap%3Aneg%3Afi%3Atikwd-65526620%3Alp1006094%3Ali%3Adec%3Adm&sid=f2480d4adff900632cc88bb076d858c9&aid=2311236&ucfs=1&arphpl=1&checkin=2024-09-18&checkout=2024-09-19&dest_id=5865396&dest_type=hotel&group_adults=2&req_adults=2&no_rooms=1&group_children=0&req_children=0&hpos=8&hapos=8&sr_order=popularity&srpvid=3ccb43820e8500f8&srepoch=1726133767&all_sr_blocks=1145762901_387416977_2_0_0&highlighted_blocks=1145762901_387416977_2_0_0&matching_block_id=1145762901_387416977_2_0_0&sr_pri_blocks=1145762901_387416977_2_0_0__10533&from=searchresults', 'https://www.booking.com/hotel/fr/la-pause-petillante.en-gb.html?label=en-fr-booking-desktop-Akb7DsuMl_04Kj1fagYeEgS652796016858%3Apl%3Ata%3Ap1%3Ap2%3Aac%3Aap%3Aneg%3Afi%3Atikwd-65526620%3Alp1006094%3Ali%3Adec%3Adm&sid=f2480d4adff900632cc88bb076d858c9&aid=2311236&ucfs=1&arphpl=1&checkin=2024-09-18&checkout=2024-09-19&dest_id=5865396&dest_type=hotel&group_adults=2&req_adults=2&no_rooms=1&group_children=0&req_children=0&hpos=9&hapos=9&sr_order=popularity&srpvid=3ccb43820e8500f8&srepoch=1726133767&all_sr_blocks=1040530401_376499769_2_0_0&highlighted_blocks=1040530401_376499769_2_0_0&matching_block_id=1040530401_376499769_2_0_0&sr_pri_blocks=1040530401_376499769_2_0_0__8510&from=searchresults', 'https://www.booking.com/hotel/fr/appartement-entier-f3-renove.en-gb.html?label=en-fr-booking-desktop-Akb7DsuMl_04Kj1fagYeEgS652796016858%3Apl%3Ata%3Ap1%3Ap2%3Aac%3Aap%3Aneg%3Afi%3Atikwd-65526620%3Alp1006094%3Ali%3Adec%3Adm&sid=f2480d4adff900632cc88bb076d858c9&aid=2311236&ucfs=1&arphpl=1&checkin=2024-09-18&checkout=2024-09-19&dest_id=5865396&dest_type=hotel&group_adults=2&req_adults=2&no_rooms=1&group_children=0&req_children=0&hpos=10&hapos=10&sr_order=popularity&srpvid=3ccb43820e8500f8&srepoch=1726133767&all_sr_blocks=1261593301_398778447_5_0_0&highlighted_blocks=1261593301_398778447_5_0_0&matching_block_id=1261593301_398778447_5_0_0&sr_pri_blocks=1261593301_398778447_5_0_0__9833&from=searchresults', 'https://www.booking.com/hotel/fr/gite-les-tourterelles-selestat.en-gb.html?label=en-fr-booking-desktop-Akb7DsuMl_04Kj1fagYeEgS652796016858%3Apl%3Ata%3Ap1%3Ap2%3Aac%3Aap%3Aneg%3Afi%3Atikwd-65526620%3Alp1006094%3Ali%3Adec%3Adm&sid=f2480d4adff900632cc88bb076d858c9&aid=2311236&ucfs=1&arphpl=1&checkin=2024-09-18&checkout=2024-09-19&dest_id=5865396&dest_type=hotel&group_adults=2&req_adults=2&no_rooms=1&group_children=0&req_children=0&hpos=11&hapos=11&sr_order=popularity&srpvid=3ccb43820e8500f8&srepoch=1726133767&all_sr_blocks=371685401_119873323_2_0_0&highlighted_blocks=371685401_119873323_2_0_0&matching_block_id=371685401_119873323_2_0_0&sr_pri_blocks=371685401_119873323_2_0_0__14459&from=searchresults', 'https://www.booking.com/hotel/fr/selestat-entre-colmar-et-strasbourg.en-gb.html?label=en-fr-booking-desktop-Akb7DsuMl_04Kj1fagYeEgS652796016858%3Apl%3Ata%3Ap1%3Ap2%3Aac%3Aap%3Aneg%3Afi%3Atikwd-65526620%3Alp1006094%3Ali%3Adec%3Adm&sid=f2480d4adff900632cc88bb076d858c9&aid=2311236&ucfs=1&arphpl=1&checkin=2024-09-18&checkout=2024-09-19&dest_id=5865396&dest_type=hotel&group_adults=2&req_adults=2&no_rooms=1&group_children=0&req_children=0&hpos=12&hapos=12&sr_order=popularity&srpvid=3ccb43820e8500f8&srepoch=1726133767&all_sr_blocks=974528301_369834435_2_0_0&highlighted_blocks=974528301_369834435_2_0_0&matching_block_id=974528301_369834435_2_0_0&sr_pri_blocks=974528301_369834435_2_0_0__10830&from=searchresults', 'https://www.booking.com/hotel/fr/gites-de-selestat.en-gb.html?label=en-fr-booking-desktop-Akb7DsuMl_04Kj1fagYeEgS652796016858%3Apl%3Ata%3Ap1%3Ap2%3Aac%3Aap%3Aneg%3Afi%3Atikwd-65526620%3Alp1006094%3Ali%3Adec%3Adm&sid=f2480d4adff900632cc88bb076d858c9&aid=2311236&ucfs=1&arphpl=1&checkin=2024-09-18&checkout=2024-09-19&dest_id=5865396&dest_type=hotel&group_adults=2&req_adults=2&no_rooms=1&group_children=0&req_children=0&hpos=13&hapos=13&sr_order=popularity&srpvid=3ccb43820e8500f8&srepoch=1726133767&all_sr_blocks=198874901_94061967_2_0_0&highlighted_blocks=198874901_94061967_2_0_0&matching_block_id=198874901_94061967_2_0_0&sr_pri_blocks=198874901_94061967_2_0_0__10611&from_sustainable_property_sr=1&from=searchresults', 'https://www.booking.com/hotel/fr/gite-le-colombier.en-gb.html?label=en-fr-booking-desktop-Akb7DsuMl_04Kj1fagYeEgS652796016858%3Apl%3Ata%3Ap1%3Ap2%3Aac%3Aap%3Aneg%3Afi%3Atikwd-65526620%3Alp1006094%3Ali%3Adec%3Adm&sid=f2480d4adff900632cc88bb076d858c9&aid=2311236&ucfs=1&arphpl=1&checkin=2024-09-18&checkout=2024-09-19&dest_id=5865396&dest_type=hotel&group_adults=2&req_adults=2&no_rooms=1&group_children=0&req_children=0&hpos=14&hapos=14&sr_order=popularity&srpvid=3ccb43820e8500f8&srepoch=1726133767&all_sr_blocks=291996401_109210794_2_0_0&highlighted_blocks=291996401_109210794_2_0_0&matching_block_id=291996401_109210794_2_0_0&sr_pri_blocks=291996401_109210794_2_0_0__11701&from_sustainable_property_sr=1&from=searchresults', 'https://www.booking.com/hotel/fr/le-pelican-annecy1.en-gb.html?label=en-fr-booking-desktop-Akb7DsuMl_04Kj1fagYeEgS652796016858%3Apl%3Ata%3Ap1%3Ap2%3Aac%3Aap%3Aneg%3Afi%3Atikwd-65526620%3Alp1006094%3Ali%3Adec%3Adm&sid=f2480d4adff900632cc88bb076d858c9&aid=2311236&ucfs=1&arphpl=1&checkin=2024-09-18&checkout=2024-09-19&dest_id=-1407760&dest_type=city&group_adults=2&req_adults=2&no_rooms=1&group_children=0&req_children=0&hpos=1&hapos=1&sr_order=popularity&nflt=ht_id%3D204&srpvid=0dc743829c070305&srepoch=1726133767&all_sr_blocks=756018801_332440559_2_2_0&highlighted_blocks=756018801_332440559_2_2_0&matching_block_id=756018801_332440559_2_2_0&sr_pri_blocks=756018801_332440559_2_2_0__19890&from_sustainable_property_sr=1&from=searchresults', 'https://www.booking.com/hotel/fr/marina-bay-hotels.en-gb.html?label=en-fr-booking-desktop-Akb7DsuMl_04Kj1fagYeEgS652796016858%3Apl%3Ata%3Ap1%3Ap2%3Aac%3Aap%3Aneg%3Afi%3Atikwd-65526620%3Alp1006094%3Ali%3Adec%3Adm&sid=f2480d4adff900632cc88bb076d858c9&aid=2311236&ucfs=1&arphpl=1&checkin=2024-09-18&checkout=2024-09-19&dest_id=-1407760&dest_type=city&group_adults=2&req_adults=2&no_rooms=1&group_children=0&req_children=0&hpos=2&hapos=2&sr_order=popularity&nflt=ht_id%3D204&srpvid=0dc743829c070305&srepoch=1726133767&all_sr_blocks=24211112_115733245_0_2_0&highlighted_blocks=24211112_115733245_0_2_0&matching_block_id=24211112_115733245_0_2_0&sr_pri_blocks=24211112_115733245_0_2_0__11200&from=searchresults', 'https://www.booking.com/hotel/fr/ace-annecy.en-gb.html?label=en-fr-booking-desktop-Akb7DsuMl_04Kj1fagYeEgS652796016858%3Apl%3Ata%3Ap1%3Ap2%3Aac%3Aap%3Aneg%3Afi%3Atikwd-65526620%3Alp1006094%3Ali%3Adec%3Adm&sid=f2480d4adff900632cc88bb076d858c9&aid=2311236&ucfs=1&arphpl=1&checkin=2024-09-18&checkout=2024-09-19&dest_id=-1407760&dest_type=city&group_adults=2&req_adults=2&no_rooms=1&group_children=0&req_children=0&hpos=3&hapos=3&sr_order=popularity&nflt=ht_id%3D204&srpvid=0dc743829c070305&srepoch=1726133767&all_sr_blocks=120263602_375993374_0_2_0&highlighted_blocks=120263602_375993374_0_2_0&matching_block_id=120263602_375993374_0_2_0&sr_pri_blocks=120263602_375993374_0_2_0__8220&from_sustainable_property_sr=1&from=searchresults', 'https://www.booking.com/hotel/fr/du-palais-de-l-isle-annecy.en-gb.html?label=en-fr-booking-desktop-Akb7DsuMl_04Kj1fagYeEgS652796016858%3Apl%3Ata%3Ap1%3Ap2%3Aac%3Aap%3Aneg%3Afi%3Atikwd-65526620%3Alp1006094%3Ali%3Adec%3Adm&sid=f2480d4adff900632cc88bb076d858c9&aid=2311236&ucfs=1&arphpl=1&checkin=2024-09-18&checkout=2024-09-19&dest_id=-1407760&dest_type=city&group_adults=2&req_adults=2&no_rooms=1&group_children=0&req_children=0&hpos=4&hapos=4&sr_order=popularity&nflt=ht_id%3D204&srpvid=0dc743829c070305&srepoch=1726133767&all_sr_blocks=18571511_195842249_2_34_0&highlighted_blocks=18571511_195842249_2_34_0&matching_block_id=18571511_195842249_2_34_0&sr_pri_blocks=18571511_195842249_2_34_0__20620&from_sustainable_property_sr=1&from=searchresults', 'https://www.booking.com/hotel/fr/appart-city-annecy-seynod.en-gb.html?label=en-fr-booking-desktop-Akb7DsuMl_04Kj1fagYeEgS652796016858%3Apl%3Ata%3Ap1%3Ap2%3Aac%3Aap%3Aneg%3Afi%3Atikwd-65526620%3Alp1006094%3Ali%3Adec%3Adm&sid=f2480d4adff900632cc88bb076d858c9&aid=2311236&ucfs=1&arphpl=1&checkin=2024-09-18&checkout=2024-09-19&dest_id=-1407760&dest_type=city&group_adults=2&req_adults=2&no_rooms=1&group_children=0&req_children=0&hpos=5&hapos=5&sr_order=popularity&nflt=ht_id%3D204&srpvid=0dc743829c070305&srepoch=1726133767&all_sr_blocks=18332721_93713336_0_2_0&highlighted_blocks=18332721_93713336_0_2_0&matching_block_id=18332721_93713336_0_2_0&sr_pri_blocks=18332721_93713336_0_2_0__9850&from_sustainable_property_sr=1&from=searchresults', 'https://www.booking.com/hotel/fr/all-suites-besancon.en-gb.html?label=en-fr-booking-desktop-Akb7DsuMl_04Kj1fagYeEgS652796016858%3Apl%3Ata%3Ap1%3Ap2%3Aac%3Aap%3Aneg%3Afi%3Atikwd-65526620%3Alp1006094%3Ali%3Adec%3Adm&sid=f2480d4adff900632cc88bb076d858c9&aid=2311236&ucfs=1&arphpl=1&checkin=2024-09-18&checkout=2024-09-19&dest_id=-1412198&dest_type=city&group_adults=2&req_adults=2&no_rooms=1&group_children=0&req_children=0&hpos=1&hapos=1&sr_order=popularity&nflt=ht_id%3D204&srpvid=415443820da6006d&srepoch=1726133767&all_sr_blocks=27253102_127376179_0_0_0&highlighted_blocks=27253102_127376179_0_0_0&matching_block_id=27253102_127376179_0_0_0&sr_pri_blocks=27253102_127376179_0_0_0__6630&from=searchresults', 'https://www.booking.com/hotel/fr/hoteldebonlieu.en-gb.html?label=en-fr-booking-desktop-Akb7DsuMl_04Kj1fagYeEgS652796016858%3Apl%3Ata%3Ap1%3Ap2%3Aac%3Aap%3Aneg%3Afi%3Atikwd-65526620%3Alp1006094%3Ali%3Adec%3Adm&sid=f2480d4adff900632cc88bb076d858c9&aid=2311236&ucfs=1&arphpl=1&checkin=2024-09-18&checkout=2024-09-19&dest_id=-1407760&dest_type=city&group_adults=2&req_adults=2&no_rooms=1&group_children=0&req_children=0&hpos=6&hapos=6&sr_order=popularity&nflt=ht_id%3D204&srpvid=0dc743829c070305&srepoch=1726133767&all_sr_blocks=5197708_81662194_0_2_0&highlighted_blocks=5197708_81662194_0_2_0&matching_block_id=5197708_81662194_0_2_0&sr_pri_blocks=5197708_81662194_0_2_0__13320&from_sustainable_property_sr=1&from=searchresults', 'https://www.booking.com/hotel/fr/au-faisan-dora-c.en-gb.html?label=en-fr-booking-desktop-Akb7DsuMl_04Kj1fagYeEgS652796016858%3Apl%3Ata%3Ap1%3Ap2%3Aac%3Aap%3Aneg%3Afi%3Atikwd-65526620%3Alp1006094%3Ali%3Adec%3Adm&sid=f2480d4adff900632cc88bb076d858c9&aid=2311236&ucfs=1&arphpl=1&checkin=2024-09-18&checkout=2024-09-19&dest_id=-1407760&dest_type=city&group_adults=2&req_adults=2&no_rooms=1&group_children=0&req_children=0&hpos=7&hapos=7&sr_order=popularity&nflt=ht_id%3D204&srpvid=0dc743829c070305&srepoch=1726133767&all_sr_blocks=37631304_363243986_0_2_0&highlighted_blocks=37631304_363243986_0_2_0&matching_block_id=37631304_363243986_0_2_0&sr_pri_blocks=37631304_363243986_0_2_0__16120&from=searchresults', 'https://www.booking.com/hotel/fr/best-ha-tel-annecy.en-gb.html?label=en-fr-booking-desktop-Akb7DsuMl_04Kj1fagYeEgS652796016858%3Apl%3Ata%3Ap1%3Ap2%3Aac%3Aap%3Aneg%3Afi%3Atikwd-65526620%3Alp1006094%3Ali%3Adec%3Adm&sid=f2480d4adff900632cc88bb076d858c9&aid=2311236&ucfs=1&arphpl=1&checkin=2024-09-18&checkout=2024-09-19&dest_id=-1407760&dest_type=city&group_adults=2&req_adults=2&no_rooms=1&group_children=0&req_children=0&hpos=8&hapos=8&sr_order=popularity&nflt=ht_id%3D204&srpvid=0dc743829c070305&srepoch=1726133767&all_sr_blocks=44247614_91474809_2_2_0&highlighted_blocks=44247614_91474809_2_2_0&matching_block_id=44247614_91474809_2_2_0&sr_pri_blocks=44247614_91474809_2_2_0__9328&from_sustainable_property_sr=1&from=searchresults', 'https://www.booking.com/hotel/fr/des-marquisats.en-gb.html?label=en-fr-booking-desktop-Akb7DsuMl_04Kj1fagYeEgS652796016858%3Apl%3Ata%3Ap1%3Ap2%3Aac%3Aap%3Aneg%3Afi%3Atikwd-65526620%3Alp1006094%3Ali%3Adec%3Adm&sid=f2480d4adff900632cc88bb076d858c9&aid=2311236&ucfs=1&arphpl=1&checkin=2024-09-18&checkout=2024-09-19&dest_id=-1407760&dest_type=city&group_adults=2&req_adults=2&no_rooms=1&group_children=0&req_children=0&hpos=9&hapos=9&sr_order=popularity&nflt=ht_id%3D204&srpvid=0dc743829c070305&srepoch=1726133767&all_sr_blocks=5397509_88918853_0_2_0&highlighted_blocks=5397509_88918853_0_2_0&matching_block_id=5397509_88918853_0_2_0&sr_pri_blocks=5397509_88918853_0_2_0__14920&from_sustainable_property_sr=1&from=searchresults', 'https://www.booking.com/hotel/fr/akena-besancon.en-gb.html?label=en-fr-booking-desktop-Akb7DsuMl_04Kj1fagYeEgS652796016858%3Apl%3Ata%3Ap1%3Ap2%3Aac%3Aap%3Aneg%3Afi%3Atikwd-65526620%3Alp1006094%3Ali%3Adec%3Adm&sid=f2480d4adff900632cc88bb076d858c9&aid=2311236&ucfs=1&arphpl=1&checkin=2024-09-18&checkout=2024-09-19&dest_id=-1412198&dest_type=city&group_adults=2&req_adults=2&no_rooms=1&group_children=0&req_children=0&hpos=2&hapos=2&sr_order=popularity&nflt=ht_id%3D204&srpvid=415443820da6006d&srepoch=1726133767&all_sr_blocks=357249701_369017688_2_2_0&highlighted_blocks=357249701_369017688_2_2_0&matching_block_id=357249701_369017688_2_2_0&sr_pri_blocks=357249701_369017688_2_2_0__9835&from_sustainable_property_sr=1&from=searchresults', 'https://www.booking.com/hotel/fr/citea-besancon.en-gb.html?label=en-fr-booking-desktop-Akb7DsuMl_04Kj1fagYeEgS652796016858%3Apl%3Ata%3Ap1%3Ap2%3Aac%3Aap%3Aneg%3Afi%3Atikwd-65526620%3Alp1006094%3Ali%3Adec%3Adm&sid=f2480d4adff900632cc88bb076d858c9&aid=2311236&ucfs=1&arphpl=1&checkin=2024-09-18&checkout=2024-09-19&dest_id=-1412198&dest_type=city&group_adults=2&req_adults=2&no_rooms=1&group_children=0&req_children=0&hpos=3&hapos=3&sr_order=popularity&nflt=ht_id%3D204&srpvid=415443820da6006d&srepoch=1726133767&all_sr_blocks=5339231_91902714_2_2_0&highlighted_blocks=5339231_91902714_2_2_0&matching_block_id=5339231_91902714_2_2_0&sr_pri_blocks=5339231_91902714_2_2_0__8160&from_sustainable_property_sr=1&from=searchresults', 'https://www.booking.com/hotel/fr/premiere-classe-besancon-ecole-valentin.en-gb.html?label=en-fr-booking-desktop-Akb7DsuMl_04Kj1fagYeEgS652796016858%3Apl%3Ata%3Ap1%3Ap2%3Aac%3Aap%3Aneg%3Afi%3Atikwd-65526620%3Alp1006094%3Ali%3Adec%3Adm&sid=f2480d4adff900632cc88bb076d858c9&aid=2311236&ucfs=1&arphpl=1&checkin=2024-09-18&checkout=2024-09-19&dest_id=-1412198&dest_type=city&group_adults=2&req_adults=2&no_rooms=1&group_children=0&req_children=0&hpos=4&hapos=4&sr_order=popularity&nflt=ht_id%3D204&srpvid=415443820da6006d&srepoch=1726133767&all_sr_blocks=5457003_94105941_3_2_0&highlighted_blocks=5457003_94105941_3_2_0&matching_block_id=5457003_94105941_3_2_0&sr_pri_blocks=5457003_94105941_3_2_0__4872&from=searchresults', 'https://www.booking.com/hotel/fr/fontaine-argent.en-gb.html?label=en-fr-booking-desktop-Akb7DsuMl_04Kj1fagYeEgS652796016858%3Apl%3Ata%3Ap1%3Ap2%3Aac%3Aap%3Aneg%3Afi%3Atikwd-65526620%3Alp1006094%3Ali%3Adec%3Adm&sid=f2480d4adff900632cc88bb076d858c9&aid=2311236&ucfs=1&arphpl=1&checkin=2024-09-18&checkout=2024-09-19&dest_id=-1412198&dest_type=city&group_adults=2&req_adults=2&no_rooms=1&group_children=0&req_children=0&hpos=5&hapos=5&sr_order=popularity&nflt=ht_id%3D204&srpvid=415443820da6006d&srepoch=1726133767&all_sr_blocks=562321701_363689999_0_2_0&highlighted_blocks=562321701_363689999_0_2_0&matching_block_id=562321701_363689999_0_2_0&sr_pri_blocks=562321701_363689999_0_2_0__10168&from_sustainable_property_sr=1&from=searchresults', 'https://www.booking.com/hotel/fr/b-amp-b-annecy-cran-gevrier.en-gb.html?label=en-fr-booking-desktop-Akb7DsuMl_04Kj1fagYeEgS652796016858%3Apl%3Ata%3Ap1%3Ap2%3Aac%3Aap%3Aneg%3Afi%3Atikwd-65526620%3Alp1006094%3Ali%3Adec%3Adm&sid=f2480d4adff900632cc88bb076d858c9&aid=2311236&ucfs=1&arphpl=1&checkin=2024-09-18&checkout=2024-09-19&dest_id=-1407760&dest_type=city&group_adults=2&req_adults=2&no_rooms=1&group_children=0&req_children=0&hpos=10&hapos=10&sr_order=popularity&nflt=ht_id%3D204&srpvid=0dc743829c070305&srepoch=1726133767&all_sr_blocks=1189948801_391339895_0_0_0&highlighted_blocks=1189948801_391339895_0_0_0&matching_block_id=1189948801_391339895_0_0_0&sr_pri_blocks=1189948801_391339895_0_0_0__7870&from=searchresults', 'https://www.booking.com/hotel/fr/imperial-palace.en-gb.html?label=en-fr-booking-desktop-Akb7DsuMl_04Kj1fagYeEgS652796016858%3Apl%3Ata%3Ap1%3Ap2%3Aac%3Aap%3Aneg%3Afi%3Atikwd-65526620%3Alp1006094%3Ali%3Adec%3Adm&sid=f2480d4adff900632cc88bb076d858c9&aid=2311236&ucfs=1&arphpl=1&checkin=2024-09-18&checkout=2024-09-19&dest_id=-1407760&dest_type=city&group_adults=2&req_adults=2&no_rooms=1&group_children=0&req_children=0&hpos=11&hapos=11&sr_order=popularity&nflt=ht_id%3D204&srpvid=0dc743829c070305&srepoch=1726133767&all_sr_blocks=5434045_270549348_2_2_0&highlighted_blocks=5434045_270549348_2_2_0&matching_block_id=5434045_270549348_2_2_0&sr_pri_blocks=5434045_270549348_2_2_0__34490&from=searchresults', 'https://www.booking.com/hotel/fr/greet-annecy.en-gb.html?label=en-fr-booking-desktop-Akb7DsuMl_04Kj1fagYeEgS652796016858%3Apl%3Ata%3Ap1%3Ap2%3Aac%3Aap%3Aneg%3Afi%3Atikwd-65526620%3Alp1006094%3Ali%3Adec%3Adm&sid=f2480d4adff900632cc88bb076d858c9&aid=2311236&ucfs=1&arphpl=1&checkin=2024-09-18&checkout=2024-09-19&dest_id=-1407760&dest_type=city&group_adults=2&req_adults=2&no_rooms=1&group_children=0&req_children=0&hpos=12&hapos=12&sr_order=popularity&nflt=ht_id%3D204&srpvid=0dc743829c070305&srepoch=1726133767&all_sr_blocks=53686305_94487685_2_2_0&highlighted_blocks=53686305_94487685_2_2_0&matching_block_id=53686305_94487685_2_2_0&sr_pri_blocks=53686305_94487685_2_2_0__8200&from_sustainable_property_sr=1&from=searchresults', 'https://www.booking.com/hotel/fr/le-boutik.en-gb.html?label=en-fr-booking-desktop-Akb7DsuMl_04Kj1fagYeEgS652796016858%3Apl%3Ata%3Ap1%3Ap2%3Aac%3Aap%3Aneg%3Afi%3Atikwd-65526620%3Alp1006094%3Ali%3Adec%3Adm&sid=f2480d4adff900632cc88bb076d858c9&aid=2311236&ucfs=1&arphpl=1&checkin=2024-09-18&checkout=2024-09-19&dest_id=-1407760&dest_type=city&group_adults=2&req_adults=2&no_rooms=1&group_children=0&req_children=0&hpos=13&hapos=13&sr_order=popularity&nflt=ht_id%3D204&srpvid=0dc743829c070305&srepoch=1726133767&all_sr_blocks=219683504_375944233_2_2_0&highlighted_blocks=219683504_375944233_2_2_0&matching_block_id=219683504_375944233_2_2_0&sr_pri_blocks=219683504_375944233_2_2_0__18497&from=searchresults', 'https://www.booking.com/hotel/fr/ibis-besancon-la-city.en-gb.html?label=en-fr-booking-desktop-Akb7DsuMl_04Kj1fagYeEgS652796016858%3Apl%3Ata%3Ap1%3Ap2%3Aac%3Aap%3Aneg%3Afi%3Atikwd-65526620%3Alp1006094%3Ali%3Adec%3Adm&sid=f2480d4adff900632cc88bb076d858c9&aid=2311236&ucfs=1&arphpl=1&checkin=2024-09-18&checkout=2024-09-19&dest_id=-1412198&dest_type=city&group_adults=2&req_adults=2&no_rooms=1&group_children=0&req_children=0&hpos=6&hapos=6&sr_order=popularity&nflt=ht_id%3D204&srpvid=415443820da6006d&srepoch=1726133767&all_sr_blocks=54375301_94489139_2_42_0&highlighted_blocks=54375301_94489139_2_42_0&matching_block_id=54375301_94489139_2_42_0&sr_pri_blocks=54375301_94489139_2_42_0__11355&from_sustainable_property_sr=1&from=searchresults', 'https://www.booking.com/hotel/fr/besanconecolevalentin.en-gb.html?label=en-fr-booking-desktop-Akb7DsuMl_04Kj1fagYeEgS652796016858%3Apl%3Ata%3Ap1%3Ap2%3Aac%3Aap%3Aneg%3Afi%3Atikwd-65526620%3Alp1006094%3Ali%3Adec%3Adm&sid=f2480d4adff900632cc88bb076d858c9&aid=2311236&ucfs=1&arphpl=1&checkin=2024-09-18&checkout=2024-09-19&dest_id=-1412198&dest_type=city&group_adults=2&req_adults=2&no_rooms=1&group_children=0&req_children=0&hpos=7&hapos=7&sr_order=popularity&nflt=ht_id%3D204&srpvid=415443820da6006d&srepoch=1726133767&all_sr_blocks=5160102_396283520_2_2_0&highlighted_blocks=5160102_396283520_2_2_0&matching_block_id=5160102_396283520_2_2_0&sr_pri_blocks=5160102_396283520_2_2_0__7986&from=searchresults', 'https://www.booking.com/hotel/fr/b-amp-b-besancon-valentin.en-gb.html?label=en-fr-booking-desktop-Akb7DsuMl_04Kj1fagYeEgS652796016858%3Apl%3Ata%3Ap1%3Ap2%3Aac%3Aap%3Aneg%3Afi%3Atikwd-65526620%3Alp1006094%3Ali%3Adec%3Adm&sid=f2480d4adff900632cc88bb076d858c9&aid=2311236&ucfs=1&arphpl=1&checkin=2024-09-18&checkout=2024-09-19&dest_id=-1412198&dest_type=city&group_adults=2&req_adults=2&no_rooms=1&group_children=0&req_children=0&hpos=8&hapos=8&sr_order=popularity&nflt=ht_id%3D204&srpvid=415443820da6006d&srepoch=1726133767&all_sr_blocks=1069610301_379474316_2_2_0&highlighted_blocks=1069610301_379474316_2_2_0&matching_block_id=1069610301_379474316_2_2_0&sr_pri_blocks=1069610301_379474316_2_2_0__10030&from=searchresults', 'https://www.booking.com/hotel/fr/ibis-budget-besanasson-centre-gare.en-gb.html?label=en-fr-booking-desktop-Akb7DsuMl_04Kj1fagYeEgS652796016858%3Apl%3Ata%3Ap1%3Ap2%3Aac%3Aap%3Aneg%3Afi%3Atikwd-65526620%3Alp1006094%3Ali%3Adec%3Adm&sid=f2480d4adff900632cc88bb076d858c9&aid=2311236&ucfs=1&arphpl=1&checkin=2024-09-18&checkout=2024-09-19&dest_id=-1412198&dest_type=city&group_adults=2&req_adults=2&no_rooms=1&group_children=0&req_children=0&hpos=9&hapos=9&sr_order=popularity&nflt=ht_id%3D204&srpvid=415443820da6006d&srepoch=1726133767&all_sr_blocks=62703702_94498162_2_2_0&highlighted_blocks=62703702_94498162_2_2_0&matching_block_id=62703702_94498162_2_2_0&sr_pri_blocks=62703702_94498162_2_2_0__7338&from_sustainable_property_sr=1&from=searchresults', 'https://www.booking.com/hotel/fr/campanile-besancon-ecole-valentin.en-gb.html?label=en-fr-booking-desktop-Akb7DsuMl_04Kj1fagYeEgS652796016858%3Apl%3Ata%3Ap1%3Ap2%3Aac%3Aap%3Aneg%3Afi%3Atikwd-65526620%3Alp1006094%3Ali%3Adec%3Adm&sid=f2480d4adff900632cc88bb076d858c9&aid=2311236&ucfs=1&arphpl=1&checkin=2024-09-18&checkout=2024-09-19&dest_id=-1412198&dest_type=city&group_adults=2&req_adults=2&no_rooms=1&group_children=0&req_children=0&hpos=10&hapos=10&sr_order=popularity&nflt=ht_id%3D204&srpvid=415443820da6006d&srepoch=1726133767&all_sr_blocks=21990404_102726534_2_42_0&highlighted_blocks=21990404_102726534_2_42_0&matching_block_id=21990404_102726534_2_42_0&sr_pri_blocks=21990404_102726534_2_42_0__7036&from=searchresults', 'https://www.booking.com/hotel/fr/rivage-amp-spa-annecy.en-gb.html?label=en-fr-booking-desktop-Akb7DsuMl_04Kj1fagYeEgS652796016858%3Apl%3Ata%3Ap1%3Ap2%3Aac%3Aap%3Aneg%3Afi%3Atikwd-65526620%3Alp1006094%3Ali%3Adec%3Adm&sid=f2480d4adff900632cc88bb076d858c9&aid=2311236&ucfs=1&arphpl=1&checkin=2024-09-18&checkout=2024-09-19&dest_id=-1407760&dest_type=city&group_adults=2&req_adults=2&no_rooms=1&group_children=0&req_children=0&hpos=14&hapos=14&sr_order=popularity&nflt=ht_id%3D204&srpvid=0dc743829c070305&srepoch=1726133767&all_sr_blocks=720658203_358409785_2_2_0&highlighted_blocks=720658203_358409785_2_2_0&matching_block_id=720658203_358409785_2_2_0&sr_pri_blocks=720658203_358409785_2_2_0__30790&from_sustainable_property_sr=1&from=searchresults', 'https://www.booking.com/hotel/fr/tiallobroges.en-gb.html?label=en-fr-booking-desktop-Akb7DsuMl_04Kj1fagYeEgS652796016858%3Apl%3Ata%3Ap1%3Ap2%3Aac%3Aap%3Aneg%3Afi%3Atikwd-65526620%3Alp1006094%3Ali%3Adec%3Adm&sid=f2480d4adff900632cc88bb076d858c9&aid=2311236&ucfs=1&arphpl=1&checkin=2024-09-18&checkout=2024-09-19&dest_id=-1407760&dest_type=city&group_adults=2&req_adults=2&no_rooms=1&group_children=0&req_children=0&hpos=15&hapos=15&sr_order=popularity&nflt=ht_id%3D204&srpvid=0dc743829c070305&srepoch=1726133767&all_sr_blocks=5037015_354823257_0_2_0&highlighted_blocks=5037015_354823257_0_2_0&matching_block_id=5037015_354823257_0_2_0&sr_pri_blocks=5037015_354823257_0_2_0__21220&from_sustainable_property_sr=1&from=searchresults', 'https://www.booking.com/hotel/fr/leprecarre.en-gb.html?label=en-fr-booking-desktop-Akb7DsuMl_04Kj1fagYeEgS652796016858%3Apl%3Ata%3Ap1%3Ap2%3Aac%3Aap%3Aneg%3Afi%3Atikwd-65526620%3Alp1006094%3Ali%3Adec%3Adm&sid=f2480d4adff900632cc88bb076d858c9&aid=2311236&ucfs=1&arphpl=1&checkin=2024-09-18&checkout=2024-09-19&dest_id=-1407760&dest_type=city&group_adults=2&req_adults=2&no_rooms=1&group_children=0&req_children=0&hpos=16&hapos=16&sr_order=popularity&nflt=ht_id%3D204&srpvid=0dc743829c070305&srepoch=1726133767&all_sr_blocks=5315414_81662140_2_2_0&highlighted_blocks=5315414_81662140_2_2_0&matching_block_id=5315414_81662140_2_2_0&sr_pri_blocks=5315414_81662140_2_2_0__20890&from_sustainable_property_sr=1&from=searchresults', 'https://www.booking.com/hotel/fr/bestwesterncarlton.en-gb.html?label=en-fr-booking-desktop-Akb7DsuMl_04Kj1fagYeEgS652796016858%3Apl%3Ata%3Ap1%3Ap2%3Aac%3Aap%3Aneg%3Afi%3Atikwd-65526620%3Alp1006094%3Ali%3Adec%3Adm&sid=f2480d4adff900632cc88bb076d858c9&aid=2311236&ucfs=1&arphpl=1&checkin=2024-09-18&checkout=2024-09-19&dest_id=-1407760&dest_type=city&group_adults=2&req_adults=2&no_rooms=1&group_children=0&req_children=0&hpos=17&hapos=17&sr_order=popularity&nflt=ht_id%3D204&srpvid=0dc743829c070305&srepoch=1726133767&all_sr_blocks=5078119_338215776_2_2_0&highlighted_blocks=5078119_338215776_2_2_0&matching_block_id=5078119_338215776_2_2_0&sr_pri_blocks=5078119_338215776_2_2_0__24490&from_sustainable_property_sr=1&from=searchresults', 'https://www.booking.com/hotel/fr/foch-besancon.en-gb.html?label=en-fr-booking-desktop-Akb7DsuMl_04Kj1fagYeEgS652796016858%3Apl%3Ata%3Ap1%3Ap2%3Aac%3Aap%3Aneg%3Afi%3Atikwd-65526620%3Alp1006094%3Ali%3Adec%3Adm&sid=f2480d4adff900632cc88bb076d858c9&aid=2311236&ucfs=1&arphpl=1&checkin=2024-09-18&checkout=2024-09-19&dest_id=-1412198&dest_type=city&group_adults=2&req_adults=2&no_rooms=1&group_children=0&req_children=0&hpos=11&hapos=11&sr_order=popularity&nflt=ht_id%3D204&srpvid=415443820da6006d&srepoch=1726133767&all_sr_blocks=2429503_363846831_2_2_0&highlighted_blocks=2429503_363846831_2_2_0&matching_block_id=2429503_363846831_2_2_0&sr_pri_blocks=2429503_363846831_2_2_0__7330&from_sustainable_property_sr=1&from=searchresults', 'https://www.booking.com/hotel/fr/logis-de-france-florel.en-gb.html?label=en-fr-booking-desktop-Akb7DsuMl_04Kj1fagYeEgS652796016858%3Apl%3Ata%3Ap1%3Ap2%3Aac%3Aap%3Aneg%3Afi%3Atikwd-65526620%3Alp1006094%3Ali%3Adec%3Adm&sid=f2480d4adff900632cc88bb076d858c9&aid=2311236&ucfs=1&arphpl=1&checkin=2024-09-18&checkout=2024-09-19&dest_id=-1412198&dest_type=city&group_adults=2&req_adults=2&no_rooms=1&group_children=0&req_children=0&hpos=12&hapos=12&sr_order=popularity&nflt=ht_id%3D204&srpvid=415443820da6006d&srepoch=1726133767&all_sr_blocks=5750517_245444431_0_2_0&highlighted_blocks=5750517_245444431_0_2_0&matching_block_id=5750517_245444431_0_2_0&sr_pri_blocks=5750517_245444431_0_2_0__15240&from=searchresults', 'https://www.booking.com/hotel/fr/ibis-budget.en-gb.html?label=en-fr-booking-desktop-Akb7DsuMl_04Kj1fagYeEgS652796016858%3Apl%3Ata%3Ap1%3Ap2%3Aac%3Aap%3Aneg%3Afi%3Atikwd-65526620%3Alp1006094%3Ali%3Adec%3Adm&sid=f2480d4adff900632cc88bb076d858c9&aid=2311236&ucfs=1&arphpl=1&checkin=2024-09-18&checkout=2024-09-19&dest_id=-1412198&dest_type=city&group_adults=2&req_adults=2&no_rooms=1&group_children=0&req_children=0&hpos=13&hapos=13&sr_order=popularity&nflt=ht_id%3D204&srpvid=415443820da6006d&srepoch=1726133767&all_sr_blocks=40958913_96986623_3_34_0&highlighted_blocks=40958913_96986623_3_34_0&matching_block_id=40958913_96986623_3_34_0&sr_pri_blocks=40958913_96986623_3_34_0__5263&from=searchresults', 'https://www.booking.com/hotel/fr/kyriad-besancon-palente.en-gb.html?label=en-fr-booking-desktop-Akb7DsuMl_04Kj1fagYeEgS652796016858%3Apl%3Ata%3Ap1%3Ap2%3Aac%3Aap%3Aneg%3Afi%3Atikwd-65526620%3Alp1006094%3Ali%3Adec%3Adm&sid=f2480d4adff900632cc88bb076d858c9&aid=2311236&ucfs=1&arphpl=1&checkin=2024-09-18&checkout=2024-09-19&dest_id=-1412198&dest_type=city&group_adults=2&req_adults=2&no_rooms=1&group_children=0&req_children=0&hpos=14&hapos=14&sr_order=popularity&nflt=ht_id%3D204&srpvid=415443820da6006d&srepoch=1726133767&all_sr_blocks=17624008_102726069_2_2_0&highlighted_blocks=17624008_102726069_2_2_0&matching_block_id=17624008_102726069_2_2_0&sr_pri_blocks=17624008_102726069_2_2_0__8220&from=searchresults', 'https://www.booking.com/hotel/fr/logis-de-france-novel-rest-la-mamma.en-gb.html?label=en-fr-booking-desktop-Akb7DsuMl_04Kj1fagYeEgS652796016858%3Apl%3Ata%3Ap1%3Ap2%3Aac%3Aap%3Aneg%3Afi%3Atikwd-65526620%3Alp1006094%3Ali%3Adec%3Adm&sid=f2480d4adff900632cc88bb076d858c9&aid=2311236&ucfs=1&arphpl=1&checkin=2024-09-18&checkout=2024-09-19&dest_id=-1407760&dest_type=city&group_adults=2&req_adults=2&no_rooms=1&group_children=0&req_children=0&hpos=18&hapos=18&sr_order=popularity&nflt=ht_id%3D204&srpvid=0dc743829c070305&srepoch=1726133767&all_sr_blocks=5518602_365571562_0_2_0&highlighted_blocks=5518602_365571562_0_2_0&matching_block_id=5518602_365571562_0_2_0&sr_pri_blocks=5518602_365571562_0_2_0__12720&from_sustainable_property_sr=1&from=searchresults', 'https://www.booking.com/hotel/fr/hotel-balladins-annecy-superior.en-gb.html?label=en-fr-booking-desktop-Akb7DsuMl_04Kj1fagYeEgS652796016858%3Apl%3Ata%3Ap1%3Ap2%3Aac%3Aap%3Aneg%3Afi%3Atikwd-65526620%3Alp1006094%3Ali%3Adec%3Adm&sid=f2480d4adff900632cc88bb076d858c9&aid=2311236&ucfs=1&arphpl=1&checkin=2024-09-18&checkout=2024-09-19&dest_id=-1407760&dest_type=city&group_adults=2&req_adults=2&no_rooms=1&group_children=0&req_children=0&hpos=19&hapos=19&sr_order=popularity&nflt=ht_id%3D204&srpvid=0dc743829c070305&srepoch=1726133767&all_sr_blocks=23081417_91467969_2_2_0&highlighted_blocks=23081417_91467969_2_2_0&matching_block_id=23081417_91467969_2_2_0&sr_pri_blocks=23081417_91467969_2_2_0__12788&from_sustainable_property_sr=1&from=searchresults', 'https://www.booking.com/hotel/fr/campanile-annecy.en-gb.html?label=en-fr-booking-desktop-Akb7DsuMl_04Kj1fagYeEgS652796016858%3Apl%3Ata%3Ap1%3Ap2%3Aac%3Aap%3Aneg%3Afi%3Atikwd-65526620%3Alp1006094%3Ali%3Adec%3Adm&sid=f2480d4adff900632cc88bb076d858c9&aid=2311236&ucfs=1&arphpl=1&checkin=2024-09-18&checkout=2024-09-19&dest_id=-1407760&dest_type=city&group_adults=2&req_adults=2&no_rooms=1&group_children=0&req_children=0&hpos=20&hapos=20&sr_order=popularity&nflt=ht_id%3D204&srpvid=0dc743829c070305&srepoch=1726133767&all_sr_blocks=5497008_0_2_0_0&highlighted_blocks=5497008_0_2_0_0&matching_block_id=5497008_0_2_0_0&sr_pri_blocks=5497008_0_2_0_0__8600&from_sustainable_property_sr=1&from=searchresults', 'https://www.booking.com/hotel/fr/le-royal.en-gb.html?label=en-fr-booking-desktop-Akb7DsuMl_04Kj1fagYeEgS652796016858%3Apl%3Ata%3Ap1%3Ap2%3Aac%3Aap%3Aneg%3Afi%3Atikwd-65526620%3Alp1006094%3Ali%3Adec%3Adm&sid=f2480d4adff900632cc88bb076d858c9&aid=2311236&ucfs=1&arphpl=1&checkin=2024-09-18&checkout=2024-09-19&dest_id=-1407760&dest_type=city&group_adults=2&req_adults=2&no_rooms=1&group_children=0&req_children=0&hpos=21&hapos=21&sr_order=popularity&nflt=ht_id%3D204&srpvid=0dc743829c070305&srepoch=1726133767&all_sr_blocks=5364537_88918802_2_2_0&highlighted_blocks=5364537_88918802_2_2_0&matching_block_id=5364537_88918802_2_2_0&sr_pri_blocks=5364537_88918802_2_2_0__19920&from=searchresults', 'https://www.booking.com/hotel/fr/residence-hauts-du-chazal.en-gb.html?label=en-fr-booking-desktop-Akb7DsuMl_04Kj1fagYeEgS652796016858%3Apl%3Ata%3Ap1%3Ap2%3Aac%3Aap%3Aneg%3Afi%3Atikwd-65526620%3Alp1006094%3Ali%3Adec%3Adm&sid=f2480d4adff900632cc88bb076d858c9&aid=2311236&ucfs=1&arphpl=1&checkin=2024-09-18&checkout=2024-09-19&dest_id=-1412198&dest_type=city&group_adults=2&req_adults=2&no_rooms=1&group_children=0&req_children=0&hpos=15&hapos=15&sr_order=popularity&nflt=ht_id%3D204&srpvid=415443820da6006d&srepoch=1726133767&all_sr_blocks=27394701_88985743_0_2_0&highlighted_blocks=27394701_88985743_0_2_0&matching_block_id=27394701_88985743_0_2_0&sr_pri_blocks=27394701_88985743_0_2_0__8861&from_sustainable_property_sr=1&from=searchresults', 'https://www.booking.com/hotel/fr/de-paris-besanasson.en-gb.html?label=en-fr-booking-desktop-Akb7DsuMl_04Kj1fagYeEgS652796016858%3Apl%3Ata%3Ap1%3Ap2%3Aac%3Aap%3Aneg%3Afi%3Atikwd-65526620%3Alp1006094%3Ali%3Adec%3Adm&sid=f2480d4adff900632cc88bb076d858c9&aid=2311236&ucfs=1&arphpl=1&checkin=2024-09-18&checkout=2024-09-19&dest_id=-1412198&dest_type=city&group_adults=2&req_adults=2&no_rooms=1&group_children=0&req_children=0&hpos=16&hapos=16&sr_order=popularity&nflt=ht_id%3D204&srpvid=415443820da6006d&srepoch=1726133767&all_sr_blocks=46971610_363647665_0_2_0%2C46971610_363647665_0_2_0&highlighted_blocks=46971610_363647665_0_2_0%2C46971610_363647665_0_2_0&matching_block_id=46971610_363647665_0_2_0&sr_pri_blocks=46971610_363647665_0_2_0__9300%2C46971610_363647665_0_2_0__9300&from=searchresults', 'https://www.booking.com/hotel/fr/b-amp-b-besancon.en-gb.html?label=en-fr-booking-desktop-Akb7DsuMl_04Kj1fagYeEgS652796016858%3Apl%3Ata%3Ap1%3Ap2%3Aac%3Aap%3Aneg%3Afi%3Atikwd-65526620%3Alp1006094%3Ali%3Adec%3Adm&sid=f2480d4adff900632cc88bb076d858c9&aid=2311236&ucfs=1&arphpl=1&checkin=2024-09-18&checkout=2024-09-19&dest_id=-1412198&dest_type=city&group_adults=2&req_adults=2&no_rooms=1&group_children=0&req_children=0&hpos=17&hapos=17&sr_order=popularity&nflt=ht_id%3D204&srpvid=415443820da6006d&srepoch=1726133767&all_sr_blocks=202119806_94664202_2_0_0&highlighted_blocks=202119806_94664202_2_0_0&matching_block_id=202119806_94664202_2_0_0&sr_pri_blocks=202119806_94664202_2_0_0__8898&from=searchresults', 'https://www.booking.com/hotel/fr/le-regina-besancon.en-gb.html?label=en-fr-booking-desktop-Akb7DsuMl_04Kj1fagYeEgS652796016858%3Apl%3Ata%3Ap1%3Ap2%3Aac%3Aap%3Aneg%3Afi%3Atikwd-65526620%3Alp1006094%3Ali%3Adec%3Adm&sid=f2480d4adff900632cc88bb076d858c9&aid=2311236&ucfs=1&arphpl=1&checkin=2024-09-18&checkout=2024-09-19&dest_id=-1412198&dest_type=city&group_adults=2&req_adults=2&no_rooms=1&group_children=0&req_children=0&hpos=18&hapos=18&sr_order=popularity&nflt=ht_id%3D204&srpvid=415443820da6006d&srepoch=1726133767&all_sr_blocks=496252706_379105408_4_2_0&highlighted_blocks=496252706_379105408_4_2_0&matching_block_id=496252706_379105408_4_2_0&sr_pri_blocks=496252706_379105408_4_2_0__12800&from=searchresults', 'https://www.booking.com/hotel/fr/centre-jean-xxiii.en-gb.html?label=en-fr-booking-desktop-Akb7DsuMl_04Kj1fagYeEgS652796016858%3Apl%3Ata%3Ap1%3Ap2%3Aac%3Aap%3Aneg%3Afi%3Atikwd-65526620%3Alp1006094%3Ali%3Adec%3Adm&sid=f2480d4adff900632cc88bb076d858c9&aid=2311236&ucfs=1&arphpl=1&checkin=2024-09-18&checkout=2024-09-19&dest_id=-1407760&dest_type=city&group_adults=2&req_adults=2&no_rooms=1&group_children=0&req_children=0&hpos=22&hapos=22&sr_order=popularity&nflt=ht_id%3D204&srpvid=0dc743829c070305&srepoch=1726133767&all_sr_blocks=241753809_101827910_2_1_0&highlighted_blocks=241753809_101827910_2_1_0&matching_block_id=241753809_101827910_2_1_0&sr_pri_blocks=241753809_101827910_2_1_0__11370&from_sustainable_property_sr=1&from=searchresults', 'https://www.booking.com/hotel/fr/auberge-du-lyonnais-annecy.en-gb.html?label=en-fr-booking-desktop-Akb7DsuMl_04Kj1fagYeEgS652796016858%3Apl%3Ata%3Ap1%3Ap2%3Aac%3Aap%3Aneg%3Afi%3Atikwd-65526620%3Alp1006094%3Ali%3Adec%3Adm&sid=f2480d4adff900632cc88bb076d858c9&aid=2311236&ucfs=1&arphpl=1&checkin=2024-09-18&checkout=2024-09-19&dest_id=-1407760&dest_type=city&group_adults=2&req_adults=2&no_rooms=1&group_children=0&req_children=0&hpos=23&hapos=23&sr_order=popularity&nflt=ht_id%3D204&srpvid=0dc743829c070305&srepoch=1726133767&all_sr_blocks=995526302_372443702_0_2_0&highlighted_blocks=995526302_372443702_0_2_0&matching_block_id=995526302_372443702_0_2_0&sr_pri_blocks=995526302_372443702_0_2_0__25823&from_sustainable_property_sr=1&from=searchresults', 'https://www.booking.com/hotel/fr/ibis-annecy-centre-vieille-ville.en-gb.html?label=en-fr-booking-desktop-Akb7DsuMl_04Kj1fagYeEgS652796016858%3Apl%3Ata%3Ap1%3Ap2%3Aac%3Aap%3Aneg%3Afi%3Atikwd-65526620%3Alp1006094%3Ali%3Adec%3Adm&sid=f2480d4adff900632cc88bb076d858c9&aid=2311236&ucfs=1&arphpl=1&checkin=2024-09-18&checkout=2024-09-19&dest_id=-1407760&dest_type=city&group_adults=2&req_adults=2&no_rooms=1&group_children=0&req_children=0&hpos=24&hapos=24&sr_order=popularity&nflt=ht_id%3D204&srpvid=0dc743829c070305&srepoch=1726133767&all_sr_blocks=56932504_376293274_2_34_0&highlighted_blocks=56932504_376293274_2_34_0&matching_block_id=56932504_376293274_2_34_0&sr_pri_blocks=56932504_376293274_2_34_0__20020&from_sustainable_property_sr=1&from=searchresults', 'https://www.booking.com/hotel/fr/premiere-classe-annecy-cran-gevrier.en-gb.html?label=en-fr-booking-desktop-Akb7DsuMl_04Kj1fagYeEgS652796016858%3Apl%3Ata%3Ap1%3Ap2%3Aac%3Aap%3Aneg%3Afi%3Atikwd-65526620%3Alp1006094%3Ali%3Adec%3Adm&sid=f2480d4adff900632cc88bb076d858c9&aid=2311236&ucfs=1&arphpl=1&checkin=2024-09-18&checkout=2024-09-19&dest_id=-1407760&dest_type=city&group_adults=2&req_adults=2&no_rooms=1&group_children=0&req_children=0&hpos=25&hapos=25&sr_order=popularity&nflt=ht_id%3D204&srpvid=0dc743829c070305&srepoch=1726133767&all_sr_blocks=166484903_250734044_3_2_0&highlighted_blocks=166484903_250734044_3_2_0&matching_block_id=166484903_250734044_3_2_0&sr_pri_blocks=166484903_250734044_3_2_0__8235&from_sustainable_property_sr=1&from=searchresults', 'https://www.booking.com/hotel/fr/campanile-besancon-ouest-chateaufarine.en-gb.html?label=en-fr-booking-desktop-Akb7DsuMl_04Kj1fagYeEgS652796016858%3Apl%3Ata%3Ap1%3Ap2%3Aac%3Aap%3Aneg%3Afi%3Atikwd-65526620%3Alp1006094%3Ali%3Adec%3Adm&sid=f2480d4adff900632cc88bb076d858c9&aid=2311236&ucfs=1&arphpl=1&checkin=2024-09-18&checkout=2024-09-19&dest_id=-1412198&dest_type=city&group_adults=2&req_adults=2&no_rooms=1&group_children=0&req_children=0&hpos=19&hapos=19&sr_order=popularity&nflt=ht_id%3D204&srpvid=415443820da6006d&srepoch=1726133767&all_sr_blocks=21945403_102727622_2_2_0&highlighted_blocks=21945403_102727622_2_2_0&matching_block_id=21945403_102727622_2_2_0&sr_pri_blocks=21945403_102727622_2_2_0__6430&from_sustainable_property_sr=1&from=searchresults', 'https://www.booking.com/hotel/fr/accueil-besancon.en-gb.html?label=en-fr-booking-desktop-Akb7DsuMl_04Kj1fagYeEgS652796016858%3Apl%3Ata%3Ap1%3Ap2%3Aac%3Aap%3Aneg%3Afi%3Atikwd-65526620%3Alp1006094%3Ali%3Adec%3Adm&sid=f2480d4adff900632cc88bb076d858c9&aid=2311236&ucfs=1&arphpl=1&checkin=2024-09-18&checkout=2024-09-19&dest_id=-1412198&dest_type=city&group_adults=2&req_adults=2&no_rooms=1&group_children=0&req_children=0&hpos=20&hapos=20&sr_order=popularity&nflt=ht_id%3D204&srpvid=415443820da6006d&srepoch=1726133767&all_sr_blocks=1120985104_384889844_0_2_0&highlighted_blocks=1120985104_384889844_0_2_0&matching_block_id=1120985104_384889844_0_2_0&sr_pri_blocks=1120985104_384889844_0_2_0__4533&from=searchresults', 'https://www.booking.com/hotel/fr/hotelf1-besancon-ouest-micropolis.en-gb.html?label=en-fr-booking-desktop-Akb7DsuMl_04Kj1fagYeEgS652796016858%3Apl%3Ata%3Ap1%3Ap2%3Aac%3Aap%3Aneg%3Afi%3Atikwd-65526620%3Alp1006094%3Ali%3Adec%3Adm&sid=f2480d4adff900632cc88bb076d858c9&aid=2311236&ucfs=1&arphpl=1&checkin=2024-09-18&checkout=2024-09-19&dest_id=-1412198&dest_type=city&group_adults=2&req_adults=2&no_rooms=1&group_children=0&req_children=0&hpos=21&hapos=21&sr_order=popularity&nflt=ht_id%3D204&srpvid=415443820da6006d&srepoch=1726133767&all_sr_blocks=66264403_376293134_2_2_0&highlighted_blocks=66264403_376293134_2_2_0&matching_block_id=66264403_376293134_2_2_0&sr_pri_blocks=66264403_376293134_2_2_0__4276&from=searchresults', 'https://www.booking.com/hotel/fr/zanzibar-suite.en-gb.html?label=en-fr-booking-desktop-Akb7DsuMl_04Kj1fagYeEgS652796016858%3Apl%3Ata%3Ap1%3Ap2%3Aac%3Aap%3Aneg%3Afi%3Atikwd-65526620%3Alp1006094%3Ali%3Adec%3Adm&sid=f2480d4adff900632cc88bb076d858c9&aid=2311236&ucfs=1&arphpl=1&checkin=2024-09-18&checkout=2024-09-19&dest_id=-1412198&dest_type=city&group_adults=2&req_adults=2&no_rooms=1&group_children=0&req_children=0&hpos=22&hapos=22&sr_order=popularity&nflt=ht_id%3D204&srpvid=415443820da6006d&srepoch=1726133767&all_sr_blocks=1173387601_389878536_2_42_0&highlighted_blocks=1173387601_389878536_2_42_0&matching_block_id=1173387601_389878536_2_42_0&sr_pri_blocks=1173387601_389878536_2_42_0__20463&from=searchresults', 'https://www.booking.com/hotel/fr/bali-suite.en-gb.html?label=en-fr-booking-desktop-Akb7DsuMl_04Kj1fagYeEgS652796016858%3Apl%3Ata%3Ap1%3Ap2%3Aac%3Aap%3Aneg%3Afi%3Atikwd-65526620%3Alp1006094%3Ali%3Adec%3Adm&sid=f2480d4adff900632cc88bb076d858c9&aid=2311236&ucfs=1&arphpl=1&checkin=2024-09-18&checkout=2024-09-19&dest_id=-1412198&dest_type=city&group_adults=2&req_adults=2&no_rooms=1&group_children=0&req_children=0&hpos=23&hapos=23&sr_order=popularity&nflt=ht_id%3D204&srpvid=415443820da6006d&srepoch=1726133767&all_sr_blocks=1174965601_390054757_2_32_0&highlighted_blocks=1174965601_390054757_2_32_0&matching_block_id=1174965601_390054757_2_32_0&sr_pri_blocks=1174965601_390054757_2_32_0__32267&from=searchresults', 'https://www.booking.com/hotel/fr/logis-des-3-iles.en-gb.html?label=en-fr-booking-desktop-Akb7DsuMl_04Kj1fagYeEgS652796016858%3Apl%3Ata%3Ap1%3Ap2%3Aac%3Aap%3Aneg%3Afi%3Atikwd-65526620%3Alp1006094%3Ali%3Adec%3Adm&sid=f2480d4adff900632cc88bb076d858c9&aid=2311236&ucfs=1&arphpl=1&checkin=2024-09-18&checkout=2024-09-19&dest_id=-1412198&dest_type=city&group_adults=2&req_adults=2&no_rooms=1&group_children=0&req_children=0&hpos=24&hapos=24&sr_order=popularity&nflt=ht_id%3D204&srpvid=415443820da6006d&srepoch=1726133767&all_sr_blocks=2684405_389177696_0_2_0&highlighted_blocks=2684405_389177696_0_2_0&matching_block_id=2684405_389177696_0_2_0&sr_pri_blocks=2684405_389177696_0_2_0__8130&from=searchresults', 'https://www.booking.com/hotel/fr/le-comtois-saone.en-gb.html?label=en-fr-booking-desktop-Akb7DsuMl_04Kj1fagYeEgS652796016858%3Apl%3Ata%3Ap1%3Ap2%3Aac%3Aap%3Aneg%3Afi%3Atikwd-65526620%3Alp1006094%3Ali%3Adec%3Adm&sid=f2480d4adff900632cc88bb076d858c9&aid=2311236&ucfs=1&arphpl=1&checkin=2024-09-18&checkout=2024-09-19&dest_id=-1412198&dest_type=city&group_adults=2&req_adults=2&no_rooms=1&group_children=0&req_children=0&hpos=25&hapos=25&sr_order=popularity&nflt=ht_id%3D204&srpvid=415443820da6006d&srepoch=1726133767&all_sr_blocks=686282606_279062640_2_42_0&highlighted_blocks=686282606_279062640_2_42_0&matching_block_id=686282606_279062640_2_42_0&sr_pri_blocks=686282606_279062640_2_42_0__8450&from_sustainable_property_sr=1&from=searchresults', 'https://www.booking.com/hotel/fr/hotel-ibis-strasbourg-centre-historique.en-gb.html?label=en-fr-booking-desktop-Akb7DsuMl_04Kj1fagYeEgS652796016858%3Apl%3Ata%3Ap1%3Ap2%3Aac%3Aap%3Aneg%3Afi%3Atikwd-65526620%3Alp1006094%3Ali%3Adec%3Adm&sid=f2480d4adff900632cc88bb076d858c9&aid=2311236&ucfs=1&arphpl=1&checkin=2024-09-18&checkout=2024-09-19&dest_id=-1471697&dest_type=city&group_adults=2&req_adults=2&no_rooms=1&group_children=0&req_children=0&hpos=1&hapos=1&sr_order=popularity&nflt=ht_id%3D204&srpvid=c9734382a0f700b9&srepoch=1726133767&all_sr_blocks=53828703_376291381_2_34_0&highlighted_blocks=53828703_376291381_2_34_0&matching_block_id=53828703_376291381_2_34_0&sr_pri_blocks=53828703_376291381_2_34_0__16852&from=searchresults', 'https://www.booking.com/hotel/fr/appart-victoria-garden-strasbourg.en-gb.html?label=en-fr-booking-desktop-Akb7DsuMl_04Kj1fagYeEgS652796016858%3Apl%3Ata%3Ap1%3Ap2%3Aac%3Aap%3Aneg%3Afi%3Atikwd-65526620%3Alp1006094%3Ali%3Adec%3Adm&sid=f2480d4adff900632cc88bb076d858c9&aid=2311236&ucfs=1&arphpl=1&checkin=2024-09-18&checkout=2024-09-19&dest_id=-1471697&dest_type=city&group_adults=2&req_adults=2&no_rooms=1&group_children=0&req_children=0&hpos=2&hapos=2&sr_order=popularity&nflt=ht_id%3D204&srpvid=c9734382a0f700b9&srepoch=1726133767&all_sr_blocks=5431208_88918933_2_2_0&highlighted_blocks=5431208_88918933_2_2_0&matching_block_id=5431208_88918933_2_2_0&sr_pri_blocks=5431208_88918933_2_2_0__15152&from=searchresults', 'https://www.booking.com/hotel/fr/hotelvictoria.en-gb.html?label=en-fr-booking-desktop-Akb7DsuMl_04Kj1fagYeEgS652796016858%3Apl%3Ata%3Ap1%3Ap2%3Aac%3Aap%3Aneg%3Afi%3Atikwd-65526620%3Alp1006094%3Ali%3Adec%3Adm&sid=f2480d4adff900632cc88bb076d858c9&aid=2311236&ucfs=1&arphpl=1&checkin=2024-09-18&checkout=2024-09-19&dest_id=-1471697&dest_type=city&group_adults=2&req_adults=2&no_rooms=1&group_children=0&req_children=0&hpos=3&hapos=3&sr_order=popularity&nflt=ht_id%3D204&srpvid=c9734382a0f700b9&srepoch=1726133767&all_sr_blocks=5194405_94272505_2_2_0_444009&highlighted_blocks=5194405_94272505_2_2_0_444009&matching_block_id=5194405_94272505_2_2_0_444009&sr_pri_blocks=5194405_94272505_2_2_0_444009_17167&from_sustainable_property_sr=1&from=searchresults', 'https://www.booking.com/hotel/fr/hoteldianadauphine.en-gb.html?label=en-fr-booking-desktop-Akb7DsuMl_04Kj1fagYeEgS652796016858%3Apl%3Ata%3Ap1%3Ap2%3Aac%3Aap%3Aneg%3Afi%3Atikwd-65526620%3Alp1006094%3Ali%3Adec%3Adm&sid=f2480d4adff900632cc88bb076d858c9&aid=2311236&ucfs=1&arphpl=1&checkin=2024-09-18&checkout=2024-09-19&dest_id=-1471697&dest_type=city&group_adults=2&req_adults=2&no_rooms=1&group_children=0&req_children=0&hpos=4&hapos=4&sr_order=popularity&nflt=ht_id%3D204&srpvid=c9734382a0f700b9&srepoch=1726133767&all_sr_blocks=5088002_91902399_2_2_0&highlighted_blocks=5088002_91902399_2_2_0&matching_block_id=5088002_91902399_2_2_0&sr_pri_blocks=5088002_91902399_2_2_0__21450&from_sustainable_property_sr=1&from=searchresults', 'https://www.booking.com/hotel/fr/appart-city-strasbourg.en-gb.html?label=en-fr-booking-desktop-Akb7DsuMl_04Kj1fagYeEgS652796016858%3Apl%3Ata%3Ap1%3Ap2%3Aac%3Aap%3Aneg%3Afi%3Atikwd-65526620%3Alp1006094%3Ali%3Adec%3Adm&sid=f2480d4adff900632cc88bb076d858c9&aid=2311236&ucfs=1&arphpl=1&checkin=2024-09-18&checkout=2024-09-19&dest_id=-1471697&dest_type=city&group_adults=2&req_adults=2&no_rooms=1&group_children=0&req_children=0&hpos=5&hapos=5&sr_order=popularity&nflt=ht_id%3D204&srpvid=c9734382a0f700b9&srepoch=1726133767&all_sr_blocks=45907004_95770176_0_2_0&highlighted_blocks=45907004_95770176_0_2_0&matching_block_id=45907004_95770176_0_2_0&sr_pri_blocks=45907004_95770176_0_2_0__16552&from_sustainable_property_sr=1&from=searchresults', 'https://www.booking.com/hotel/fr/leonor-the-place-to-live.en-gb.html?label=en-fr-booking-desktop-Akb7DsuMl_04Kj1fagYeEgS652796016858%3Apl%3Ata%3Ap1%3Ap2%3Aac%3Aap%3Aneg%3Afi%3Atikwd-65526620%3Alp1006094%3Ali%3Adec%3Adm&sid=f2480d4adff900632cc88bb076d858c9&aid=2311236&ucfs=1&arphpl=1&checkin=2024-09-18&checkout=2024-09-19&dest_id=-1471697&dest_type=city&group_adults=2&req_adults=2&no_rooms=1&group_children=0&req_children=0&hpos=6&hapos=6&sr_order=popularity&nflt=ht_id%3D204&srpvid=c9734382a0f700b9&srepoch=1726133767&all_sr_blocks=774038101_335656404_2_2_0&highlighted_blocks=774038101_335656404_2_2_0&matching_block_id=774038101_335656404_2_2_0&sr_pri_blocks=774038101_335656404_2_2_0__28990&from_sustainable_property_sr=1&from=searchresults', 'https://www.booking.com/hotel/fr/premiere-classe-strasbourg-ouest.en-gb.html?label=en-fr-booking-desktop-Akb7DsuMl_04Kj1fagYeEgS652796016858%3Apl%3Ata%3Ap1%3Ap2%3Aac%3Aap%3Aneg%3Afi%3Atikwd-65526620%3Alp1006094%3Ali%3Adec%3Adm&sid=f2480d4adff900632cc88bb076d858c9&aid=2311236&ucfs=1&arphpl=1&checkin=2024-09-18&checkout=2024-09-19&dest_id=-1471697&dest_type=city&group_adults=2&req_adults=2&no_rooms=1&group_children=0&req_children=0&hpos=7&hapos=7&sr_order=popularity&nflt=ht_id%3D204&srpvid=c9734382a0f700b9&srepoch=1726133767&all_sr_blocks=5474103_94106324_3_2_0&highlighted_blocks=5474103_94106324_3_2_0&matching_block_id=5474103_94106324_3_2_0&sr_pri_blocks=5474103_94106324_3_2_0__5604&from=searchresults', 'https://www.booking.com/hotel/fr/boma-strasbourg.en-gb.html?label=en-fr-booking-desktop-Akb7DsuMl_04Kj1fagYeEgS652796016858%3Apl%3Ata%3Ap1%3Ap2%3Aac%3Aap%3Aneg%3Afi%3Atikwd-65526620%3Alp1006094%3Ali%3Adec%3Adm&sid=f2480d4adff900632cc88bb076d858c9&aid=2311236&ucfs=1&arphpl=1&checkin=2024-09-18&checkout=2024-09-19&dest_id=-1471697&dest_type=city&group_adults=2&req_adults=2&no_rooms=1&group_children=0&req_children=0&hpos=8&hapos=8&sr_order=popularity&nflt=ht_id%3D204&srpvid=c9734382a0f700b9&srepoch=1726133767&all_sr_blocks=229497801_99744369_2_2_0&highlighted_blocks=229497801_99744369_2_2_0&matching_block_id=229497801_99744369_2_2_0&sr_pri_blocks=229497801_99744369_2_2_0__21700&from_sustainable_property_sr=1&from=searchresults', 'https://www.booking.com/hotel/fr/des-francs-bourgeois.en-gb.html?label=en-fr-booking-desktop-Akb7DsuMl_04Kj1fagYeEgS652796016858%3Apl%3Ata%3Ap1%3Ap2%3Aac%3Aap%3Aneg%3Afi%3Atikwd-65526620%3Alp1006094%3Ali%3Adec%3Adm&sid=f2480d4adff900632cc88bb076d858c9&aid=2311236&ucfs=1&arphpl=1&checkin=2024-09-18&checkout=2024-09-19&dest_id=-1471697&dest_type=city&group_adults=2&req_adults=2&no_rooms=1&group_children=0&req_children=0&hpos=9&hapos=9&sr_order=popularity&nflt=ht_id%3D204&srpvid=c9734382a0f700b9&srepoch=1726133767&all_sr_blocks=5416802_365531326_2_2_0_453904&highlighted_blocks=5416802_365531326_2_2_0_453904&matching_block_id=5416802_365531326_2_2_0_453904&sr_pri_blocks=5416802_365531326_2_2_0_453904_17820&from=searchresults', 'https://www.booking.com/hotel/fr/tihannong.en-gb.html?label=en-fr-booking-desktop-Akb7DsuMl_04Kj1fagYeEgS652796016858%3Apl%3Ata%3Ap1%3Ap2%3Aac%3Aap%3Aneg%3Afi%3Atikwd-65526620%3Alp1006094%3Ali%3Adec%3Adm&sid=f2480d4adff900632cc88bb076d858c9&aid=2311236&ucfs=1&arphpl=1&checkin=2024-09-18&checkout=2024-09-19&dest_id=-1471697&dest_type=city&group_adults=2&req_adults=2&no_rooms=1&group_children=0&req_children=0&hpos=10&hapos=10&sr_order=popularity&nflt=ht_id%3D204&srpvid=c9734382a0f700b9&srepoch=1726133767&all_sr_blocks=5036501_364745912_2_2_0&highlighted_blocks=5036501_364745912_2_2_0&matching_block_id=5036501_364745912_2_2_0&sr_pri_blocks=5036501_364745912_2_2_0__25450&from_sustainable_property_sr=1&from=searchresults', 'https://www.booking.com/hotel/fr/gutenberg.en-gb.html?label=en-fr-booking-desktop-Akb7DsuMl_04Kj1fagYeEgS652796016858%3Apl%3Ata%3Ap1%3Ap2%3Aac%3Aap%3Aneg%3Afi%3Atikwd-65526620%3Alp1006094%3Ali%3Adec%3Adm&sid=f2480d4adff900632cc88bb076d858c9&aid=2311236&ucfs=1&arphpl=1&checkin=2024-09-18&checkout=2024-09-19&dest_id=-1471697&dest_type=city&group_adults=2&req_adults=2&no_rooms=1&group_children=0&req_children=0&hpos=11&hapos=11&sr_order=popularity&nflt=ht_id%3D204&srpvid=c9734382a0f700b9&srepoch=1726133767&all_sr_blocks=5460706_91902948_2_2_0&highlighted_blocks=5460706_91902948_2_2_0&matching_block_id=5460706_91902948_2_2_0&sr_pri_blocks=5460706_91902948_2_2_0__26200&from_sustainable_property_sr=1&from=searchresults', 'https://www.booking.com/hotel/fr/residence-park-affaires.en-gb.html?label=en-fr-booking-desktop-Akb7DsuMl_04Kj1fagYeEgS652796016858%3Apl%3Ata%3Ap1%3Ap2%3Aac%3Aap%3Aneg%3Afi%3Atikwd-65526620%3Alp1006094%3Ali%3Adec%3Adm&sid=f2480d4adff900632cc88bb076d858c9&aid=2311236&ucfs=1&arphpl=1&checkin=2024-09-18&checkout=2024-09-19&dest_id=-1471697&dest_type=city&group_adults=2&req_adults=2&no_rooms=1&group_children=0&req_children=0&hpos=12&hapos=12&sr_order=popularity&nflt=ht_id%3D204&srpvid=c9734382a0f700b9&srepoch=1726133767&all_sr_blocks=7890301_94294038_0_2_0&highlighted_blocks=7890301_94294038_0_2_0&matching_block_id=7890301_94294038_0_2_0&sr_pri_blocks=7890301_94294038_0_2_0__10612&from=searchresults', 'https://www.booking.com/hotel/fr/holiday-inn-express-strasbourg-centre.en-gb.html?label=en-fr-booking-desktop-Akb7DsuMl_04Kj1fagYeEgS652796016858%3Apl%3Ata%3Ap1%3Ap2%3Aac%3Aap%3Aneg%3Afi%3Atikwd-65526620%3Alp1006094%3Ali%3Adec%3Adm&sid=f2480d4adff900632cc88bb076d858c9&aid=2311236&ucfs=1&arphpl=1&checkin=2024-09-18&checkout=2024-09-19&dest_id=-1471697&dest_type=city&group_adults=2&req_adults=2&no_rooms=1&group_children=0&req_children=0&hpos=13&hapos=13&sr_order=popularity&nflt=ht_id%3D204&srpvid=c9734382a0f700b9&srepoch=1726133767&all_sr_blocks=104275001_246097616_2_1_0&highlighted_blocks=104275001_246097616_2_1_0&matching_block_id=104275001_246097616_2_1_0&sr_pri_blocks=104275001_246097616_2_1_0__20952&from_sustainable_property_sr=1&from=searchresults', 'https://www.booking.com/hotel/fr/ibis-strasbourg-avenue-du-rhin.en-gb.html?label=en-fr-booking-desktop-Akb7DsuMl_04Kj1fagYeEgS652796016858%3Apl%3Ata%3Ap1%3Ap2%3Aac%3Aap%3Aneg%3Afi%3Atikwd-65526620%3Alp1006094%3Ali%3Adec%3Adm&sid=f2480d4adff900632cc88bb076d858c9&aid=2311236&ucfs=1&arphpl=1&checkin=2024-09-18&checkout=2024-09-19&dest_id=-1471697&dest_type=city&group_adults=2&req_adults=2&no_rooms=1&group_children=0&req_children=0&hpos=14&hapos=14&sr_order=popularity&nflt=ht_id%3D204&srpvid=c9734382a0f700b9&srepoch=1726133767&all_sr_blocks=67612801_94500273_2_1_0&highlighted_blocks=67612801_94500273_2_1_0&matching_block_id=67612801_94500273_2_1_0&sr_pri_blocks=67612801_94500273_2_1_0__18810&from_sustainable_property_sr=1&from=searchresults', 'https://www.booking.com/hotel/fr/monopolemetropole.en-gb.html?label=en-fr-booking-desktop-Akb7DsuMl_04Kj1fagYeEgS652796016858%3Apl%3Ata%3Ap1%3Ap2%3Aac%3Aap%3Aneg%3Afi%3Atikwd-65526620%3Alp1006094%3Ali%3Adec%3Adm&sid=f2480d4adff900632cc88bb076d858c9&aid=2311236&ucfs=1&arphpl=1&checkin=2024-09-18&checkout=2024-09-19&dest_id=-1471697&dest_type=city&group_adults=2&req_adults=2&no_rooms=1&group_children=0&req_children=0&hpos=15&hapos=15&sr_order=popularity&nflt=ht_id%3D204&srpvid=c9734382a0f700b9&srepoch=1726133767&all_sr_blocks=5010225_391910801_2_2_0&highlighted_blocks=5010225_391910801_2_2_0&matching_block_id=5010225_391910801_2_2_0&sr_pri_blocks=5010225_391910801_2_2_0__25850&from_sustainable_property_sr=1&from=searchresults', 'https://www.booking.com/hotel/fr/ha-tel-les-haras.en-gb.html?label=en-fr-booking-desktop-Akb7DsuMl_04Kj1fagYeEgS652796016858%3Apl%3Ata%3Ap1%3Ap2%3Aac%3Aap%3Aneg%3Afi%3Atikwd-65526620%3Alp1006094%3Ali%3Adec%3Adm&sid=f2480d4adff900632cc88bb076d858c9&aid=2311236&ucfs=1&arphpl=1&checkin=2024-09-18&checkout=2024-09-19&dest_id=-1471697&dest_type=city&group_adults=2&req_adults=2&no_rooms=1&group_children=0&req_children=0&hpos=16&hapos=16&sr_order=popularity&nflt=ht_id%3D204&srpvid=c9734382a0f700b9&srepoch=1726133767&all_sr_blocks=63964402_91936760_2_2_0&highlighted_blocks=63964402_91936760_2_2_0&matching_block_id=63964402_91936760_2_2_0&sr_pri_blocks=63964402_91936760_2_2_0__30070&from_sustainable_property_sr=1&from=searchresults', 'https://www.booking.com/hotel/fr/du-dragon.en-gb.html?label=en-fr-booking-desktop-Akb7DsuMl_04Kj1fagYeEgS652796016858%3Apl%3Ata%3Ap1%3Ap2%3Aac%3Aap%3Aneg%3Afi%3Atikwd-65526620%3Alp1006094%3Ali%3Adec%3Adm&sid=f2480d4adff900632cc88bb076d858c9&aid=2311236&ucfs=1&arphpl=1&checkin=2024-09-18&checkout=2024-09-19&dest_id=-1471697&dest_type=city&group_adults=2&req_adults=2&no_rooms=1&group_children=0&req_children=0&hpos=17&hapos=17&sr_order=popularity&nflt=ht_id%3D204&srpvid=c9734382a0f700b9&srepoch=1726133767&all_sr_blocks=2252101_95146708_2_2_0&highlighted_blocks=2252101_95146708_2_2_0&matching_block_id=2252101_95146708_2_2_0&sr_pri_blocks=2252101_95146708_2_2_0__25250&from_sustainable_property_sr=1&from=searchresults', 'https://www.booking.com/hotel/fr/regentpetitefrance.en-gb.html?label=en-fr-booking-desktop-Akb7DsuMl_04Kj1fagYeEgS652796016858%3Apl%3Ata%3Ap1%3Ap2%3Aac%3Aap%3Aneg%3Afi%3Atikwd-65526620%3Alp1006094%3Ali%3Adec%3Adm&sid=f2480d4adff900632cc88bb076d858c9&aid=2311236&ucfs=1&arphpl=1&checkin=2024-09-18&checkout=2024-09-19&dest_id=-1471697&dest_type=city&group_adults=2&req_adults=2&no_rooms=1&group_children=0&req_children=0&hpos=18&hapos=18&sr_order=popularity&nflt=ht_id%3D204&srpvid=c9734382a0f700b9&srepoch=1726133767&all_sr_blocks=5009107_91902220_2_2_0&highlighted_blocks=5009107_91902220_2_2_0&matching_block_id=5009107_91902220_2_2_0&sr_pri_blocks=5009107_91902220_2_2_0__33936&from_sustainable_property_sr=1&from=searchresults', 'https://www.booking.com/hotel/fr/citadines-eurometropole-strasbourg.en-gb.html?label=en-fr-booking-desktop-Akb7DsuMl_04Kj1fagYeEgS652796016858%3Apl%3Ata%3Ap1%3Ap2%3Aac%3Aap%3Aneg%3Afi%3Atikwd-65526620%3Alp1006094%3Ali%3Adec%3Adm&sid=f2480d4adff900632cc88bb076d858c9&aid=2311236&ucfs=1&arphpl=1&checkin=2024-09-18&checkout=2024-09-19&dest_id=-1471697&dest_type=city&group_adults=2&req_adults=2&no_rooms=1&group_children=0&req_children=0&hpos=19&hapos=19&sr_order=popularity&nflt=ht_id%3D204&srpvid=c9734382a0f700b9&srepoch=1726133767&all_sr_blocks=723879901_0_2_0_0&highlighted_blocks=723879901_0_2_0_0&matching_block_id=723879901_0_2_0_0&sr_pri_blocks=723879901_0_2_0_0__15420&from_sustainable_property_sr=1&from=searchresults', 'https://www.booking.com/hotel/fr/hotelauxtroisroses.en-gb.html?label=en-fr-booking-desktop-Akb7DsuMl_04Kj1fagYeEgS652796016858%3Apl%3Ata%3Ap1%3Ap2%3Aac%3Aap%3Aneg%3Afi%3Atikwd-65526620%3Alp1006094%3Ali%3Adec%3Adm&sid=f2480d4adff900632cc88bb076d858c9&aid=2311236&ucfs=1&arphpl=1&checkin=2024-09-18&checkout=2024-09-19&dest_id=-1471697&dest_type=city&group_adults=2&req_adults=2&no_rooms=1&group_children=0&req_children=0&hpos=20&hapos=20&sr_order=popularity&nflt=ht_id%3D204&srpvid=c9734382a0f700b9&srepoch=1726133767&all_sr_blocks=5315002_88547256_0_2_0_444008&highlighted_blocks=5315002_88547256_0_2_0_444008&matching_block_id=5315002_88547256_0_2_0_444008&sr_pri_blocks=5315002_88547256_0_2_0_444008_22202&from_sustainable_property_sr=1&from=searchresults', 'https://www.booking.com/hotel/fr/athena-spa.en-gb.html?label=en-fr-booking-desktop-Akb7DsuMl_04Kj1fagYeEgS652796016858%3Apl%3Ata%3Ap1%3Ap2%3Aac%3Aap%3Aneg%3Afi%3Atikwd-65526620%3Alp1006094%3Ali%3Adec%3Adm&sid=f2480d4adff900632cc88bb076d858c9&aid=2311236&ucfs=1&arphpl=1&checkin=2024-09-18&checkout=2024-09-19&dest_id=-1471697&dest_type=city&group_adults=2&req_adults=2&no_rooms=1&group_children=0&req_children=0&hpos=21&hapos=21&sr_order=popularity&nflt=ht_id%3D204&srpvid=c9734382a0f700b9&srepoch=1726133767&all_sr_blocks=112122817_366496800_0_2_0&highlighted_blocks=112122817_366496800_0_2_0&matching_block_id=112122817_366496800_0_2_0&sr_pri_blocks=112122817_366496800_0_2_0__18250&from_sustainable_property_sr=1&from=searchresults', 'https://www.booking.com/hotel/fr/chateau-de-pourtales.en-gb.html?label=en-fr-booking-desktop-Akb7DsuMl_04Kj1fagYeEgS652796016858%3Apl%3Ata%3Ap1%3Ap2%3Aac%3Aap%3Aneg%3Afi%3Atikwd-65526620%3Alp1006094%3Ali%3Adec%3Adm&sid=f2480d4adff900632cc88bb076d858c9&aid=2311236&ucfs=1&arphpl=1&checkin=2024-09-18&checkout=2024-09-19&dest_id=-1471697&dest_type=city&group_adults=2&req_adults=2&no_rooms=1&group_children=0&req_children=0&hpos=22&hapos=22&sr_order=popularity&nflt=ht_id%3D204&srpvid=c9734382a0f700b9&srepoch=1726133767&all_sr_blocks=17732904_266294878_0_2_0&highlighted_blocks=17732904_266294878_0_2_0&matching_block_id=17732904_266294878_0_2_0&sr_pri_blocks=17732904_266294878_0_2_0__20512&from=searchresults', 'https://www.booking.com/hotel/fr/pavillon-regent-petite-france.en-gb.html?label=en-fr-booking-desktop-Akb7DsuMl_04Kj1fagYeEgS652796016858%3Apl%3Ata%3Ap1%3Ap2%3Aac%3Aap%3Aneg%3Afi%3Atikwd-65526620%3Alp1006094%3Ali%3Adec%3Adm&sid=f2480d4adff900632cc88bb076d858c9&aid=2311236&ucfs=1&arphpl=1&checkin=2024-09-18&checkout=2024-09-19&dest_id=-1471697&dest_type=city&group_adults=2&req_adults=2&no_rooms=1&group_children=0&req_children=0&hpos=23&hapos=23&sr_order=popularity&nflt=ht_id%3D204&srpvid=c9734382a0f700b9&srepoch=1726133767&all_sr_blocks=135256101_86393408_2_2_0&highlighted_blocks=135256101_86393408_2_2_0&matching_block_id=135256101_86393408_2_2_0&sr_pri_blocks=135256101_86393408_2_2_0__31686&from_sustainable_property_sr=1&from=searchresults', 'https://www.booking.com/hotel/fr/citadines-aparthotel-strasbourg.en-gb.html?label=en-fr-booking-desktop-Akb7DsuMl_04Kj1fagYeEgS652796016858%3Apl%3Ata%3Ap1%3Ap2%3Aac%3Aap%3Aneg%3Afi%3Atikwd-65526620%3Alp1006094%3Ali%3Adec%3Adm&sid=f2480d4adff900632cc88bb076d858c9&aid=2311236&ucfs=1&arphpl=1&checkin=2024-09-18&checkout=2024-09-19&dest_id=-1471697&dest_type=city&group_adults=2&req_adults=2&no_rooms=1&group_children=0&req_children=0&hpos=24&hapos=24&sr_order=popularity&nflt=ht_id%3D204&srpvid=c9734382a0f700b9&srepoch=1726133767&all_sr_blocks=22001914_93945076_2_2_0&highlighted_blocks=22001914_93945076_2_2_0&matching_block_id=22001914_93945076_2_2_0&sr_pri_blocks=22001914_93945076_2_2_0__23752&from_sustainable_property_sr=1&from=searchresults', 'https://www.booking.com/hotel/fr/htlrestlingolsheim.en-gb.html?label=en-fr-booking-desktop-Akb7DsuMl_04Kj1fagYeEgS652796016858%3Apl%3Ata%3Ap1%3Ap2%3Aac%3Aap%3Aneg%3Afi%3Atikwd-65526620%3Alp1006094%3Ali%3Adec%3Adm&sid=f2480d4adff900632cc88bb076d858c9&aid=2311236&ucfs=1&arphpl=1&checkin=2024-09-18&checkout=2024-09-19&dest_id=-1471697&dest_type=city&group_adults=2&req_adults=2&no_rooms=1&group_children=0&req_children=0&hpos=25&hapos=25&sr_order=popularity&nflt=ht_id%3D204&srpvid=c9734382a0f700b9&srepoch=1726133767&all_sr_blocks=5152907_0_2_0_0&highlighted_blocks=5152907_0_2_0_0&matching_block_id=5152907_0_2_0_0&sr_pri_blocks=5152907_0_2_0_0__8681&from_sustainable_property_sr=1&from=searchresults']\n"
     ]
    }
   ],
   "source": [
    "!python url_booking.py"
   ]
  },
  {
   "cell_type": "code",
   "execution_count": 11,
   "metadata": {},
   "outputs": [
    {
     "name": "stdout",
     "output_type": "stream",
     "text": [
      "['https://www.booking.com/hotel/fr/lesmasdescitronniers.en-gb.html?label=en-fr-booking-desktop-Akb7DsuMl_04Kj1fagYeEgS652796016858%3Apl%3Ata%3Ap1%3Ap2%3Aac%3Aap%3Aneg%3Afi%3Atikwd-65526620%3Alp1006094%3Ali%3Adec%3Adm&sid=f2480d4adff900632cc88bb076d858c9&aid=2311236&ucfs=1&arphpl=1&checkin=2024-09-18&checkout=2024-09-19&dest_id=-1421032&dest_type=city&group_adults=2&req_adults=2&no_rooms=1&group_children=0&req_children=0&hpos=1&hapos=1&sr_order=popularity&nflt=ht_id%3D204&srpvid=e19c3c939226060c&srepoch=1726043816&all_sr_blocks=5185902_295711275_0_2_0&highlighted_blocks=5185902_295711275_0_2_0&matching_block_id=5185902_295711275_0_2_0&sr_pri_blocks=5185902_295711275_0_2_0__13426&from=searchresults\\n', 'https://www.booking.com/hotel/fr/la-fra-c-gate-collioure.en-gb.html?label=en-fr-booking-desktop-Akb7DsuMl_04Kj1fagYeEgS652796016858%3Apl%3Ata%3Ap1%3Ap2%3Aac%3Aap%3Aneg%3Afi%3Atikwd-65526620%3Alp1006094%3Ali%3Adec%3Adm&sid=f2480d4adff900632cc88bb076d858c9&aid=2311236&ucfs=1&arphpl=1&checkin=2024-09-18&checkout=2024-09-19&dest_id=-1421032&dest_type=city&group_adults=2&req_adults=2&no_rooms=1&group_children=0&req_children=0&hpos=2&hapos=2&sr_order=popularity&nflt=ht_id%3D204&srpvid=e19c3c939226060c&srepoch=1726043816&all_sr_blocks=5818606_338067622_2_2_0&highlighted_blocks=5818606_338067622_2_2_0&matching_block_id=5818606_338067622_2_2_0&sr_pri_blocks=5818606_338067622_2_2_0__12143&from_sustainable_property_sr=1&from=searchresults\\n', 'https://www.booking.com/hotel/fr/grand-du-golfe.en-gb.html?label=en-fr-booking-desktop-Akb7DsuMl_04Kj1fagYeEgS652796016858%3Apl%3Ata%3Ap1%3Ap2%3Aac%3Aap%3Aneg%3Afi%3Atikwd-65526620%3Alp1006094%3Ali%3Adec%3Adm&sid=f2480d4adff900632cc88bb076d858c9&aid=2311236&ucfs=1&arphpl=1&checkin=2024-09-18&checkout=2024-09-19&dest_id=-1421032&dest_type=city&group_adults=2&req_adults=2&no_rooms=1&group_children=0&req_children=0&hpos=3&hapos=3&sr_order=popularity&nflt=ht_id%3D204&srpvid=e19c3c939226060c&srepoch=1726043816&all_sr_blocks=5946004_360143684_0_2_0_120175&highlighted_blocks=5946004_360143684_0_2_0_120175&matching_block_id=5946004_360143684_0_2_0_120175&sr_pri_blocks=5946004_360143684_0_2_0_120175_15328&from_sustainable_property_sr=1&from=searchresults\\n', 'https://www.booking.com/hotel/fr/la-bona-casa.en-gb.html?label=en-fr-booking-desktop-Akb7DsuMl_04Kj1fagYeEgS652796016858%3Apl%3Ata%3Ap1%3Ap2%3Aac%3Aap%3Aneg%3Afi%3Atikwd-65526620%3Alp1006094%3Ali%3Adec%3Adm&sid=f2480d4adff900632cc88bb076d858c9&aid=2311236&ucfs=1&arphpl=1&checkin=2024-09-18&checkout=2024-09-19&dest_id=-1421032&dest_type=city&group_adults=2&req_adults=2&no_rooms=1&group_children=0&req_children=0&hpos=4&hapos=4&sr_order=popularity&nflt=ht_id%3D204&srpvid=e19c3c939226060c&srepoch=1726043816&all_sr_blocks=48067901_335005268_0_0_0&highlighted_blocks=48067901_335005268_0_0_0&matching_block_id=48067901_335005268_0_0_0&sr_pri_blocks=48067901_335005268_0_0_0__10568&from=searchresults\\n', 'https://www.booking.com/hotel/fr/hotelcasapairal.en-gb.html?label=en-fr-booking-desktop-Akb7DsuMl_04Kj1fagYeEgS652796016858%3Apl%3Ata%3Ap1%3Ap2%3Aac%3Aap%3Aneg%3Afi%3Atikwd-65526620%3Alp1006094%3Ali%3Adec%3Adm&sid=f2480d4adff900632cc88bb076d858c9&aid=2311236&ucfs=1&arphpl=1&checkin=2024-09-18&checkout=2024-09-19&dest_id=-1421032&dest_type=city&group_adults=2&req_adults=2&no_rooms=1&group_children=0&req_children=0&hpos=5&hapos=5&sr_order=popularity&nflt=ht_id%3D204&srpvid=e19c3c939226060c&srepoch=1726043816&all_sr_blocks=5185807_295711270_0_2_0&highlighted_blocks=5185807_295711270_0_2_0&matching_block_id=5185807_295711270_0_2_0&sr_pri_blocks=5185807_295711270_0_2_0__24412&from_sustainable_property_sr=1&from=searchresults\\n', 'https://www.booking.com/hotel/fr/mediterranee-collioure.en-gb.html?label=en-fr-booking-desktop-Akb7DsuMl_04Kj1fagYeEgS652796016858%3Apl%3Ata%3Ap1%3Ap2%3Aac%3Aap%3Aneg%3Afi%3Atikwd-65526620%3Alp1006094%3Ali%3Adec%3Adm&sid=f2480d4adff900632cc88bb076d858c9&aid=2311236&ucfs=1&arphpl=1&checkin=2024-09-18&checkout=2024-09-19&dest_id=-1421032&dest_type=city&group_adults=2&req_adults=2&no_rooms=1&group_children=0&req_children=0&hpos=6&hapos=6&sr_order=popularity&nflt=ht_id%3D204&srpvid=e19c3c939226060c&srepoch=1726043816&all_sr_blocks=18535501_350327173_0_0_0&highlighted_blocks=18535501_350327173_0_0_0&matching_block_id=18535501_350327173_0_0_0&sr_pri_blocks=18535501_350327173_0_0_0__13658&from_sustainable_property_sr=1&from=searchresults\\n', 'https://www.booking.com/hotel/fr/triton.en-gb.html?label=en-fr-booking-desktop-Akb7DsuMl_04Kj1fagYeEgS652796016858%3Apl%3Ata%3Ap1%3Ap2%3Aac%3Aap%3Aneg%3Afi%3Atikwd-65526620%3Alp1006094%3Ali%3Adec%3Adm&sid=f2480d4adff900632cc88bb076d858c9&aid=2311236&ucfs=1&arphpl=1&checkin=2024-09-18&checkout=2024-09-19&dest_id=-1421032&dest_type=city&group_adults=2&req_adults=2&no_rooms=1&group_children=0&req_children=0&hpos=7&hapos=7&sr_order=popularity&nflt=ht_id%3D204&srpvid=e19c3c939226060c&srepoch=1726043816&all_sr_blocks=29394006_326752589_0_2_0&highlighted_blocks=29394006_326752589_0_2_0&matching_block_id=29394006_326752589_0_2_0&sr_pri_blocks=29394006_326752589_0_2_0__12174&from_sustainable_property_sr=1&from=searchresults\\n', 'https://www.booking.com/hotel/fr/madeloc.en-gb.html?label=en-fr-booking-desktop-Akb7DsuMl_04Kj1fagYeEgS652796016858%3Apl%3Ata%3Ap1%3Ap2%3Aac%3Aap%3Aneg%3Afi%3Atikwd-65526620%3Alp1006094%3Ali%3Adec%3Adm&sid=f2480d4adff900632cc88bb076d858c9&aid=2311236&ucfs=1&arphpl=1&checkin=2024-09-18&checkout=2024-09-19&dest_id=-1421032&dest_type=city&group_adults=2&req_adults=2&no_rooms=1&group_children=0&req_children=0&hpos=8&hapos=8&sr_order=popularity&nflt=ht_id%3D204&srpvid=e19c3c939226060c&srepoch=1726043816&all_sr_blocks=4851420_370082177_2_2_0&highlighted_blocks=4851420_370082177_2_2_0&matching_block_id=4851420_370082177_2_2_0&sr_pri_blocks=4851420_370082177_2_2_0__20238&from_sustainable_property_sr=1&from=searchresults\\n', 'https://www.booking.com/hotel/fr/ha-tel-des-templiers.en-gb.html?label=en-fr-booking-desktop-Akb7DsuMl_04Kj1fagYeEgS652796016858%3Apl%3Ata%3Ap1%3Ap2%3Aac%3Aap%3Aneg%3Afi%3Atikwd-65526620%3Alp1006094%3Ali%3Adec%3Adm&sid=f2480d4adff900632cc88bb076d858c9&aid=2311236&ucfs=1&arphpl=1&checkin=2024-09-18&checkout=2024-09-19&dest_id=-1421032&dest_type=city&group_adults=2&req_adults=2&no_rooms=1&group_children=0&req_children=0&hpos=9&hapos=9&sr_order=popularity&nflt=ht_id%3D204&srpvid=e19c3c939226060c&srepoch=1726043816&all_sr_blocks=38860404_385058543_0_0_0&highlighted_blocks=38860404_385058543_0_0_0&matching_block_id=38860404_385058543_0_0_0&sr_pri_blocks=38860404_385058543_0_0_0__10174&from_sustainable_property_sr=1&from=searchresults\\n', 'https://www.booking.com/hotel/fr/boutique-maison-nova.en-gb.html?label=en-fr-booking-desktop-Akb7DsuMl_04Kj1fagYeEgS652796016858%3Apl%3Ata%3Ap1%3Ap2%3Aac%3Aap%3Aneg%3Afi%3Atikwd-65526620%3Alp1006094%3Ali%3Adec%3Adm&sid=f2480d4adff900632cc88bb076d858c9&aid=2311236&ucfs=1&arphpl=1&checkin=2024-09-18&checkout=2024-09-19&dest_id=-1421032&dest_type=city&group_adults=2&req_adults=2&no_rooms=1&group_children=0&req_children=0&hpos=10&hapos=10&sr_order=popularity&nflt=ht_id%3D204&srpvid=e19c3c939226060c&srepoch=1726043816&all_sr_blocks=1087692801_381693403_2_2_0_365353&highlighted_blocks=1087692801_381693403_2_2_0_365353&matching_block_id=1087692801_381693403_2_2_0_365353&sr_pri_blocks=1087692801_381693403_2_2_0_365353_33652&from_sustainable_property_sr=1&from=searchresults\\n', 'https://www.booking.com/hotel/fr/le-bon-port.en-gb.html?label=en-fr-booking-desktop-Akb7DsuMl_04Kj1fagYeEgS652796016858%3Apl%3Ata%3Ap1%3Ap2%3Aac%3Aap%3Aneg%3Afi%3Atikwd-65526620%3Alp1006094%3Ali%3Adec%3Adm&sid=f2480d4adff900632cc88bb076d858c9&aid=2311236&ucfs=1&arphpl=1&checkin=2024-09-18&checkout=2024-09-19&dest_id=-1421032&dest_type=city&group_adults=2&req_adults=2&no_rooms=1&group_children=0&req_children=0&hpos=11&hapos=11&sr_order=popularity&nflt=ht_id%3D204&srpvid=e19c3c939226060c&srepoch=1726043816&all_sr_blocks=2243101_335041082_2_2_0&highlighted_blocks=2243101_335041082_2_2_0&matching_block_id=2243101_335041082_2_2_0&sr_pri_blocks=2243101_335041082_2_2_0__15158&from=searchresults\\n', 'https://www.booking.com/hotel/fr/chambres-rue-de-la-republique.en-gb.html?label=en-fr-booking-desktop-Akb7DsuMl_04Kj1fagYeEgS652796016858%3Apl%3Ata%3Ap1%3Ap2%3Aac%3Aap%3Aneg%3Afi%3Atikwd-65526620%3Alp1006094%3Ali%3Adec%3Adm&sid=f2480d4adff900632cc88bb076d858c9&aid=2311236&ucfs=1&arphpl=1&checkin=2024-09-18&checkout=2024-09-19&dest_id=-1421032&dest_type=city&group_adults=2&req_adults=2&no_rooms=1&group_children=0&req_children=0&hpos=12&hapos=12&sr_order=popularity&nflt=ht_id%3D204&srpvid=e19c3c939226060c&srepoch=1726043816&all_sr_blocks=168769701_385058565_2_0_0&highlighted_blocks=168769701_385058565_2_0_0&matching_block_id=168769701_385058565_2_0_0&sr_pri_blocks=168769701_385058565_2_0_0__9274&from=searchresults\\n', 'https://www.booking.com/hotel/fr/le-relais-des-trois-mas.en-gb.html?label=en-fr-booking-desktop-Akb7DsuMl_04Kj1fagYeEgS652796016858%3Apl%3Ata%3Ap1%3Ap2%3Aac%3Aap%3Aneg%3Afi%3Atikwd-65526620%3Alp1006094%3Ali%3Adec%3Adm&sid=f2480d4adff900632cc88bb076d858c9&aid=2311236&ucfs=1&arphpl=1&checkin=2024-09-18&checkout=2024-09-19&dest_id=-1421032&dest_type=city&group_adults=2&req_adults=2&no_rooms=1&group_children=0&req_children=0&hpos=13&hapos=13&sr_order=popularity&nflt=ht_id%3D204&srpvid=e19c3c939226060c&srepoch=1726043816&all_sr_blocks=2271802_276632470_2_42_0&highlighted_blocks=2271802_276632470_2_42_0&matching_block_id=2271802_276632470_2_42_0&sr_pri_blocks=2271802_276632470_2_42_0__27812&from_sustainable_property_sr=1&from=searchresults\\n', 'https://www.booking.com/hotel/fr/ibis-styles-collioure-port-vendres.en-gb.html?label=en-fr-booking-desktop-Akb7DsuMl_04Kj1fagYeEgS652796016858%3Apl%3Ata%3Ap1%3Ap2%3Aac%3Aap%3Aneg%3Afi%3Atikwd-65526620%3Alp1006094%3Ali%3Adec%3Adm&sid=f2480d4adff900632cc88bb076d858c9&aid=2311236&ucfs=1&arphpl=1&checkin=2024-09-18&checkout=2024-09-19&dest_id=-1421032&dest_type=city&group_adults=2&req_adults=2&no_rooms=1&group_children=0&req_children=0&hpos=14&hapos=14&sr_order=popularity&nflt=ht_id%3D204&srpvid=e19c3c939226060c&srepoch=1726043816&all_sr_blocks=166808505_94610949_2_1_0&highlighted_blocks=166808505_94610949_2_1_0&matching_block_id=166808505_94610949_2_1_0&sr_pri_blocks=166808505_94610949_2_1_0__13106&from_sustainable_property_sr=1&from=searchresults\\n', 'https://www.booking.com/hotel/fr/villa-les-sirenes.en-gb.html?label=en-fr-booking-desktop-Akb7DsuMl_04Kj1fagYeEgS652796016858%3Apl%3Ata%3Ap1%3Ap2%3Aac%3Aap%3Aneg%3Afi%3Atikwd-65526620%3Alp1006094%3Ali%3Adec%3Adm&sid=f2480d4adff900632cc88bb076d858c9&aid=2311236&ucfs=1&arphpl=1&checkin=2024-09-18&checkout=2024-09-19&dest_id=-1421032&dest_type=city&group_adults=2&req_adults=2&no_rooms=1&group_children=0&req_children=0&hpos=15&hapos=15&sr_order=popularity&nflt=ht_id%3D204&srpvid=e19c3c939226060c&srepoch=1726043816&all_sr_blocks=5877014_373758832_2_0_0&highlighted_blocks=5877014_373758832_2_0_0&matching_block_id=5877014_373758832_2_0_0&sr_pri_blocks=5877014_373758832_2_0_0__4514&from=searchresults\\n', 'https://www.booking.com/hotel/fr/le-cottage.en-gb.html?label=en-fr-booking-desktop-Akb7DsuMl_04Kj1fagYeEgS652796016858%3Apl%3Ata%3Ap1%3Ap2%3Aac%3Aap%3Aneg%3Afi%3Atikwd-65526620%3Alp1006094%3Ali%3Adec%3Adm&sid=f2480d4adff900632cc88bb076d858c9&aid=2311236&ucfs=1&arphpl=1&checkin=2024-09-18&checkout=2024-09-19&dest_id=-1421032&dest_type=city&group_adults=2&req_adults=2&no_rooms=1&group_children=0&req_children=0&hpos=16&hapos=16&sr_order=popularity&nflt=ht_id%3D204&srpvid=e19c3c939226060c&srepoch=1726043816&all_sr_blocks=51644_88560350_0_2_0&highlighted_blocks=51644_88560350_0_2_0&matching_block_id=51644_88560350_0_2_0&sr_pri_blocks=51644_88560350_0_2_0__11928&from_sustainable_property_sr=1&from=searchresults\\n', 'https://www.booking.com/hotel/fr/les-jardins-du-cedre.en-gb.html?label=en-fr-booking-desktop-Akb7DsuMl_04Kj1fagYeEgS652796016858%3Apl%3Ata%3Ap1%3Ap2%3Aac%3Aap%3Aneg%3Afi%3Atikwd-65526620%3Alp1006094%3Ali%3Adec%3Adm&sid=f2480d4adff900632cc88bb076d858c9&aid=2311236&ucfs=1&arphpl=1&checkin=2024-09-18&checkout=2024-09-19&dest_id=-1421032&dest_type=city&group_adults=2&req_adults=2&no_rooms=1&group_children=0&req_children=0&hpos=17&hapos=17&sr_order=popularity&nflt=ht_id%3D204&srpvid=e19c3c939226060c&srepoch=1726043816&all_sr_blocks=24898612_107174544_0_2_0&highlighted_blocks=24898612_107174544_0_2_0&matching_block_id=24898612_107174544_0_2_0&sr_pri_blocks=24898612_107174544_0_2_0__12028&from_sustainable_property_sr=1&from=searchresults\\n', 'https://www.booking.com/hotel/fr/les-mouettes.en-gb.html?label=en-fr-booking-desktop-Akb7DsuMl_04Kj1fagYeEgS652796016858%3Apl%3Ata%3Ap1%3Ap2%3Aac%3Aap%3Aneg%3Afi%3Atikwd-65526620%3Alp1006094%3Ali%3Adec%3Adm&sid=f2480d4adff900632cc88bb076d858c9&aid=2311236&ucfs=1&arphpl=1&checkin=2024-09-18&checkout=2024-09-19&dest_id=-1421032&dest_type=city&group_adults=2&req_adults=2&no_rooms=1&group_children=0&req_children=0&hpos=18&hapos=18&sr_order=popularity&nflt=ht_id%3D204&srpvid=e19c3c939226060c&srepoch=1726043816&all_sr_blocks=5509616_88560348_0_2_0&highlighted_blocks=5509616_88560348_0_2_0&matching_block_id=5509616_88560348_0_2_0&sr_pri_blocks=5509616_88560348_0_2_0__15288&from_sustainable_property_sr=1&from=searchresults\\n', 'https://www.booking.com/hotel/fr/intense-boutik.en-gb.html?label=en-fr-booking-desktop-Akb7DsuMl_04Kj1fagYeEgS652796016858%3Apl%3Ata%3Ap1%3Ap2%3Aac%3Aap%3Aneg%3Afi%3Atikwd-65526620%3Alp1006094%3Ali%3Adec%3Adm&sid=f2480d4adff900632cc88bb076d858c9&aid=2311236&ucfs=1&arphpl=1&checkin=2024-09-18&checkout=2024-09-19&dest_id=-1421032&dest_type=city&group_adults=2&req_adults=2&no_rooms=1&group_children=0&req_children=0&hpos=19&hapos=19&sr_order=popularity&nflt=ht_id%3D204&srpvid=e19c3c939226060c&srepoch=1726043816&all_sr_blocks=928794607_364838240_2_2_0&highlighted_blocks=928794607_364838240_2_2_0&matching_block_id=928794607_364838240_2_2_0&sr_pri_blocks=928794607_364838240_2_2_0__14500&from_sustainable_property_sr=1&from=searchresults\\n', 'https://www.booking.com/hotel/fr/le-pescadou-argeles-sur-mer.en-gb.html?label=en-fr-booking-desktop-Akb7DsuMl_04Kj1fagYeEgS652796016858%3Apl%3Ata%3Ap1%3Ap2%3Aac%3Aap%3Aneg%3Afi%3Atikwd-65526620%3Alp1006094%3Ali%3Adec%3Adm&sid=f2480d4adff900632cc88bb076d858c9&aid=2311236&ucfs=1&arphpl=1&checkin=2024-09-18&checkout=2024-09-19&dest_id=-1421032&dest_type=city&group_adults=2&req_adults=2&no_rooms=1&group_children=0&req_children=0&hpos=20&hapos=20&sr_order=popularity&nflt=ht_id%3D204&srpvid=e19c3c939226060c&srepoch=1726043816&all_sr_blocks=528709405_335540030_0_0_0&highlighted_blocks=528709405_335540030_0_0_0&matching_block_id=528709405_335540030_0_0_0&sr_pri_blocks=528709405_335540030_0_0_0__5435&from=searchresults\\n', 'https://www.booking.com/hotel/fr/beau-rivage-argeles-sur-mer.en-gb.html?label=en-fr-booking-desktop-Akb7DsuMl_04Kj1fagYeEgS652796016858%3Apl%3Ata%3Ap1%3Ap2%3Aac%3Aap%3Aneg%3Afi%3Atikwd-65526620%3Alp1006094%3Ali%3Adec%3Adm&sid=f2480d4adff900632cc88bb076d858c9&aid=2311236&ucfs=1&arphpl=1&checkin=2024-09-18&checkout=2024-09-19&dest_id=-1421032&dest_type=city&group_adults=2&req_adults=2&no_rooms=1&group_children=0&req_children=0&hpos=21&hapos=21&sr_order=popularity&nflt=ht_id%3D204&srpvid=e19c3c939226060c&srepoch=1726043816&all_sr_blocks=29269906_88560354_0_2_0&highlighted_blocks=29269906_88560354_0_2_0&matching_block_id=29269906_88560354_0_2_0&sr_pri_blocks=29269906_88560354_0_2_0__9528&from=searchresults\\n', 'https://www.booking.com/hotel/fr/sur-le-quai-port-vendres.en-gb.html?label=en-fr-booking-desktop-Akb7DsuMl_04Kj1fagYeEgS652796016858%3Apl%3Ata%3Ap1%3Ap2%3Aac%3Aap%3Aneg%3Afi%3Atikwd-65526620%3Alp1006094%3Ali%3Adec%3Adm&sid=f2480d4adff900632cc88bb076d858c9&aid=2311236&ucfs=1&arphpl=1&checkin=2024-09-18&checkout=2024-09-19&dest_id=-1421032&dest_type=city&group_adults=2&req_adults=2&no_rooms=1&group_children=0&req_children=0&hpos=22&hapos=22&sr_order=popularity&nflt=ht_id%3D204&srpvid=e19c3c939226060c&srepoch=1726043816&all_sr_blocks=235483002_265509461_0_2_0&highlighted_blocks=235483002_265509461_0_2_0&matching_block_id=235483002_265509461_0_2_0&sr_pri_blocks=235483002_265509461_0_2_0__9746&from_sustainable_property_sr=1&from=searchresults\\n', 'https://www.booking.com/hotel/fr/hotellemaritime.en-gb.html?label=en-fr-booking-desktop-Akb7DsuMl_04Kj1fagYeEgS652796016858%3Apl%3Ata%3Ap1%3Ap2%3Aac%3Aap%3Aneg%3Afi%3Atikwd-65526620%3Alp1006094%3Ali%3Adec%3Adm&sid=f2480d4adff900632cc88bb076d858c9&aid=2311236&ucfs=1&arphpl=1&checkin=2024-09-18&checkout=2024-09-19&dest_id=-1421032&dest_type=city&group_adults=2&req_adults=2&no_rooms=1&group_children=0&req_children=0&hpos=23&hapos=23&sr_order=popularity&nflt=ht_id%3D204&srpvid=e19c3c939226060c&srepoch=1726043816&all_sr_blocks=5177501_390967773_2_34_0&highlighted_blocks=5177501_390967773_2_34_0&matching_block_id=5177501_390967773_2_34_0&sr_pri_blocks=5177501_390967773_2_34_0__7978&from_sustainable_property_sr=1&from=searchresults\\n', 'https://www.booking.com/hotel/fr/centre-plage.en-gb.html?label=en-fr-booking-desktop-Akb7DsuMl_04Kj1fagYeEgS652796016858%3Apl%3Ata%3Ap1%3Ap2%3Aac%3Aap%3Aneg%3Afi%3Atikwd-65526620%3Alp1006094%3Ali%3Adec%3Adm&sid=f2480d4adff900632cc88bb076d858c9&aid=2311236&ucfs=1&arphpl=1&checkin=2024-09-18&checkout=2024-09-19&dest_id=-1421032&dest_type=city&group_adults=2&req_adults=2&no_rooms=1&group_children=0&req_children=0&hpos=24&hapos=24&sr_order=popularity&nflt=ht_id%3D204&srpvid=e19c3c939226060c&srepoch=1726043816&all_sr_blocks=7941221_398147768_2_2_0&highlighted_blocks=7941221_398147768_2_2_0&matching_block_id=7941221_398147768_2_2_0&sr_pri_blocks=7941221_398147768_2_2_0__7528&from_sustainable_property_sr=1&from=searchresults\\n', 'https://www.booking.com/hotel/fr/oasis-argeles-sur-mer1.en-gb.html?label=en-fr-booking-desktop-Akb7DsuMl_04Kj1fagYeEgS652796016858%3Apl%3Ata%3Ap1%3Ap2%3Aac%3Aap%3Aneg%3Afi%3Atikwd-65526620%3Alp1006094%3Ali%3Adec%3Adm&sid=f2480d4adff900632cc88bb076d858c9&aid=2311236&ucfs=1&arphpl=1&checkin=2024-09-18&checkout=2024-09-19&dest_id=-1421032&dest_type=city&group_adults=2&req_adults=2&no_rooms=1&group_children=0&req_children=0&hpos=25&hapos=25&sr_order=popularity&nflt=ht_id%3D204&srpvid=e19c3c939226060c&srepoch=1726043816&all_sr_blocks=67173604_122792010_0_0_0&highlighted_blocks=67173604_122792010_0_0_0&matching_block_id=67173604_122792010_0_0_0&sr_pri_blocks=67173604_122792010_0_0_0__5150&from=searchresults\\n']\n"
     ]
    }
   ],
   "source": [
    "path = \"c:\\\\Users\\\\leasc\\\\github\\\\data_management_collection-\\\\Kayak_project/booking_project/booking_project/url_list\"\n",
    "with open(path, \"r\") as infile:\n",
    "    urls=infile.readlines()\n",
    "print(urls)"
   ]
  },
  {
   "cell_type": "code",
   "execution_count": 12,
   "metadata": {},
   "outputs": [
    {
     "data": {
      "text/plain": [
       "'C:\\\\Users\\\\leasc\\\\github\\\\data_management_collection-\\\\Kayak_project\\\\booking_project'"
      ]
     },
     "execution_count": 12,
     "metadata": {},
     "output_type": "execute_result"
    }
   ],
   "source": [
    "os.chdir(\"C:\\\\Users\\\\leasc\\\\github\\\\data_management_collection-\\\\Kayak_project\\\\booking_project\")\n",
    "os.getcwd()"
   ]
  },
  {
   "cell_type": "code",
   "execution_count": 27,
   "metadata": {},
   "outputs": [
    {
     "data": {
      "text/plain": [
       "'C:\\\\Users\\\\leasc\\\\github\\\\data_management_collection-\\\\Kayak_project\\\\booking_project'"
      ]
     },
     "execution_count": 27,
     "metadata": {},
     "output_type": "execute_result"
    }
   ],
   "source": [
    "os.chdir(\"C:\\\\Users\\\\leasc\\\\github\\\\data_management_collection-\\\\Kayak_project\\\\booking_project\")\n",
    "os.getcwd()"
   ]
  },
  {
   "cell_type": "code",
   "execution_count": 17,
   "metadata": {},
   "outputs": [
    {
     "data": {
      "text/plain": [
       "['2scrapy_booking.py', 'scrapy_booking.py', '__init__.py', '__pycache__']"
      ]
     },
     "execution_count": 17,
     "metadata": {},
     "output_type": "execute_result"
    }
   ],
   "source": [
    "os.listdir()\n"
   ]
  },
  {
   "cell_type": "code",
   "execution_count": 18,
   "metadata": {},
   "outputs": [
    {
     "name": "stderr",
     "output_type": "stream",
     "text": [
      "Traceback (most recent call last):\n",
      "  File \"C:\\Users\\leasc\\github\\data_management_collection-\\Kayak_project\\booking_project\\booking_project\\spiders\\scrapy_booking.py\", line 42, in <module>\n",
      "    if filename in os.listdir('booking_project/'):\n",
      "                   ^^^^^^^^^^^^^^^^^^^^^^^^^^^^^^\n",
      "FileNotFoundError: [WinError 3] Le chemin d’accès spécifié est introuvable: 'booking_project/'\n"
     ]
    }
   ],
   "source": [
    "!python scrapy_booking.py"
   ]
  },
  {
   "cell_type": "code",
   "execution_count": 14,
   "metadata": {},
   "outputs": [
    {
     "name": "stderr",
     "output_type": "stream",
     "text": [
      "2024-09-11 17:10:19 [scrapy.utils.log] INFO: Scrapy 2.8.0 started (bot: scrapybot)\n",
      "2024-09-11 17:10:19 [scrapy.utils.log] INFO: Versions: lxml 4.9.3.0, libxml2 2.10.4, cssselect 1.2.0, parsel 1.8.1, w3lib 2.1.2, Twisted 22.10.0, Python 3.11.7 | packaged by Anaconda, Inc. | (main, Dec 15 2023, 18:05:47) [MSC v.1916 64 bit (AMD64)], pyOpenSSL 24.0.0 (OpenSSL 3.0.14 4 Jun 2024), cryptography 42.0.2, Platform Windows-10-10.0.22631-SP0\n",
      "2024-09-11 17:10:19 [scrapy.crawler] INFO: Overridden settings:\n",
      "{'LOG_LEVEL': 20, 'USER_AGENT': 'Chrome/97.0'}\n",
      "2024-09-11 17:10:19 [py.warnings] WARNING: C:\\Users\\leasc\\anaconda3\\Lib\\site-packages\\scrapy\\utils\\request.py:232: ScrapyDeprecationWarning: '2.6' is a deprecated value for the 'REQUEST_FINGERPRINTER_IMPLEMENTATION' setting.\n",
      "\n",
      "It is also the default value. In other words, it is normal to get this warning if you have not defined a value for the 'REQUEST_FINGERPRINTER_IMPLEMENTATION' setting. This is so for backward compatibility reasons, but it will change in a future version of Scrapy.\n",
      "\n",
      "See the documentation of the 'REQUEST_FINGERPRINTER_IMPLEMENTATION' setting for information on how to handle this deprecation.\n",
      "  return cls(crawler)\n",
      "\n",
      "2024-09-11 17:10:19 [scrapy.extensions.telnet] INFO: Telnet Password: 23d1684badd888b7\n",
      "2024-09-11 17:10:19 [scrapy.middleware] INFO: Enabled extensions:\n",
      "['scrapy.extensions.corestats.CoreStats',\n",
      " 'scrapy.extensions.telnet.TelnetConsole',\n",
      " 'scrapy.extensions.feedexport.FeedExporter',\n",
      " 'scrapy.extensions.logstats.LogStats']\n",
      "2024-09-11 17:10:19 [scrapy.middleware] INFO: Enabled downloader middlewares:\n",
      "['scrapy.downloadermiddlewares.httpauth.HttpAuthMiddleware',\n",
      " 'scrapy.downloadermiddlewares.downloadtimeout.DownloadTimeoutMiddleware',\n",
      " 'scrapy.downloadermiddlewares.defaultheaders.DefaultHeadersMiddleware',\n",
      " 'scrapy.downloadermiddlewares.useragent.UserAgentMiddleware',\n",
      " 'scrapy.downloadermiddlewares.retry.RetryMiddleware',\n",
      " 'scrapy.downloadermiddlewares.redirect.MetaRefreshMiddleware',\n",
      " 'scrapy.downloadermiddlewares.httpcompression.HttpCompressionMiddleware',\n",
      " 'scrapy.downloadermiddlewares.redirect.RedirectMiddleware',\n",
      " 'scrapy.downloadermiddlewares.cookies.CookiesMiddleware',\n",
      " 'scrapy.downloadermiddlewares.httpproxy.HttpProxyMiddleware',\n",
      " 'scrapy.downloadermiddlewares.stats.DownloaderStats']\n",
      "2024-09-11 17:10:19 [scrapy.middleware] INFO: Enabled spider middlewares:\n",
      "['scrapy.spidermiddlewares.httperror.HttpErrorMiddleware',\n",
      " 'scrapy.spidermiddlewares.offsite.OffsiteMiddleware',\n",
      " 'scrapy.spidermiddlewares.referer.RefererMiddleware',\n",
      " 'scrapy.spidermiddlewares.urllength.UrlLengthMiddleware',\n",
      " 'scrapy.spidermiddlewares.depth.DepthMiddleware']\n",
      "2024-09-11 17:10:19 [scrapy.middleware] INFO: Enabled item pipelines:\n",
      "[]\n",
      "2024-09-11 17:10:19 [scrapy.core.engine] INFO: Spider opened\n",
      "2024-09-11 17:10:19 [scrapy.extensions.logstats] INFO: Crawled 0 pages (at 0 pages/min), scraped 0 items (at 0 items/min)\n",
      "2024-09-11 17:10:19 [scrapy.extensions.telnet] INFO: Telnet console listening on 127.0.0.1:6023\n",
      "2024-09-11 17:10:21 [py.warnings] WARNING: C:\\Users\\leasc\\anaconda3\\Lib\\site-packages\\scrapy\\selector\\unified.py:83: UserWarning: Selector got both text and root, root is being ignored.\n",
      "  super().__init__(text=text, type=st, root=root, **kwargs)\n",
      "\n",
      "2024-09-11 17:10:26 [scrapy.core.engine] INFO: Closing spider (finished)\n",
      "2024-09-11 17:10:26 [scrapy.extensions.feedexport] INFO: Stored json feed (25 items) in: booking_project/booking_test2.json\n",
      "2024-09-11 17:10:26 [scrapy.statscollectors] INFO: Dumping Scrapy stats:\n",
      "{'downloader/request_bytes': 29147,\n",
      " 'downloader/request_count': 25,\n",
      " 'downloader/request_method_count/GET': 25,\n",
      " 'downloader/response_bytes': 7205293,\n",
      " 'downloader/response_count': 25,\n",
      " 'downloader/response_status_count/200': 25,\n",
      " 'elapsed_time_seconds': 6.566937,\n",
      " 'feedexport/success_count/FileFeedStorage': 1,\n",
      " 'finish_reason': 'finished',\n",
      " 'finish_time': datetime.datetime(2024, 9, 11, 15, 10, 26, 504008),\n",
      " 'httpcompression/response_bytes': 37843863,\n",
      " 'httpcompression/response_count': 25,\n",
      " 'item_scraped_count': 25,\n",
      " 'log_count/INFO': 11,\n",
      " 'log_count/WARNING': 2,\n",
      " 'response_received_count': 25,\n",
      " 'scheduler/dequeued': 25,\n",
      " 'scheduler/dequeued/memory': 25,\n",
      " 'scheduler/enqueued': 25,\n",
      " 'scheduler/enqueued/memory': 25,\n",
      " 'start_time': datetime.datetime(2024, 9, 11, 15, 10, 19, 937071)}\n",
      "2024-09-11 17:10:26 [scrapy.core.engine] INFO: Spider closed (finished)\n",
      "2024-09-11 17:10:26 [scrapy.utils.log] INFO: Scrapy 2.8.0 started (bot: scrapybot)\n",
      "2024-09-11 17:10:26 [scrapy.utils.log] INFO: Versions: lxml 4.9.3.0, libxml2 2.10.4, cssselect 1.2.0, parsel 1.8.1, w3lib 2.1.2, Twisted 22.10.0, Python 3.11.7 | packaged by Anaconda, Inc. | (main, Dec 15 2023, 18:05:47) [MSC v.1916 64 bit (AMD64)], pyOpenSSL 24.0.0 (OpenSSL 3.0.14 4 Jun 2024), cryptography 42.0.2, Platform Windows-10-10.0.22631-SP0\n",
      "2024-09-11 17:10:26 [scrapy.crawler] INFO: Overridden settings:\n",
      "{'LOG_LEVEL': 20, 'USER_AGENT': 'Chrome/97.0'}\n",
      "2024-09-11 17:10:26 [py.warnings] WARNING: C:\\Users\\leasc\\anaconda3\\Lib\\site-packages\\scrapy\\utils\\request.py:232: ScrapyDeprecationWarning: '2.6' is a deprecated value for the 'REQUEST_FINGERPRINTER_IMPLEMENTATION' setting.\n",
      "\n",
      "It is also the default value. In other words, it is normal to get this warning if you have not defined a value for the 'REQUEST_FINGERPRINTER_IMPLEMENTATION' setting. This is so for backward compatibility reasons, but it will change in a future version of Scrapy.\n",
      "\n",
      "See the documentation of the 'REQUEST_FINGERPRINTER_IMPLEMENTATION' setting for information on how to handle this deprecation.\n",
      "  return cls(crawler)\n",
      "\n",
      "2024-09-11 17:10:26 [scrapy.extensions.telnet] INFO: Telnet Password: f5ed4eb9b59f9418\n",
      "2024-09-11 17:10:26 [scrapy.middleware] INFO: Enabled extensions:\n",
      "['scrapy.extensions.corestats.CoreStats',\n",
      " 'scrapy.extensions.telnet.TelnetConsole',\n",
      " 'scrapy.extensions.feedexport.FeedExporter',\n",
      " 'scrapy.extensions.logstats.LogStats']\n",
      "2024-09-11 17:10:26 [scrapy.middleware] INFO: Enabled downloader middlewares:\n",
      "['scrapy.downloadermiddlewares.httpauth.HttpAuthMiddleware',\n",
      " 'scrapy.downloadermiddlewares.downloadtimeout.DownloadTimeoutMiddleware',\n",
      " 'scrapy.downloadermiddlewares.defaultheaders.DefaultHeadersMiddleware',\n",
      " 'scrapy.downloadermiddlewares.useragent.UserAgentMiddleware',\n",
      " 'scrapy.downloadermiddlewares.retry.RetryMiddleware',\n",
      " 'scrapy.downloadermiddlewares.redirect.MetaRefreshMiddleware',\n",
      " 'scrapy.downloadermiddlewares.httpcompression.HttpCompressionMiddleware',\n",
      " 'scrapy.downloadermiddlewares.redirect.RedirectMiddleware',\n",
      " 'scrapy.downloadermiddlewares.cookies.CookiesMiddleware',\n",
      " 'scrapy.downloadermiddlewares.httpproxy.HttpProxyMiddleware',\n",
      " 'scrapy.downloadermiddlewares.stats.DownloaderStats']\n",
      "2024-09-11 17:10:26 [scrapy.middleware] INFO: Enabled spider middlewares:\n",
      "['scrapy.spidermiddlewares.httperror.HttpErrorMiddleware',\n",
      " 'scrapy.spidermiddlewares.offsite.OffsiteMiddleware',\n",
      " 'scrapy.spidermiddlewares.referer.RefererMiddleware',\n",
      " 'scrapy.spidermiddlewares.urllength.UrlLengthMiddleware',\n",
      " 'scrapy.spidermiddlewares.depth.DepthMiddleware']\n",
      "2024-09-11 17:10:26 [scrapy.middleware] INFO: Enabled item pipelines:\n",
      "[]\n",
      "2024-09-11 17:10:26 [scrapy.core.engine] INFO: Spider opened\n",
      "2024-09-11 17:10:26 [scrapy.extensions.logstats] INFO: Crawled 0 pages (at 0 pages/min), scraped 0 items (at 0 items/min)\n",
      "2024-09-11 17:10:26 [scrapy.extensions.telnet] INFO: Telnet console listening on 127.0.0.1:6023\n",
      "Traceback (most recent call last):\n",
      "  File \"C:\\Users\\leasc\\anaconda3\\Scripts\\scrapy-script.py\", line 10, in <module>\n",
      "    sys.exit(execute())\n",
      "             ^^^^^^^^^\n",
      "  File \"C:\\Users\\leasc\\anaconda3\\Lib\\site-packages\\scrapy\\cmdline.py\", line 157, in execute\n",
      "    cmd.crawler_process = CrawlerProcess(settings)\n",
      "                          ^^^^^^^^^^^^^^^^^^^^^^^^\n",
      "  File \"C:\\Users\\leasc\\anaconda3\\Lib\\site-packages\\scrapy\\crawler.py\", line 318, in __init__\n",
      "    super().__init__(settings)\n",
      "  File \"C:\\Users\\leasc\\anaconda3\\Lib\\site-packages\\scrapy\\crawler.py\", line 190, in __init__\n",
      "    self.spider_loader = self._get_spider_loader(settings)\n",
      "                         ^^^^^^^^^^^^^^^^^^^^^^^^^^^^^^^^^\n",
      "  File \"C:\\Users\\leasc\\anaconda3\\Lib\\site-packages\\scrapy\\crawler.py\", line 184, in _get_spider_loader\n",
      "    return loader_cls.from_settings(settings.frozencopy())\n",
      "           ^^^^^^^^^^^^^^^^^^^^^^^^^^^^^^^^^^^^^^^^^^^^^^^\n",
      "  File \"C:\\Users\\leasc\\anaconda3\\Lib\\site-packages\\scrapy\\spiderloader.py\", line 69, in from_settings\n",
      "    return cls(settings)\n",
      "           ^^^^^^^^^^^^^\n",
      "  File \"C:\\Users\\leasc\\anaconda3\\Lib\\site-packages\\scrapy\\spiderloader.py\", line 24, in __init__\n",
      "    self._load_all_spiders()\n",
      "  File \"C:\\Users\\leasc\\anaconda3\\Lib\\site-packages\\scrapy\\spiderloader.py\", line 53, in _load_all_spiders\n",
      "    for module in walk_modules(name):\n",
      "                  ^^^^^^^^^^^^^^^^^^\n",
      "  File \"C:\\Users\\leasc\\anaconda3\\Lib\\site-packages\\scrapy\\utils\\misc.py\", line 87, in walk_modules\n",
      "    submod = import_module(fullpath)\n",
      "             ^^^^^^^^^^^^^^^^^^^^^^^\n",
      "  File \"C:\\Users\\leasc\\anaconda3\\Lib\\importlib\\__init__.py\", line 126, in import_module\n",
      "    return _bootstrap._gcd_import(name[level:], package, level)\n",
      "           ^^^^^^^^^^^^^^^^^^^^^^^^^^^^^^^^^^^^^^^^^^^^^^^^^^^^\n",
      "  File \"<frozen importlib._bootstrap>\", line 1204, in _gcd_import\n",
      "  File \"<frozen importlib._bootstrap>\", line 1176, in _find_and_load\n",
      "  File \"<frozen importlib._bootstrap>\", line 1147, in _find_and_load_unlocked\n",
      "  File \"<frozen importlib._bootstrap>\", line 690, in _load_unlocked\n",
      "  File \"<frozen importlib._bootstrap_external>\", line 940, in exec_module\n",
      "  File \"<frozen importlib._bootstrap>\", line 241, in _call_with_frames_removed\n",
      "  File \"C:\\Users\\leasc\\github\\data_management_collection-\\Kayak_project\\booking_project\\booking_project\\spiders\\scrapy_booking.py\", line 60, in <module>\n",
      "    process.start()\n",
      "  File \"C:\\Users\\leasc\\anaconda3\\Lib\\site-packages\\scrapy\\crawler.py\", line 383, in start\n",
      "    reactor.run(installSignalHandlers=False)  # blocking call\n",
      "    ^^^^^^^^^^^^^^^^^^^^^^^^^^^^^^^^^^^^^^^^\n",
      "  File \"C:\\Users\\leasc\\anaconda3\\Lib\\site-packages\\twisted\\internet\\base.py\", line 1317, in run\n",
      "    self.startRunning(installSignalHandlers=installSignalHandlers)\n",
      "  File \"C:\\Users\\leasc\\anaconda3\\Lib\\site-packages\\twisted\\internet\\base.py\", line 1299, in startRunning\n",
      "    ReactorBase.startRunning(cast(ReactorBase, self))\n",
      "  File \"C:\\Users\\leasc\\anaconda3\\Lib\\site-packages\\twisted\\internet\\base.py\", line 843, in startRunning\n",
      "    raise error.ReactorNotRestartable()\n",
      "twisted.internet.error.ReactorNotRestartable\n"
     ]
    }
   ],
   "source": [
    "!scrapy crawl search_page -O booking_project/booking_test2.json"
   ]
  },
  {
   "cell_type": "code",
   "execution_count": 29,
   "metadata": {},
   "outputs": [
    {
     "data": {
      "text/plain": [
       "'C:\\\\Users\\\\leasc\\\\github\\\\data_management_collection-\\\\Kayak_project\\\\booking_project'"
      ]
     },
     "execution_count": 29,
     "metadata": {},
     "output_type": "execute_result"
    }
   ],
   "source": [
    "os.chdir(\"C:\\\\Users\\\\leasc\\\\github\\\\data_management_collection-\\\\Kayak_project\\\\booking_project\")\n",
    "os.getcwd()\n"
   ]
  },
  {
   "cell_type": "markdown",
   "metadata": {},
   "source": []
  },
  {
   "cell_type": "code",
   "execution_count": 31,
   "metadata": {},
   "outputs": [
    {
     "name": "stderr",
     "output_type": "stream",
     "text": [
      "python: can't open file 'C:\\\\Users\\\\leasc\\\\github\\\\data_management_collection-\\\\Kayak_project\\\\booking_project\\\\run_spiders.py': [Errno 2] No such file or directory\n"
     ]
    }
   ],
   "source": [
    "!python run_spiders.py\n"
   ]
  },
  {
   "cell_type": "code",
   "execution_count": 13,
   "metadata": {},
   "outputs": [],
   "source": [
    "import json\n",
    "file = open(\"C:\\\\Users\\\\leasc\\\\github\\\\data_management_collection-\\\\Kayak_project\\\\booking_project\\\\booking_project\\\\spiders\\\\booking_project\\\\booking_test.json\")\n",
    "results = json.load(file) #charge le fichier dans une variable"
   ]
  },
  {
   "cell_type": "code",
   "execution_count": 17,
   "metadata": {},
   "outputs": [],
   "source": [
    "import json\n",
    "file = open(\"C:\\\\Users\\\\leasc\\\\github\\\\data_management_collection-\\\\Kayak_project\\\\booking_project\\\\booking_project\\\\spiders\\\\booking_project\\\\booking_test2.json\")\n",
    "results2 = json.load(file) #charge le fichier dans une variable"
   ]
  },
  {
   "cell_type": "code",
   "execution_count": 16,
   "metadata": {},
   "outputs": [
    {
     "data": {
      "text/html": [
       "<div>\n",
       "<style scoped>\n",
       "    .dataframe tbody tr th:only-of-type {\n",
       "        vertical-align: middle;\n",
       "    }\n",
       "\n",
       "    .dataframe tbody tr th {\n",
       "        vertical-align: top;\n",
       "    }\n",
       "\n",
       "    .dataframe thead th {\n",
       "        text-align: right;\n",
       "    }\n",
       "</style>\n",
       "<table border=\"1\" class=\"dataframe\">\n",
       "  <thead>\n",
       "    <tr style=\"text-align: right;\">\n",
       "      <th></th>\n",
       "      <th>city</th>\n",
       "      <th>name</th>\n",
       "      <th>url</th>\n",
       "      <th>rating</th>\n",
       "    </tr>\n",
       "  </thead>\n",
       "  <tbody>\n",
       "    <tr>\n",
       "      <th>0</th>\n",
       "      <td>Castellane</td>\n",
       "      <td>Les Canyons du Verdon</td>\n",
       "      <td>https://www.booking.com/hotel/fr/les-canyons-d...</td>\n",
       "      <td>7.7</td>\n",
       "    </tr>\n",
       "    <tr>\n",
       "      <th>1</th>\n",
       "      <td>Castellane</td>\n",
       "      <td>Lou Paradou</td>\n",
       "      <td>https://www.booking.com/hotel/fr/hotellouparad...</td>\n",
       "      <td>8.6</td>\n",
       "    </tr>\n",
       "    <tr>\n",
       "      <th>2</th>\n",
       "      <td>Castellane</td>\n",
       "      <td>Auberge des Salles</td>\n",
       "      <td>https://www.booking.com/hotel/fr/auberge-des-s...</td>\n",
       "      <td>8.6</td>\n",
       "    </tr>\n",
       "    <tr>\n",
       "      <th>3</th>\n",
       "      <td>Castellane</td>\n",
       "      <td>Le Chemin Neuf</td>\n",
       "      <td>https://www.booking.com/hotel/fr/le-chemin-neu...</td>\n",
       "      <td>7.7</td>\n",
       "    </tr>\n",
       "    <tr>\n",
       "      <th>4</th>\n",
       "      <td>Castellane</td>\n",
       "      <td>Gabrielle hôtel</td>\n",
       "      <td>https://www.booking.com/hotel/fr/logis-altitud...</td>\n",
       "      <td>7.6</td>\n",
       "    </tr>\n",
       "    <tr>\n",
       "      <th>...</th>\n",
       "      <td>...</td>\n",
       "      <td>...</td>\n",
       "      <td>...</td>\n",
       "      <td>...</td>\n",
       "    </tr>\n",
       "    <tr>\n",
       "      <th>109</th>\n",
       "      <td>Strasbourg</td>\n",
       "      <td>Hôtel Restaurant Athena Spa</td>\n",
       "      <td>https://www.booking.com/hotel/fr/athena-spa.en...</td>\n",
       "      <td>8.5</td>\n",
       "    </tr>\n",
       "    <tr>\n",
       "      <th>110</th>\n",
       "      <td>Strasbourg</td>\n",
       "      <td>Château de Pourtalès</td>\n",
       "      <td>https://www.booking.com/hotel/fr/chateau-de-po...</td>\n",
       "      <td>8.9</td>\n",
       "    </tr>\n",
       "    <tr>\n",
       "      <th>111</th>\n",
       "      <td>Strasbourg</td>\n",
       "      <td>Pavillon REGENT PETITE FRANCE</td>\n",
       "      <td>https://www.booking.com/hotel/fr/pavillon-rege...</td>\n",
       "      <td>9.0</td>\n",
       "    </tr>\n",
       "    <tr>\n",
       "      <th>112</th>\n",
       "      <td>Strasbourg</td>\n",
       "      <td>Citadines Kléber Strasbourg</td>\n",
       "      <td>https://www.booking.com/hotel/fr/citadines-apa...</td>\n",
       "      <td>8.1</td>\n",
       "    </tr>\n",
       "    <tr>\n",
       "      <th>113</th>\n",
       "      <td>Strasbourg</td>\n",
       "      <td>Hôtel Campanile Strasbourg Aéroport Lingolsheim</td>\n",
       "      <td>https://www.booking.com/hotel/fr/htlrestlingol...</td>\n",
       "      <td>7.1</td>\n",
       "    </tr>\n",
       "  </tbody>\n",
       "</table>\n",
       "<p>114 rows × 4 columns</p>\n",
       "</div>"
      ],
      "text/plain": [
       "           city                                             name  \\\n",
       "0    Castellane                            Les Canyons du Verdon   \n",
       "1    Castellane                                      Lou Paradou   \n",
       "2    Castellane                               Auberge des Salles   \n",
       "3    Castellane                                   Le Chemin Neuf   \n",
       "4    Castellane                                  Gabrielle hôtel   \n",
       "..          ...                                              ...   \n",
       "109  Strasbourg                      Hôtel Restaurant Athena Spa   \n",
       "110  Strasbourg                             Château de Pourtalès   \n",
       "111  Strasbourg                    Pavillon REGENT PETITE FRANCE   \n",
       "112  Strasbourg                      Citadines Kléber Strasbourg   \n",
       "113  Strasbourg  Hôtel Campanile Strasbourg Aéroport Lingolsheim   \n",
       "\n",
       "                                                   url rating  \n",
       "0    https://www.booking.com/hotel/fr/les-canyons-d...    7.7  \n",
       "1    https://www.booking.com/hotel/fr/hotellouparad...    8.6  \n",
       "2    https://www.booking.com/hotel/fr/auberge-des-s...    8.6  \n",
       "3    https://www.booking.com/hotel/fr/le-chemin-neu...    7.7  \n",
       "4    https://www.booking.com/hotel/fr/logis-altitud...    7.6  \n",
       "..                                                 ...    ...  \n",
       "109  https://www.booking.com/hotel/fr/athena-spa.en...    8.5  \n",
       "110  https://www.booking.com/hotel/fr/chateau-de-po...    8.9  \n",
       "111  https://www.booking.com/hotel/fr/pavillon-rege...    9.0  \n",
       "112  https://www.booking.com/hotel/fr/citadines-apa...    8.1  \n",
       "113  https://www.booking.com/hotel/fr/htlrestlingol...    7.1  \n",
       "\n",
       "[114 rows x 4 columns]"
      ]
     },
     "metadata": {},
     "output_type": "display_data"
    }
   ],
   "source": [
    "import pandas as pd\n",
    "df_scrapy = pd.DataFrame(results)\n",
    "display(df_scrapy)"
   ]
  },
  {
   "cell_type": "code",
   "execution_count": 18,
   "metadata": {},
   "outputs": [
    {
     "data": {
      "text/html": [
       "<div>\n",
       "<style scoped>\n",
       "    .dataframe tbody tr th:only-of-type {\n",
       "        vertical-align: middle;\n",
       "    }\n",
       "\n",
       "    .dataframe tbody tr th {\n",
       "        vertical-align: top;\n",
       "    }\n",
       "\n",
       "    .dataframe thead th {\n",
       "        text-align: right;\n",
       "    }\n",
       "</style>\n",
       "<table border=\"1\" class=\"dataframe\">\n",
       "  <thead>\n",
       "    <tr style=\"text-align: right;\">\n",
       "      <th></th>\n",
       "      <th>name</th>\n",
       "      <th>latitude</th>\n",
       "      <th>longitude</th>\n",
       "      <th>description</th>\n",
       "    </tr>\n",
       "  </thead>\n",
       "  <tbody>\n",
       "    <tr>\n",
       "      <th>0</th>\n",
       "      <td>Le Chemin Neuf</td>\n",
       "      <td>43.7408923082569</td>\n",
       "      <td>5.86045671840638</td>\n",
       "      <td>Le Chemin Neuf features accommodation in Gréou...</td>\n",
       "    </tr>\n",
       "    <tr>\n",
       "      <th>1</th>\n",
       "      <td>Le Vieux Château</td>\n",
       "      <td>43.7577077607643</td>\n",
       "      <td>6.21845747318739</td>\n",
       "      <td>Situated in an 18th-century building, Le Vieux...</td>\n",
       "    </tr>\n",
       "    <tr>\n",
       "      <th>2</th>\n",
       "      <td>Auberge de Baudinard sur Verdon</td>\n",
       "      <td>43.6980384602467</td>\n",
       "      <td>6.10916780674774</td>\n",
       "      <td>Boasting a terrace and free WiFi, Auberge de B...</td>\n",
       "    </tr>\n",
       "    <tr>\n",
       "      <th>3</th>\n",
       "      <td>Les Canyons du Verdon</td>\n",
       "      <td>43.8327069609255</td>\n",
       "      <td>6.48327175882818</td>\n",
       "      <td>Located in Verdon Regional Park, Les Canyons d...</td>\n",
       "    </tr>\n",
       "    <tr>\n",
       "      <th>4</th>\n",
       "      <td>Auberge des Salles</td>\n",
       "      <td>43.7544269005896</td>\n",
       "      <td>6.18355612229856</td>\n",
       "      <td>Situated in Les Salles-sur-Verdon, Auberge des...</td>\n",
       "    </tr>\n",
       "    <tr>\n",
       "      <th>...</th>\n",
       "      <td>...</td>\n",
       "      <td>...</td>\n",
       "      <td>...</td>\n",
       "      <td>...</td>\n",
       "    </tr>\n",
       "    <tr>\n",
       "      <th>109</th>\n",
       "      <td>Château de Pourtalès</td>\n",
       "      <td>48.5901196658536</td>\n",
       "      <td>7.77279455471853</td>\n",
       "      <td>Château de Pourtalès is located in the north a...</td>\n",
       "    </tr>\n",
       "    <tr>\n",
       "      <th>110</th>\n",
       "      <td>Citadines Eurometropole Strasbourg</td>\n",
       "      <td>48.5863087053773</td>\n",
       "      <td>7.67724237035128</td>\n",
       "      <td>Situated just 3.6 km from Zénith de Strasbourg...</td>\n",
       "    </tr>\n",
       "    <tr>\n",
       "      <th>111</th>\n",
       "      <td>Hôtel Campanile Strasbourg Aéroport Lingolsheim</td>\n",
       "      <td>48.5437967991524</td>\n",
       "      <td>7.66985887648798</td>\n",
       "      <td>Campanile Hotel Strasbourg Aéroport is located...</td>\n",
       "    </tr>\n",
       "    <tr>\n",
       "      <th>112</th>\n",
       "      <td>Citadines Kléber Strasbourg</td>\n",
       "      <td>48.5658802256972</td>\n",
       "      <td>7.71621702514738</td>\n",
       "      <td>Located next to Place Kléber, this Citadines A...</td>\n",
       "    </tr>\n",
       "    <tr>\n",
       "      <th>113</th>\n",
       "      <td>Pavillon REGENT PETITE FRANCE</td>\n",
       "      <td>48.5636259406686</td>\n",
       "      <td>7.714341671968</td>\n",
       "      <td>Pavillon Régent Petite France is located in th...</td>\n",
       "    </tr>\n",
       "  </tbody>\n",
       "</table>\n",
       "<p>114 rows × 4 columns</p>\n",
       "</div>"
      ],
      "text/plain": [
       "                                                name          latitude  \\\n",
       "0                                     Le Chemin Neuf  43.7408923082569   \n",
       "1                                   Le Vieux Château  43.7577077607643   \n",
       "2                    Auberge de Baudinard sur Verdon  43.6980384602467   \n",
       "3                              Les Canyons du Verdon  43.8327069609255   \n",
       "4                                 Auberge des Salles  43.7544269005896   \n",
       "..                                               ...               ...   \n",
       "109                             Château de Pourtalès  48.5901196658536   \n",
       "110               Citadines Eurometropole Strasbourg  48.5863087053773   \n",
       "111  Hôtel Campanile Strasbourg Aéroport Lingolsheim  48.5437967991524   \n",
       "112                      Citadines Kléber Strasbourg  48.5658802256972   \n",
       "113                    Pavillon REGENT PETITE FRANCE  48.5636259406686   \n",
       "\n",
       "            longitude                                        description  \n",
       "0    5.86045671840638  Le Chemin Neuf features accommodation in Gréou...  \n",
       "1    6.21845747318739  Situated in an 18th-century building, Le Vieux...  \n",
       "2    6.10916780674774  Boasting a terrace and free WiFi, Auberge de B...  \n",
       "3    6.48327175882818  Located in Verdon Regional Park, Les Canyons d...  \n",
       "4    6.18355612229856  Situated in Les Salles-sur-Verdon, Auberge des...  \n",
       "..                ...                                                ...  \n",
       "109  7.77279455471853  Château de Pourtalès is located in the north a...  \n",
       "110  7.67724237035128  Situated just 3.6 km from Zénith de Strasbourg...  \n",
       "111  7.66985887648798  Campanile Hotel Strasbourg Aéroport is located...  \n",
       "112  7.71621702514738  Located next to Place Kléber, this Citadines A...  \n",
       "113    7.714341671968  Pavillon Régent Petite France is located in th...  \n",
       "\n",
       "[114 rows x 4 columns]"
      ]
     },
     "metadata": {},
     "output_type": "display_data"
    }
   ],
   "source": [
    "import pandas as pd\n",
    "df_scrapy2 = pd.DataFrame(results2)\n",
    "display(df_scrapy2)"
   ]
  },
  {
   "cell_type": "code",
   "execution_count": 21,
   "metadata": {},
   "outputs": [
    {
     "data": {
      "text/plain": [
       "114"
      ]
     },
     "execution_count": 21,
     "metadata": {},
     "output_type": "execute_result"
    }
   ],
   "source": [
    "df_merge = df_scrapy.merge(df_scrapy2, on = \"name\")\n",
    "len(df_merge)"
   ]
  },
  {
   "cell_type": "code",
   "execution_count": 22,
   "metadata": {},
   "outputs": [],
   "source": [
    "df_merge.to_csv(\"Booking_scraping.csv\")"
   ]
  },
  {
   "cell_type": "code",
   "execution_count": null,
   "metadata": {},
   "outputs": [],
   "source": []
  }
 ],
 "metadata": {
  "kernelspec": {
   "display_name": "base",
   "language": "python",
   "name": "python3"
  },
  "language_info": {
   "codemirror_mode": {
    "name": "ipython",
    "version": 3
   },
   "file_extension": ".py",
   "mimetype": "text/x-python",
   "name": "python",
   "nbconvert_exporter": "python",
   "pygments_lexer": "ipython3",
   "version": "3.11.7"
  }
 },
 "nbformat": 4,
 "nbformat_minor": 2
}
