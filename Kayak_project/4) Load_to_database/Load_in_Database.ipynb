{
 "cells": [
  {
   "cell_type": "code",
   "execution_count": 16,
   "metadata": {},
   "outputs": [
    {
     "name": "stdout",
     "output_type": "stream",
     "text": [
      "Requirement already satisfied: psycopg2-binary in c:\\users\\leasc\\anaconda3\\lib\\site-packages (2.9.9)\n"
     ]
    }
   ],
   "source": [
    "!pip install psycopg2-binary"
   ]
  },
  {
   "cell_type": "code",
   "execution_count": 21,
   "metadata": {},
   "outputs": [],
   "source": [
    "from sqlalchemy import create_engine, text\n",
    "engine = create_engine(f\"mysql+pymysql://admin:XX@jedha-firstdb.c7c0kmsugxin.eu-west-3.rds.amazonaws.com:3306/jedha-firstdb\", echo=True)"
   ]
  },
  {
   "cell_type": "code",
   "execution_count": 22,
   "metadata": {},
   "outputs": [
    {
     "name": "stderr",
     "output_type": "stream",
     "text": [
      "C:\\Users\\leasc\\AppData\\Local\\Temp\\ipykernel_51676\\1140088399.py:2: MovedIn20Warning: The ``declarative_base()`` function is now available as sqlalchemy.orm.declarative_base(). (deprecated since: 2.0) (Background on SQLAlchemy 2.0 at: https://sqlalche.me/e/b8d9)\n",
      "  Base = declarative_base()\n"
     ]
    }
   ],
   "source": [
    "from sqlalchemy.ext.declarative import declarative_base\n",
    "Base = declarative_base()\n",
    "\n",
    "# Let's define our table using a class\n",
    "from sqlalchemy import Column, Integer, String, Float\n",
    "\n",
    "class User(Base):\n",
    "    __tablename__ = \"Hotel\"\n",
    "\n",
    "    # Each parameter corresponds to a column in our DB table\n",
    "    index = Column(Integer, primary_key=True)\n",
    "    city = Column(String(21))\n",
    "    name_x = Column(String(21))\n",
    "    city_final = Column(String(21))\n",
    "    rating = Column(Integer)\n",
    "    latitude = Column(Float)\n",
    "    longitude = Column(Float)\n",
    "    city_final = Column(String(21))\n",
    "    url = Column(String(50))\n",
    "    description = Column(String(50))\n",
    "\n"
   ]
  },
  {
   "cell_type": "code",
   "execution_count": 23,
   "metadata": {},
   "outputs": [
    {
     "ename": "OperationalError",
     "evalue": "(pymysql.err.OperationalError) (2003, \"Can't connect to MySQL server on 'jedha-firstdb.c7c0kmsugxin.eu-west-3.rds.amazonaws.com' (timed out)\")\n(Background on this error at: https://sqlalche.me/e/20/e3q8)",
     "output_type": "error",
     "traceback": [
      "\u001b[1;31m---------------------------------------------------------------------------\u001b[0m",
      "\u001b[1;31mTimeoutError\u001b[0m                              Traceback (most recent call last)",
      "File \u001b[1;32mc:\\Users\\leasc\\anaconda3\\Lib\\site-packages\\pymysql\\connections.py:649\u001b[0m, in \u001b[0;36mConnection.connect\u001b[1;34m(self, sock)\u001b[0m\n\u001b[0;32m    648\u001b[0m \u001b[38;5;28;01mtry\u001b[39;00m:\n\u001b[1;32m--> 649\u001b[0m     sock \u001b[38;5;241m=\u001b[39m socket\u001b[38;5;241m.\u001b[39mcreate_connection(\n\u001b[0;32m    650\u001b[0m         (\u001b[38;5;28mself\u001b[39m\u001b[38;5;241m.\u001b[39mhost, \u001b[38;5;28mself\u001b[39m\u001b[38;5;241m.\u001b[39mport), \u001b[38;5;28mself\u001b[39m\u001b[38;5;241m.\u001b[39mconnect_timeout, \u001b[38;5;241m*\u001b[39m\u001b[38;5;241m*\u001b[39mkwargs\n\u001b[0;32m    651\u001b[0m     )\n\u001b[0;32m    652\u001b[0m     \u001b[38;5;28;01mbreak\u001b[39;00m\n",
      "File \u001b[1;32mc:\\Users\\leasc\\anaconda3\\Lib\\socket.py:851\u001b[0m, in \u001b[0;36mcreate_connection\u001b[1;34m(address, timeout, source_address, all_errors)\u001b[0m\n\u001b[0;32m    850\u001b[0m \u001b[38;5;28;01mif\u001b[39;00m \u001b[38;5;129;01mnot\u001b[39;00m all_errors:\n\u001b[1;32m--> 851\u001b[0m     \u001b[38;5;28;01mraise\u001b[39;00m exceptions[\u001b[38;5;241m0\u001b[39m]\n\u001b[0;32m    852\u001b[0m \u001b[38;5;28;01mraise\u001b[39;00m ExceptionGroup(\u001b[38;5;124m\"\u001b[39m\u001b[38;5;124mcreate_connection failed\u001b[39m\u001b[38;5;124m\"\u001b[39m, exceptions)\n",
      "File \u001b[1;32mc:\\Users\\leasc\\anaconda3\\Lib\\socket.py:836\u001b[0m, in \u001b[0;36mcreate_connection\u001b[1;34m(address, timeout, source_address, all_errors)\u001b[0m\n\u001b[0;32m    835\u001b[0m     sock\u001b[38;5;241m.\u001b[39mbind(source_address)\n\u001b[1;32m--> 836\u001b[0m sock\u001b[38;5;241m.\u001b[39mconnect(sa)\n\u001b[0;32m    837\u001b[0m \u001b[38;5;66;03m# Break explicitly a reference cycle\u001b[39;00m\n",
      "\u001b[1;31mTimeoutError\u001b[0m: timed out",
      "\nDuring handling of the above exception, another exception occurred:\n",
      "\u001b[1;31mOperationalError\u001b[0m                          Traceback (most recent call last)",
      "File \u001b[1;32mc:\\Users\\leasc\\anaconda3\\Lib\\site-packages\\sqlalchemy\\engine\\base.py:145\u001b[0m, in \u001b[0;36mConnection.__init__\u001b[1;34m(self, engine, connection, _has_events, _allow_revalidate, _allow_autobegin)\u001b[0m\n\u001b[0;32m    144\u001b[0m \u001b[38;5;28;01mtry\u001b[39;00m:\n\u001b[1;32m--> 145\u001b[0m     \u001b[38;5;28mself\u001b[39m\u001b[38;5;241m.\u001b[39m_dbapi_connection \u001b[38;5;241m=\u001b[39m engine\u001b[38;5;241m.\u001b[39mraw_connection()\n\u001b[0;32m    146\u001b[0m \u001b[38;5;28;01mexcept\u001b[39;00m dialect\u001b[38;5;241m.\u001b[39mloaded_dbapi\u001b[38;5;241m.\u001b[39mError \u001b[38;5;28;01mas\u001b[39;00m err:\n",
      "File \u001b[1;32mc:\\Users\\leasc\\anaconda3\\Lib\\site-packages\\sqlalchemy\\engine\\base.py:3293\u001b[0m, in \u001b[0;36mEngine.raw_connection\u001b[1;34m(self)\u001b[0m\n\u001b[0;32m   3272\u001b[0m \u001b[38;5;250m\u001b[39m\u001b[38;5;124;03m\"\"\"Return a \"raw\" DBAPI connection from the connection pool.\u001b[39;00m\n\u001b[0;32m   3273\u001b[0m \n\u001b[0;32m   3274\u001b[0m \u001b[38;5;124;03mThe returned object is a proxied version of the DBAPI\u001b[39;00m\n\u001b[1;32m   (...)\u001b[0m\n\u001b[0;32m   3291\u001b[0m \n\u001b[0;32m   3292\u001b[0m \u001b[38;5;124;03m\"\"\"\u001b[39;00m\n\u001b[1;32m-> 3293\u001b[0m \u001b[38;5;28;01mreturn\u001b[39;00m \u001b[38;5;28mself\u001b[39m\u001b[38;5;241m.\u001b[39mpool\u001b[38;5;241m.\u001b[39mconnect()\n",
      "File \u001b[1;32mc:\\Users\\leasc\\anaconda3\\Lib\\site-packages\\sqlalchemy\\pool\\base.py:452\u001b[0m, in \u001b[0;36mPool.connect\u001b[1;34m(self)\u001b[0m\n\u001b[0;32m    445\u001b[0m \u001b[38;5;250m\u001b[39m\u001b[38;5;124;03m\"\"\"Return a DBAPI connection from the pool.\u001b[39;00m\n\u001b[0;32m    446\u001b[0m \n\u001b[0;32m    447\u001b[0m \u001b[38;5;124;03mThe connection is instrumented such that when its\u001b[39;00m\n\u001b[1;32m   (...)\u001b[0m\n\u001b[0;32m    450\u001b[0m \n\u001b[0;32m    451\u001b[0m \u001b[38;5;124;03m\"\"\"\u001b[39;00m\n\u001b[1;32m--> 452\u001b[0m \u001b[38;5;28;01mreturn\u001b[39;00m _ConnectionFairy\u001b[38;5;241m.\u001b[39m_checkout(\u001b[38;5;28mself\u001b[39m)\n",
      "File \u001b[1;32mc:\\Users\\leasc\\anaconda3\\Lib\\site-packages\\sqlalchemy\\pool\\base.py:1269\u001b[0m, in \u001b[0;36m_ConnectionFairy._checkout\u001b[1;34m(cls, pool, threadconns, fairy)\u001b[0m\n\u001b[0;32m   1268\u001b[0m \u001b[38;5;28;01mif\u001b[39;00m \u001b[38;5;129;01mnot\u001b[39;00m fairy:\n\u001b[1;32m-> 1269\u001b[0m     fairy \u001b[38;5;241m=\u001b[39m _ConnectionRecord\u001b[38;5;241m.\u001b[39mcheckout(pool)\n\u001b[0;32m   1271\u001b[0m     \u001b[38;5;28;01mif\u001b[39;00m threadconns \u001b[38;5;129;01mis\u001b[39;00m \u001b[38;5;129;01mnot\u001b[39;00m \u001b[38;5;28;01mNone\u001b[39;00m:\n",
      "File \u001b[1;32mc:\\Users\\leasc\\anaconda3\\Lib\\site-packages\\sqlalchemy\\pool\\base.py:716\u001b[0m, in \u001b[0;36m_ConnectionRecord.checkout\u001b[1;34m(cls, pool)\u001b[0m\n\u001b[0;32m    715\u001b[0m \u001b[38;5;28;01melse\u001b[39;00m:\n\u001b[1;32m--> 716\u001b[0m     rec \u001b[38;5;241m=\u001b[39m pool\u001b[38;5;241m.\u001b[39m_do_get()\n\u001b[0;32m    718\u001b[0m \u001b[38;5;28;01mtry\u001b[39;00m:\n",
      "File \u001b[1;32mc:\\Users\\leasc\\anaconda3\\Lib\\site-packages\\sqlalchemy\\pool\\impl.py:169\u001b[0m, in \u001b[0;36mQueuePool._do_get\u001b[1;34m(self)\u001b[0m\n\u001b[0;32m    168\u001b[0m \u001b[38;5;28;01mexcept\u001b[39;00m:\n\u001b[1;32m--> 169\u001b[0m     \u001b[38;5;28;01mwith\u001b[39;00m util\u001b[38;5;241m.\u001b[39msafe_reraise():\n\u001b[0;32m    170\u001b[0m         \u001b[38;5;28mself\u001b[39m\u001b[38;5;241m.\u001b[39m_dec_overflow()\n",
      "File \u001b[1;32mc:\\Users\\leasc\\anaconda3\\Lib\\site-packages\\sqlalchemy\\util\\langhelpers.py:146\u001b[0m, in \u001b[0;36msafe_reraise.__exit__\u001b[1;34m(self, type_, value, traceback)\u001b[0m\n\u001b[0;32m    145\u001b[0m     \u001b[38;5;28mself\u001b[39m\u001b[38;5;241m.\u001b[39m_exc_info \u001b[38;5;241m=\u001b[39m \u001b[38;5;28;01mNone\u001b[39;00m  \u001b[38;5;66;03m# remove potential circular references\u001b[39;00m\n\u001b[1;32m--> 146\u001b[0m     \u001b[38;5;28;01mraise\u001b[39;00m exc_value\u001b[38;5;241m.\u001b[39mwith_traceback(exc_tb)\n\u001b[0;32m    147\u001b[0m \u001b[38;5;28;01melse\u001b[39;00m:\n",
      "File \u001b[1;32mc:\\Users\\leasc\\anaconda3\\Lib\\site-packages\\sqlalchemy\\pool\\impl.py:167\u001b[0m, in \u001b[0;36mQueuePool._do_get\u001b[1;34m(self)\u001b[0m\n\u001b[0;32m    166\u001b[0m \u001b[38;5;28;01mtry\u001b[39;00m:\n\u001b[1;32m--> 167\u001b[0m     \u001b[38;5;28;01mreturn\u001b[39;00m \u001b[38;5;28mself\u001b[39m\u001b[38;5;241m.\u001b[39m_create_connection()\n\u001b[0;32m    168\u001b[0m \u001b[38;5;28;01mexcept\u001b[39;00m:\n",
      "File \u001b[1;32mc:\\Users\\leasc\\anaconda3\\Lib\\site-packages\\sqlalchemy\\pool\\base.py:393\u001b[0m, in \u001b[0;36mPool._create_connection\u001b[1;34m(self)\u001b[0m\n\u001b[0;32m    391\u001b[0m \u001b[38;5;250m\u001b[39m\u001b[38;5;124;03m\"\"\"Called by subclasses to create a new ConnectionRecord.\"\"\"\u001b[39;00m\n\u001b[1;32m--> 393\u001b[0m \u001b[38;5;28;01mreturn\u001b[39;00m _ConnectionRecord(\u001b[38;5;28mself\u001b[39m)\n",
      "File \u001b[1;32mc:\\Users\\leasc\\anaconda3\\Lib\\site-packages\\sqlalchemy\\pool\\base.py:678\u001b[0m, in \u001b[0;36m_ConnectionRecord.__init__\u001b[1;34m(self, pool, connect)\u001b[0m\n\u001b[0;32m    677\u001b[0m \u001b[38;5;28;01mif\u001b[39;00m connect:\n\u001b[1;32m--> 678\u001b[0m     \u001b[38;5;28mself\u001b[39m\u001b[38;5;241m.\u001b[39m__connect()\n\u001b[0;32m    679\u001b[0m \u001b[38;5;28mself\u001b[39m\u001b[38;5;241m.\u001b[39mfinalize_callback \u001b[38;5;241m=\u001b[39m deque()\n",
      "File \u001b[1;32mc:\\Users\\leasc\\anaconda3\\Lib\\site-packages\\sqlalchemy\\pool\\base.py:902\u001b[0m, in \u001b[0;36m_ConnectionRecord.__connect\u001b[1;34m(self)\u001b[0m\n\u001b[0;32m    901\u001b[0m \u001b[38;5;28;01mexcept\u001b[39;00m \u001b[38;5;167;01mBaseException\u001b[39;00m \u001b[38;5;28;01mas\u001b[39;00m e:\n\u001b[1;32m--> 902\u001b[0m     \u001b[38;5;28;01mwith\u001b[39;00m util\u001b[38;5;241m.\u001b[39msafe_reraise():\n\u001b[0;32m    903\u001b[0m         pool\u001b[38;5;241m.\u001b[39mlogger\u001b[38;5;241m.\u001b[39mdebug(\u001b[38;5;124m\"\u001b[39m\u001b[38;5;124mError on connect(): \u001b[39m\u001b[38;5;132;01m%s\u001b[39;00m\u001b[38;5;124m\"\u001b[39m, e)\n",
      "File \u001b[1;32mc:\\Users\\leasc\\anaconda3\\Lib\\site-packages\\sqlalchemy\\util\\langhelpers.py:146\u001b[0m, in \u001b[0;36msafe_reraise.__exit__\u001b[1;34m(self, type_, value, traceback)\u001b[0m\n\u001b[0;32m    145\u001b[0m     \u001b[38;5;28mself\u001b[39m\u001b[38;5;241m.\u001b[39m_exc_info \u001b[38;5;241m=\u001b[39m \u001b[38;5;28;01mNone\u001b[39;00m  \u001b[38;5;66;03m# remove potential circular references\u001b[39;00m\n\u001b[1;32m--> 146\u001b[0m     \u001b[38;5;28;01mraise\u001b[39;00m exc_value\u001b[38;5;241m.\u001b[39mwith_traceback(exc_tb)\n\u001b[0;32m    147\u001b[0m \u001b[38;5;28;01melse\u001b[39;00m:\n",
      "File \u001b[1;32mc:\\Users\\leasc\\anaconda3\\Lib\\site-packages\\sqlalchemy\\pool\\base.py:898\u001b[0m, in \u001b[0;36m_ConnectionRecord.__connect\u001b[1;34m(self)\u001b[0m\n\u001b[0;32m    897\u001b[0m \u001b[38;5;28mself\u001b[39m\u001b[38;5;241m.\u001b[39mstarttime \u001b[38;5;241m=\u001b[39m time\u001b[38;5;241m.\u001b[39mtime()\n\u001b[1;32m--> 898\u001b[0m \u001b[38;5;28mself\u001b[39m\u001b[38;5;241m.\u001b[39mdbapi_connection \u001b[38;5;241m=\u001b[39m connection \u001b[38;5;241m=\u001b[39m pool\u001b[38;5;241m.\u001b[39m_invoke_creator(\u001b[38;5;28mself\u001b[39m)\n\u001b[0;32m    899\u001b[0m pool\u001b[38;5;241m.\u001b[39mlogger\u001b[38;5;241m.\u001b[39mdebug(\u001b[38;5;124m\"\u001b[39m\u001b[38;5;124mCreated new connection \u001b[39m\u001b[38;5;132;01m%r\u001b[39;00m\u001b[38;5;124m\"\u001b[39m, connection)\n",
      "File \u001b[1;32mc:\\Users\\leasc\\anaconda3\\Lib\\site-packages\\sqlalchemy\\engine\\create.py:645\u001b[0m, in \u001b[0;36mcreate_engine.<locals>.connect\u001b[1;34m(connection_record)\u001b[0m\n\u001b[0;32m    643\u001b[0m             \u001b[38;5;28;01mreturn\u001b[39;00m connection\n\u001b[1;32m--> 645\u001b[0m \u001b[38;5;28;01mreturn\u001b[39;00m dialect\u001b[38;5;241m.\u001b[39mconnect(\u001b[38;5;241m*\u001b[39mcargs, \u001b[38;5;241m*\u001b[39m\u001b[38;5;241m*\u001b[39mcparams)\n",
      "File \u001b[1;32mc:\\Users\\leasc\\anaconda3\\Lib\\site-packages\\sqlalchemy\\engine\\default.py:616\u001b[0m, in \u001b[0;36mDefaultDialect.connect\u001b[1;34m(self, *cargs, **cparams)\u001b[0m\n\u001b[0;32m    614\u001b[0m \u001b[38;5;28;01mdef\u001b[39;00m \u001b[38;5;21mconnect\u001b[39m(\u001b[38;5;28mself\u001b[39m, \u001b[38;5;241m*\u001b[39mcargs, \u001b[38;5;241m*\u001b[39m\u001b[38;5;241m*\u001b[39mcparams):\n\u001b[0;32m    615\u001b[0m     \u001b[38;5;66;03m# inherits the docstring from interfaces.Dialect.connect\u001b[39;00m\n\u001b[1;32m--> 616\u001b[0m     \u001b[38;5;28;01mreturn\u001b[39;00m \u001b[38;5;28mself\u001b[39m\u001b[38;5;241m.\u001b[39mloaded_dbapi\u001b[38;5;241m.\u001b[39mconnect(\u001b[38;5;241m*\u001b[39mcargs, \u001b[38;5;241m*\u001b[39m\u001b[38;5;241m*\u001b[39mcparams)\n",
      "File \u001b[1;32mc:\\Users\\leasc\\anaconda3\\Lib\\site-packages\\pymysql\\connections.py:361\u001b[0m, in \u001b[0;36mConnection.__init__\u001b[1;34m(self, user, password, host, database, unix_socket, port, charset, collation, sql_mode, read_default_file, conv, use_unicode, client_flag, cursorclass, init_command, connect_timeout, read_default_group, autocommit, local_infile, max_allowed_packet, defer_connect, auth_plugin_map, read_timeout, write_timeout, bind_address, binary_prefix, program_name, server_public_key, ssl, ssl_ca, ssl_cert, ssl_disabled, ssl_key, ssl_key_password, ssl_verify_cert, ssl_verify_identity, compress, named_pipe, passwd, db)\u001b[0m\n\u001b[0;32m    360\u001b[0m \u001b[38;5;28;01melse\u001b[39;00m:\n\u001b[1;32m--> 361\u001b[0m     \u001b[38;5;28mself\u001b[39m\u001b[38;5;241m.\u001b[39mconnect()\n",
      "File \u001b[1;32mc:\\Users\\leasc\\anaconda3\\Lib\\site-packages\\pymysql\\connections.py:716\u001b[0m, in \u001b[0;36mConnection.connect\u001b[1;34m(self, sock)\u001b[0m\n\u001b[0;32m    715\u001b[0m         \u001b[38;5;28mprint\u001b[39m(exc\u001b[38;5;241m.\u001b[39mtraceback)\n\u001b[1;32m--> 716\u001b[0m     \u001b[38;5;28;01mraise\u001b[39;00m exc\n\u001b[0;32m    718\u001b[0m \u001b[38;5;66;03m# If e is neither DatabaseError or IOError, It's a bug.\u001b[39;00m\n\u001b[0;32m    719\u001b[0m \u001b[38;5;66;03m# But raising AssertionError hides original error.\u001b[39;00m\n\u001b[0;32m    720\u001b[0m \u001b[38;5;66;03m# So just reraise it.\u001b[39;00m\n",
      "\u001b[1;31mOperationalError\u001b[0m: (2003, \"Can't connect to MySQL server on 'jedha-firstdb.c7c0kmsugxin.eu-west-3.rds.amazonaws.com' (timed out)\")",
      "\nThe above exception was the direct cause of the following exception:\n",
      "\u001b[1;31mOperationalError\u001b[0m                          Traceback (most recent call last)",
      "Cell \u001b[1;32mIn[23], line 1\u001b[0m\n\u001b[1;32m----> 1\u001b[0m Base\u001b[38;5;241m.\u001b[39mmetadata\u001b[38;5;241m.\u001b[39mcreate_all(engine)\n",
      "File \u001b[1;32mc:\\Users\\leasc\\anaconda3\\Lib\\site-packages\\sqlalchemy\\sql\\schema.py:5832\u001b[0m, in \u001b[0;36mMetaData.create_all\u001b[1;34m(self, bind, tables, checkfirst)\u001b[0m\n\u001b[0;32m   5808\u001b[0m \u001b[38;5;28;01mdef\u001b[39;00m \u001b[38;5;21mcreate_all\u001b[39m(\n\u001b[0;32m   5809\u001b[0m     \u001b[38;5;28mself\u001b[39m,\n\u001b[0;32m   5810\u001b[0m     bind: _CreateDropBind,\n\u001b[0;32m   5811\u001b[0m     tables: Optional[_typing_Sequence[Table]] \u001b[38;5;241m=\u001b[39m \u001b[38;5;28;01mNone\u001b[39;00m,\n\u001b[0;32m   5812\u001b[0m     checkfirst: \u001b[38;5;28mbool\u001b[39m \u001b[38;5;241m=\u001b[39m \u001b[38;5;28;01mTrue\u001b[39;00m,\n\u001b[0;32m   5813\u001b[0m ) \u001b[38;5;241m-\u001b[39m\u001b[38;5;241m>\u001b[39m \u001b[38;5;28;01mNone\u001b[39;00m:\n\u001b[0;32m   5814\u001b[0m \u001b[38;5;250m    \u001b[39m\u001b[38;5;124;03m\"\"\"Create all tables stored in this metadata.\u001b[39;00m\n\u001b[0;32m   5815\u001b[0m \n\u001b[0;32m   5816\u001b[0m \u001b[38;5;124;03m    Conditional by default, will not attempt to recreate tables already\u001b[39;00m\n\u001b[1;32m   (...)\u001b[0m\n\u001b[0;32m   5830\u001b[0m \n\u001b[0;32m   5831\u001b[0m \u001b[38;5;124;03m    \"\"\"\u001b[39;00m\n\u001b[1;32m-> 5832\u001b[0m     bind\u001b[38;5;241m.\u001b[39m_run_ddl_visitor(\n\u001b[0;32m   5833\u001b[0m         ddl\u001b[38;5;241m.\u001b[39mSchemaGenerator, \u001b[38;5;28mself\u001b[39m, checkfirst\u001b[38;5;241m=\u001b[39mcheckfirst, tables\u001b[38;5;241m=\u001b[39mtables\n\u001b[0;32m   5834\u001b[0m     )\n",
      "File \u001b[1;32mc:\\Users\\leasc\\anaconda3\\Lib\\site-packages\\sqlalchemy\\engine\\base.py:3243\u001b[0m, in \u001b[0;36mEngine._run_ddl_visitor\u001b[1;34m(self, visitorcallable, element, **kwargs)\u001b[0m\n\u001b[0;32m   3237\u001b[0m \u001b[38;5;28;01mdef\u001b[39;00m \u001b[38;5;21m_run_ddl_visitor\u001b[39m(\n\u001b[0;32m   3238\u001b[0m     \u001b[38;5;28mself\u001b[39m,\n\u001b[0;32m   3239\u001b[0m     visitorcallable: Type[Union[SchemaGenerator, SchemaDropper]],\n\u001b[0;32m   3240\u001b[0m     element: SchemaItem,\n\u001b[0;32m   3241\u001b[0m     \u001b[38;5;241m*\u001b[39m\u001b[38;5;241m*\u001b[39mkwargs: Any,\n\u001b[0;32m   3242\u001b[0m ) \u001b[38;5;241m-\u001b[39m\u001b[38;5;241m>\u001b[39m \u001b[38;5;28;01mNone\u001b[39;00m:\n\u001b[1;32m-> 3243\u001b[0m     \u001b[38;5;28;01mwith\u001b[39;00m \u001b[38;5;28mself\u001b[39m\u001b[38;5;241m.\u001b[39mbegin() \u001b[38;5;28;01mas\u001b[39;00m conn:\n\u001b[0;32m   3244\u001b[0m         conn\u001b[38;5;241m.\u001b[39m_run_ddl_visitor(visitorcallable, element, \u001b[38;5;241m*\u001b[39m\u001b[38;5;241m*\u001b[39mkwargs)\n",
      "File \u001b[1;32mc:\\Users\\leasc\\anaconda3\\Lib\\contextlib.py:137\u001b[0m, in \u001b[0;36m_GeneratorContextManager.__enter__\u001b[1;34m(self)\u001b[0m\n\u001b[0;32m    135\u001b[0m \u001b[38;5;28;01mdel\u001b[39;00m \u001b[38;5;28mself\u001b[39m\u001b[38;5;241m.\u001b[39margs, \u001b[38;5;28mself\u001b[39m\u001b[38;5;241m.\u001b[39mkwds, \u001b[38;5;28mself\u001b[39m\u001b[38;5;241m.\u001b[39mfunc\n\u001b[0;32m    136\u001b[0m \u001b[38;5;28;01mtry\u001b[39;00m:\n\u001b[1;32m--> 137\u001b[0m     \u001b[38;5;28;01mreturn\u001b[39;00m \u001b[38;5;28mnext\u001b[39m(\u001b[38;5;28mself\u001b[39m\u001b[38;5;241m.\u001b[39mgen)\n\u001b[0;32m    138\u001b[0m \u001b[38;5;28;01mexcept\u001b[39;00m \u001b[38;5;167;01mStopIteration\u001b[39;00m:\n\u001b[0;32m    139\u001b[0m     \u001b[38;5;28;01mraise\u001b[39;00m \u001b[38;5;167;01mRuntimeError\u001b[39;00m(\u001b[38;5;124m\"\u001b[39m\u001b[38;5;124mgenerator didn\u001b[39m\u001b[38;5;124m'\u001b[39m\u001b[38;5;124mt yield\u001b[39m\u001b[38;5;124m\"\u001b[39m) \u001b[38;5;28;01mfrom\u001b[39;00m \u001b[38;5;28;01mNone\u001b[39;00m\n",
      "File \u001b[1;32mc:\\Users\\leasc\\anaconda3\\Lib\\site-packages\\sqlalchemy\\engine\\base.py:3233\u001b[0m, in \u001b[0;36mEngine.begin\u001b[1;34m(self)\u001b[0m\n\u001b[0;32m   3206\u001b[0m \u001b[38;5;129m@contextlib\u001b[39m\u001b[38;5;241m.\u001b[39mcontextmanager\n\u001b[0;32m   3207\u001b[0m \u001b[38;5;28;01mdef\u001b[39;00m \u001b[38;5;21mbegin\u001b[39m(\u001b[38;5;28mself\u001b[39m) \u001b[38;5;241m-\u001b[39m\u001b[38;5;241m>\u001b[39m Iterator[Connection]:\n\u001b[0;32m   3208\u001b[0m \u001b[38;5;250m    \u001b[39m\u001b[38;5;124;03m\"\"\"Return a context manager delivering a :class:`_engine.Connection`\u001b[39;00m\n\u001b[0;32m   3209\u001b[0m \u001b[38;5;124;03m    with a :class:`.Transaction` established.\u001b[39;00m\n\u001b[0;32m   3210\u001b[0m \n\u001b[1;32m   (...)\u001b[0m\n\u001b[0;32m   3231\u001b[0m \n\u001b[0;32m   3232\u001b[0m \u001b[38;5;124;03m    \"\"\"\u001b[39;00m\n\u001b[1;32m-> 3233\u001b[0m     \u001b[38;5;28;01mwith\u001b[39;00m \u001b[38;5;28mself\u001b[39m\u001b[38;5;241m.\u001b[39mconnect() \u001b[38;5;28;01mas\u001b[39;00m conn:\n\u001b[0;32m   3234\u001b[0m         \u001b[38;5;28;01mwith\u001b[39;00m conn\u001b[38;5;241m.\u001b[39mbegin():\n\u001b[0;32m   3235\u001b[0m             \u001b[38;5;28;01myield\u001b[39;00m conn\n",
      "File \u001b[1;32mc:\\Users\\leasc\\anaconda3\\Lib\\site-packages\\sqlalchemy\\engine\\base.py:3269\u001b[0m, in \u001b[0;36mEngine.connect\u001b[1;34m(self)\u001b[0m\n\u001b[0;32m   3246\u001b[0m \u001b[38;5;28;01mdef\u001b[39;00m \u001b[38;5;21mconnect\u001b[39m(\u001b[38;5;28mself\u001b[39m) \u001b[38;5;241m-\u001b[39m\u001b[38;5;241m>\u001b[39m Connection:\n\u001b[0;32m   3247\u001b[0m \u001b[38;5;250m    \u001b[39m\u001b[38;5;124;03m\"\"\"Return a new :class:`_engine.Connection` object.\u001b[39;00m\n\u001b[0;32m   3248\u001b[0m \n\u001b[0;32m   3249\u001b[0m \u001b[38;5;124;03m    The :class:`_engine.Connection` acts as a Python context manager, so\u001b[39;00m\n\u001b[1;32m   (...)\u001b[0m\n\u001b[0;32m   3266\u001b[0m \n\u001b[0;32m   3267\u001b[0m \u001b[38;5;124;03m    \"\"\"\u001b[39;00m\n\u001b[1;32m-> 3269\u001b[0m     \u001b[38;5;28;01mreturn\u001b[39;00m \u001b[38;5;28mself\u001b[39m\u001b[38;5;241m.\u001b[39m_connection_cls(\u001b[38;5;28mself\u001b[39m)\n",
      "File \u001b[1;32mc:\\Users\\leasc\\anaconda3\\Lib\\site-packages\\sqlalchemy\\engine\\base.py:147\u001b[0m, in \u001b[0;36mConnection.__init__\u001b[1;34m(self, engine, connection, _has_events, _allow_revalidate, _allow_autobegin)\u001b[0m\n\u001b[0;32m    145\u001b[0m         \u001b[38;5;28mself\u001b[39m\u001b[38;5;241m.\u001b[39m_dbapi_connection \u001b[38;5;241m=\u001b[39m engine\u001b[38;5;241m.\u001b[39mraw_connection()\n\u001b[0;32m    146\u001b[0m     \u001b[38;5;28;01mexcept\u001b[39;00m dialect\u001b[38;5;241m.\u001b[39mloaded_dbapi\u001b[38;5;241m.\u001b[39mError \u001b[38;5;28;01mas\u001b[39;00m err:\n\u001b[1;32m--> 147\u001b[0m         Connection\u001b[38;5;241m.\u001b[39m_handle_dbapi_exception_noconnection(\n\u001b[0;32m    148\u001b[0m             err, dialect, engine\n\u001b[0;32m    149\u001b[0m         )\n\u001b[0;32m    150\u001b[0m         \u001b[38;5;28;01mraise\u001b[39;00m\n\u001b[0;32m    151\u001b[0m \u001b[38;5;28;01melse\u001b[39;00m:\n",
      "File \u001b[1;32mc:\\Users\\leasc\\anaconda3\\Lib\\site-packages\\sqlalchemy\\engine\\base.py:2431\u001b[0m, in \u001b[0;36mConnection._handle_dbapi_exception_noconnection\u001b[1;34m(cls, e, dialect, engine, is_disconnect, invalidate_pool_on_disconnect, is_pre_ping)\u001b[0m\n\u001b[0;32m   2429\u001b[0m \u001b[38;5;28;01melif\u001b[39;00m should_wrap:\n\u001b[0;32m   2430\u001b[0m     \u001b[38;5;28;01massert\u001b[39;00m sqlalchemy_exception \u001b[38;5;129;01mis\u001b[39;00m \u001b[38;5;129;01mnot\u001b[39;00m \u001b[38;5;28;01mNone\u001b[39;00m\n\u001b[1;32m-> 2431\u001b[0m     \u001b[38;5;28;01mraise\u001b[39;00m sqlalchemy_exception\u001b[38;5;241m.\u001b[39mwith_traceback(exc_info[\u001b[38;5;241m2\u001b[39m]) \u001b[38;5;28;01mfrom\u001b[39;00m \u001b[38;5;21;01me\u001b[39;00m\n\u001b[0;32m   2432\u001b[0m \u001b[38;5;28;01melse\u001b[39;00m:\n\u001b[0;32m   2433\u001b[0m     \u001b[38;5;28;01massert\u001b[39;00m exc_info[\u001b[38;5;241m1\u001b[39m] \u001b[38;5;129;01mis\u001b[39;00m \u001b[38;5;129;01mnot\u001b[39;00m \u001b[38;5;28;01mNone\u001b[39;00m\n",
      "File \u001b[1;32mc:\\Users\\leasc\\anaconda3\\Lib\\site-packages\\sqlalchemy\\engine\\base.py:145\u001b[0m, in \u001b[0;36mConnection.__init__\u001b[1;34m(self, engine, connection, _has_events, _allow_revalidate, _allow_autobegin)\u001b[0m\n\u001b[0;32m    143\u001b[0m \u001b[38;5;28;01mif\u001b[39;00m connection \u001b[38;5;129;01mis\u001b[39;00m \u001b[38;5;28;01mNone\u001b[39;00m:\n\u001b[0;32m    144\u001b[0m     \u001b[38;5;28;01mtry\u001b[39;00m:\n\u001b[1;32m--> 145\u001b[0m         \u001b[38;5;28mself\u001b[39m\u001b[38;5;241m.\u001b[39m_dbapi_connection \u001b[38;5;241m=\u001b[39m engine\u001b[38;5;241m.\u001b[39mraw_connection()\n\u001b[0;32m    146\u001b[0m     \u001b[38;5;28;01mexcept\u001b[39;00m dialect\u001b[38;5;241m.\u001b[39mloaded_dbapi\u001b[38;5;241m.\u001b[39mError \u001b[38;5;28;01mas\u001b[39;00m err:\n\u001b[0;32m    147\u001b[0m         Connection\u001b[38;5;241m.\u001b[39m_handle_dbapi_exception_noconnection(\n\u001b[0;32m    148\u001b[0m             err, dialect, engine\n\u001b[0;32m    149\u001b[0m         )\n",
      "File \u001b[1;32mc:\\Users\\leasc\\anaconda3\\Lib\\site-packages\\sqlalchemy\\engine\\base.py:3293\u001b[0m, in \u001b[0;36mEngine.raw_connection\u001b[1;34m(self)\u001b[0m\n\u001b[0;32m   3271\u001b[0m \u001b[38;5;28;01mdef\u001b[39;00m \u001b[38;5;21mraw_connection\u001b[39m(\u001b[38;5;28mself\u001b[39m) \u001b[38;5;241m-\u001b[39m\u001b[38;5;241m>\u001b[39m PoolProxiedConnection:\n\u001b[0;32m   3272\u001b[0m \u001b[38;5;250m    \u001b[39m\u001b[38;5;124;03m\"\"\"Return a \"raw\" DBAPI connection from the connection pool.\u001b[39;00m\n\u001b[0;32m   3273\u001b[0m \n\u001b[0;32m   3274\u001b[0m \u001b[38;5;124;03m    The returned object is a proxied version of the DBAPI\u001b[39;00m\n\u001b[1;32m   (...)\u001b[0m\n\u001b[0;32m   3291\u001b[0m \n\u001b[0;32m   3292\u001b[0m \u001b[38;5;124;03m    \"\"\"\u001b[39;00m\n\u001b[1;32m-> 3293\u001b[0m     \u001b[38;5;28;01mreturn\u001b[39;00m \u001b[38;5;28mself\u001b[39m\u001b[38;5;241m.\u001b[39mpool\u001b[38;5;241m.\u001b[39mconnect()\n",
      "File \u001b[1;32mc:\\Users\\leasc\\anaconda3\\Lib\\site-packages\\sqlalchemy\\pool\\base.py:452\u001b[0m, in \u001b[0;36mPool.connect\u001b[1;34m(self)\u001b[0m\n\u001b[0;32m    444\u001b[0m \u001b[38;5;28;01mdef\u001b[39;00m \u001b[38;5;21mconnect\u001b[39m(\u001b[38;5;28mself\u001b[39m) \u001b[38;5;241m-\u001b[39m\u001b[38;5;241m>\u001b[39m PoolProxiedConnection:\n\u001b[0;32m    445\u001b[0m \u001b[38;5;250m    \u001b[39m\u001b[38;5;124;03m\"\"\"Return a DBAPI connection from the pool.\u001b[39;00m\n\u001b[0;32m    446\u001b[0m \n\u001b[0;32m    447\u001b[0m \u001b[38;5;124;03m    The connection is instrumented such that when its\u001b[39;00m\n\u001b[1;32m   (...)\u001b[0m\n\u001b[0;32m    450\u001b[0m \n\u001b[0;32m    451\u001b[0m \u001b[38;5;124;03m    \"\"\"\u001b[39;00m\n\u001b[1;32m--> 452\u001b[0m     \u001b[38;5;28;01mreturn\u001b[39;00m _ConnectionFairy\u001b[38;5;241m.\u001b[39m_checkout(\u001b[38;5;28mself\u001b[39m)\n",
      "File \u001b[1;32mc:\\Users\\leasc\\anaconda3\\Lib\\site-packages\\sqlalchemy\\pool\\base.py:1269\u001b[0m, in \u001b[0;36m_ConnectionFairy._checkout\u001b[1;34m(cls, pool, threadconns, fairy)\u001b[0m\n\u001b[0;32m   1261\u001b[0m \u001b[38;5;129m@classmethod\u001b[39m\n\u001b[0;32m   1262\u001b[0m \u001b[38;5;28;01mdef\u001b[39;00m \u001b[38;5;21m_checkout\u001b[39m(\n\u001b[0;32m   1263\u001b[0m     \u001b[38;5;28mcls\u001b[39m,\n\u001b[1;32m   (...)\u001b[0m\n\u001b[0;32m   1266\u001b[0m     fairy: Optional[_ConnectionFairy] \u001b[38;5;241m=\u001b[39m \u001b[38;5;28;01mNone\u001b[39;00m,\n\u001b[0;32m   1267\u001b[0m ) \u001b[38;5;241m-\u001b[39m\u001b[38;5;241m>\u001b[39m _ConnectionFairy:\n\u001b[0;32m   1268\u001b[0m     \u001b[38;5;28;01mif\u001b[39;00m \u001b[38;5;129;01mnot\u001b[39;00m fairy:\n\u001b[1;32m-> 1269\u001b[0m         fairy \u001b[38;5;241m=\u001b[39m _ConnectionRecord\u001b[38;5;241m.\u001b[39mcheckout(pool)\n\u001b[0;32m   1271\u001b[0m         \u001b[38;5;28;01mif\u001b[39;00m threadconns \u001b[38;5;129;01mis\u001b[39;00m \u001b[38;5;129;01mnot\u001b[39;00m \u001b[38;5;28;01mNone\u001b[39;00m:\n\u001b[0;32m   1272\u001b[0m             threadconns\u001b[38;5;241m.\u001b[39mcurrent \u001b[38;5;241m=\u001b[39m weakref\u001b[38;5;241m.\u001b[39mref(fairy)\n",
      "File \u001b[1;32mc:\\Users\\leasc\\anaconda3\\Lib\\site-packages\\sqlalchemy\\pool\\base.py:716\u001b[0m, in \u001b[0;36m_ConnectionRecord.checkout\u001b[1;34m(cls, pool)\u001b[0m\n\u001b[0;32m    714\u001b[0m     rec \u001b[38;5;241m=\u001b[39m cast(_ConnectionRecord, pool\u001b[38;5;241m.\u001b[39m_do_get())\n\u001b[0;32m    715\u001b[0m \u001b[38;5;28;01melse\u001b[39;00m:\n\u001b[1;32m--> 716\u001b[0m     rec \u001b[38;5;241m=\u001b[39m pool\u001b[38;5;241m.\u001b[39m_do_get()\n\u001b[0;32m    718\u001b[0m \u001b[38;5;28;01mtry\u001b[39;00m:\n\u001b[0;32m    719\u001b[0m     dbapi_connection \u001b[38;5;241m=\u001b[39m rec\u001b[38;5;241m.\u001b[39mget_connection()\n",
      "File \u001b[1;32mc:\\Users\\leasc\\anaconda3\\Lib\\site-packages\\sqlalchemy\\pool\\impl.py:169\u001b[0m, in \u001b[0;36mQueuePool._do_get\u001b[1;34m(self)\u001b[0m\n\u001b[0;32m    167\u001b[0m     \u001b[38;5;28;01mreturn\u001b[39;00m \u001b[38;5;28mself\u001b[39m\u001b[38;5;241m.\u001b[39m_create_connection()\n\u001b[0;32m    168\u001b[0m \u001b[38;5;28;01mexcept\u001b[39;00m:\n\u001b[1;32m--> 169\u001b[0m     \u001b[38;5;28;01mwith\u001b[39;00m util\u001b[38;5;241m.\u001b[39msafe_reraise():\n\u001b[0;32m    170\u001b[0m         \u001b[38;5;28mself\u001b[39m\u001b[38;5;241m.\u001b[39m_dec_overflow()\n\u001b[0;32m    171\u001b[0m     \u001b[38;5;28;01mraise\u001b[39;00m\n",
      "File \u001b[1;32mc:\\Users\\leasc\\anaconda3\\Lib\\site-packages\\sqlalchemy\\util\\langhelpers.py:146\u001b[0m, in \u001b[0;36msafe_reraise.__exit__\u001b[1;34m(self, type_, value, traceback)\u001b[0m\n\u001b[0;32m    144\u001b[0m     \u001b[38;5;28;01massert\u001b[39;00m exc_value \u001b[38;5;129;01mis\u001b[39;00m \u001b[38;5;129;01mnot\u001b[39;00m \u001b[38;5;28;01mNone\u001b[39;00m\n\u001b[0;32m    145\u001b[0m     \u001b[38;5;28mself\u001b[39m\u001b[38;5;241m.\u001b[39m_exc_info \u001b[38;5;241m=\u001b[39m \u001b[38;5;28;01mNone\u001b[39;00m  \u001b[38;5;66;03m# remove potential circular references\u001b[39;00m\n\u001b[1;32m--> 146\u001b[0m     \u001b[38;5;28;01mraise\u001b[39;00m exc_value\u001b[38;5;241m.\u001b[39mwith_traceback(exc_tb)\n\u001b[0;32m    147\u001b[0m \u001b[38;5;28;01melse\u001b[39;00m:\n\u001b[0;32m    148\u001b[0m     \u001b[38;5;28mself\u001b[39m\u001b[38;5;241m.\u001b[39m_exc_info \u001b[38;5;241m=\u001b[39m \u001b[38;5;28;01mNone\u001b[39;00m  \u001b[38;5;66;03m# remove potential circular references\u001b[39;00m\n",
      "File \u001b[1;32mc:\\Users\\leasc\\anaconda3\\Lib\\site-packages\\sqlalchemy\\pool\\impl.py:167\u001b[0m, in \u001b[0;36mQueuePool._do_get\u001b[1;34m(self)\u001b[0m\n\u001b[0;32m    165\u001b[0m \u001b[38;5;28;01mif\u001b[39;00m \u001b[38;5;28mself\u001b[39m\u001b[38;5;241m.\u001b[39m_inc_overflow():\n\u001b[0;32m    166\u001b[0m     \u001b[38;5;28;01mtry\u001b[39;00m:\n\u001b[1;32m--> 167\u001b[0m         \u001b[38;5;28;01mreturn\u001b[39;00m \u001b[38;5;28mself\u001b[39m\u001b[38;5;241m.\u001b[39m_create_connection()\n\u001b[0;32m    168\u001b[0m     \u001b[38;5;28;01mexcept\u001b[39;00m:\n\u001b[0;32m    169\u001b[0m         \u001b[38;5;28;01mwith\u001b[39;00m util\u001b[38;5;241m.\u001b[39msafe_reraise():\n",
      "File \u001b[1;32mc:\\Users\\leasc\\anaconda3\\Lib\\site-packages\\sqlalchemy\\pool\\base.py:393\u001b[0m, in \u001b[0;36mPool._create_connection\u001b[1;34m(self)\u001b[0m\n\u001b[0;32m    390\u001b[0m \u001b[38;5;28;01mdef\u001b[39;00m \u001b[38;5;21m_create_connection\u001b[39m(\u001b[38;5;28mself\u001b[39m) \u001b[38;5;241m-\u001b[39m\u001b[38;5;241m>\u001b[39m ConnectionPoolEntry:\n\u001b[0;32m    391\u001b[0m \u001b[38;5;250m    \u001b[39m\u001b[38;5;124;03m\"\"\"Called by subclasses to create a new ConnectionRecord.\"\"\"\u001b[39;00m\n\u001b[1;32m--> 393\u001b[0m     \u001b[38;5;28;01mreturn\u001b[39;00m _ConnectionRecord(\u001b[38;5;28mself\u001b[39m)\n",
      "File \u001b[1;32mc:\\Users\\leasc\\anaconda3\\Lib\\site-packages\\sqlalchemy\\pool\\base.py:678\u001b[0m, in \u001b[0;36m_ConnectionRecord.__init__\u001b[1;34m(self, pool, connect)\u001b[0m\n\u001b[0;32m    676\u001b[0m \u001b[38;5;28mself\u001b[39m\u001b[38;5;241m.\u001b[39m__pool \u001b[38;5;241m=\u001b[39m pool\n\u001b[0;32m    677\u001b[0m \u001b[38;5;28;01mif\u001b[39;00m connect:\n\u001b[1;32m--> 678\u001b[0m     \u001b[38;5;28mself\u001b[39m\u001b[38;5;241m.\u001b[39m__connect()\n\u001b[0;32m    679\u001b[0m \u001b[38;5;28mself\u001b[39m\u001b[38;5;241m.\u001b[39mfinalize_callback \u001b[38;5;241m=\u001b[39m deque()\n",
      "File \u001b[1;32mc:\\Users\\leasc\\anaconda3\\Lib\\site-packages\\sqlalchemy\\pool\\base.py:902\u001b[0m, in \u001b[0;36m_ConnectionRecord.__connect\u001b[1;34m(self)\u001b[0m\n\u001b[0;32m    900\u001b[0m     \u001b[38;5;28mself\u001b[39m\u001b[38;5;241m.\u001b[39mfresh \u001b[38;5;241m=\u001b[39m \u001b[38;5;28;01mTrue\u001b[39;00m\n\u001b[0;32m    901\u001b[0m \u001b[38;5;28;01mexcept\u001b[39;00m \u001b[38;5;167;01mBaseException\u001b[39;00m \u001b[38;5;28;01mas\u001b[39;00m e:\n\u001b[1;32m--> 902\u001b[0m     \u001b[38;5;28;01mwith\u001b[39;00m util\u001b[38;5;241m.\u001b[39msafe_reraise():\n\u001b[0;32m    903\u001b[0m         pool\u001b[38;5;241m.\u001b[39mlogger\u001b[38;5;241m.\u001b[39mdebug(\u001b[38;5;124m\"\u001b[39m\u001b[38;5;124mError on connect(): \u001b[39m\u001b[38;5;132;01m%s\u001b[39;00m\u001b[38;5;124m\"\u001b[39m, e)\n\u001b[0;32m    904\u001b[0m \u001b[38;5;28;01melse\u001b[39;00m:\n\u001b[0;32m    905\u001b[0m     \u001b[38;5;66;03m# in SQLAlchemy 1.4 the first_connect event is not used by\u001b[39;00m\n\u001b[0;32m    906\u001b[0m     \u001b[38;5;66;03m# the engine, so this will usually not be set\u001b[39;00m\n",
      "File \u001b[1;32mc:\\Users\\leasc\\anaconda3\\Lib\\site-packages\\sqlalchemy\\util\\langhelpers.py:146\u001b[0m, in \u001b[0;36msafe_reraise.__exit__\u001b[1;34m(self, type_, value, traceback)\u001b[0m\n\u001b[0;32m    144\u001b[0m     \u001b[38;5;28;01massert\u001b[39;00m exc_value \u001b[38;5;129;01mis\u001b[39;00m \u001b[38;5;129;01mnot\u001b[39;00m \u001b[38;5;28;01mNone\u001b[39;00m\n\u001b[0;32m    145\u001b[0m     \u001b[38;5;28mself\u001b[39m\u001b[38;5;241m.\u001b[39m_exc_info \u001b[38;5;241m=\u001b[39m \u001b[38;5;28;01mNone\u001b[39;00m  \u001b[38;5;66;03m# remove potential circular references\u001b[39;00m\n\u001b[1;32m--> 146\u001b[0m     \u001b[38;5;28;01mraise\u001b[39;00m exc_value\u001b[38;5;241m.\u001b[39mwith_traceback(exc_tb)\n\u001b[0;32m    147\u001b[0m \u001b[38;5;28;01melse\u001b[39;00m:\n\u001b[0;32m    148\u001b[0m     \u001b[38;5;28mself\u001b[39m\u001b[38;5;241m.\u001b[39m_exc_info \u001b[38;5;241m=\u001b[39m \u001b[38;5;28;01mNone\u001b[39;00m  \u001b[38;5;66;03m# remove potential circular references\u001b[39;00m\n",
      "File \u001b[1;32mc:\\Users\\leasc\\anaconda3\\Lib\\site-packages\\sqlalchemy\\pool\\base.py:898\u001b[0m, in \u001b[0;36m_ConnectionRecord.__connect\u001b[1;34m(self)\u001b[0m\n\u001b[0;32m    896\u001b[0m \u001b[38;5;28;01mtry\u001b[39;00m:\n\u001b[0;32m    897\u001b[0m     \u001b[38;5;28mself\u001b[39m\u001b[38;5;241m.\u001b[39mstarttime \u001b[38;5;241m=\u001b[39m time\u001b[38;5;241m.\u001b[39mtime()\n\u001b[1;32m--> 898\u001b[0m     \u001b[38;5;28mself\u001b[39m\u001b[38;5;241m.\u001b[39mdbapi_connection \u001b[38;5;241m=\u001b[39m connection \u001b[38;5;241m=\u001b[39m pool\u001b[38;5;241m.\u001b[39m_invoke_creator(\u001b[38;5;28mself\u001b[39m)\n\u001b[0;32m    899\u001b[0m     pool\u001b[38;5;241m.\u001b[39mlogger\u001b[38;5;241m.\u001b[39mdebug(\u001b[38;5;124m\"\u001b[39m\u001b[38;5;124mCreated new connection \u001b[39m\u001b[38;5;132;01m%r\u001b[39;00m\u001b[38;5;124m\"\u001b[39m, connection)\n\u001b[0;32m    900\u001b[0m     \u001b[38;5;28mself\u001b[39m\u001b[38;5;241m.\u001b[39mfresh \u001b[38;5;241m=\u001b[39m \u001b[38;5;28;01mTrue\u001b[39;00m\n",
      "File \u001b[1;32mc:\\Users\\leasc\\anaconda3\\Lib\\site-packages\\sqlalchemy\\engine\\create.py:645\u001b[0m, in \u001b[0;36mcreate_engine.<locals>.connect\u001b[1;34m(connection_record)\u001b[0m\n\u001b[0;32m    642\u001b[0m         \u001b[38;5;28;01mif\u001b[39;00m connection \u001b[38;5;129;01mis\u001b[39;00m \u001b[38;5;129;01mnot\u001b[39;00m \u001b[38;5;28;01mNone\u001b[39;00m:\n\u001b[0;32m    643\u001b[0m             \u001b[38;5;28;01mreturn\u001b[39;00m connection\n\u001b[1;32m--> 645\u001b[0m \u001b[38;5;28;01mreturn\u001b[39;00m dialect\u001b[38;5;241m.\u001b[39mconnect(\u001b[38;5;241m*\u001b[39mcargs, \u001b[38;5;241m*\u001b[39m\u001b[38;5;241m*\u001b[39mcparams)\n",
      "File \u001b[1;32mc:\\Users\\leasc\\anaconda3\\Lib\\site-packages\\sqlalchemy\\engine\\default.py:616\u001b[0m, in \u001b[0;36mDefaultDialect.connect\u001b[1;34m(self, *cargs, **cparams)\u001b[0m\n\u001b[0;32m    614\u001b[0m \u001b[38;5;28;01mdef\u001b[39;00m \u001b[38;5;21mconnect\u001b[39m(\u001b[38;5;28mself\u001b[39m, \u001b[38;5;241m*\u001b[39mcargs, \u001b[38;5;241m*\u001b[39m\u001b[38;5;241m*\u001b[39mcparams):\n\u001b[0;32m    615\u001b[0m     \u001b[38;5;66;03m# inherits the docstring from interfaces.Dialect.connect\u001b[39;00m\n\u001b[1;32m--> 616\u001b[0m     \u001b[38;5;28;01mreturn\u001b[39;00m \u001b[38;5;28mself\u001b[39m\u001b[38;5;241m.\u001b[39mloaded_dbapi\u001b[38;5;241m.\u001b[39mconnect(\u001b[38;5;241m*\u001b[39mcargs, \u001b[38;5;241m*\u001b[39m\u001b[38;5;241m*\u001b[39mcparams)\n",
      "File \u001b[1;32mc:\\Users\\leasc\\anaconda3\\Lib\\site-packages\\pymysql\\connections.py:361\u001b[0m, in \u001b[0;36mConnection.__init__\u001b[1;34m(self, user, password, host, database, unix_socket, port, charset, collation, sql_mode, read_default_file, conv, use_unicode, client_flag, cursorclass, init_command, connect_timeout, read_default_group, autocommit, local_infile, max_allowed_packet, defer_connect, auth_plugin_map, read_timeout, write_timeout, bind_address, binary_prefix, program_name, server_public_key, ssl, ssl_ca, ssl_cert, ssl_disabled, ssl_key, ssl_key_password, ssl_verify_cert, ssl_verify_identity, compress, named_pipe, passwd, db)\u001b[0m\n\u001b[0;32m    359\u001b[0m     \u001b[38;5;28mself\u001b[39m\u001b[38;5;241m.\u001b[39m_sock \u001b[38;5;241m=\u001b[39m \u001b[38;5;28;01mNone\u001b[39;00m\n\u001b[0;32m    360\u001b[0m \u001b[38;5;28;01melse\u001b[39;00m:\n\u001b[1;32m--> 361\u001b[0m     \u001b[38;5;28mself\u001b[39m\u001b[38;5;241m.\u001b[39mconnect()\n",
      "File \u001b[1;32mc:\\Users\\leasc\\anaconda3\\Lib\\site-packages\\pymysql\\connections.py:716\u001b[0m, in \u001b[0;36mConnection.connect\u001b[1;34m(self, sock)\u001b[0m\n\u001b[0;32m    714\u001b[0m     \u001b[38;5;28;01mif\u001b[39;00m DEBUG:\n\u001b[0;32m    715\u001b[0m         \u001b[38;5;28mprint\u001b[39m(exc\u001b[38;5;241m.\u001b[39mtraceback)\n\u001b[1;32m--> 716\u001b[0m     \u001b[38;5;28;01mraise\u001b[39;00m exc\n\u001b[0;32m    718\u001b[0m \u001b[38;5;66;03m# If e is neither DatabaseError or IOError, It's a bug.\u001b[39;00m\n\u001b[0;32m    719\u001b[0m \u001b[38;5;66;03m# But raising AssertionError hides original error.\u001b[39;00m\n\u001b[0;32m    720\u001b[0m \u001b[38;5;66;03m# So just reraise it.\u001b[39;00m\n\u001b[0;32m    721\u001b[0m \u001b[38;5;28;01mraise\u001b[39;00m\n",
      "\u001b[1;31mOperationalError\u001b[0m: (pymysql.err.OperationalError) (2003, \"Can't connect to MySQL server on 'jedha-firstdb.c7c0kmsugxin.eu-west-3.rds.amazonaws.com' (timed out)\")\n(Background on this error at: https://sqlalche.me/e/20/e3q8)"
     ]
    }
   ],
   "source": [
    "Base.metadata.create_all(engine)"
   ]
  },
  {
   "cell_type": "code",
   "execution_count": 6,
   "metadata": {},
   "outputs": [
    {
     "name": "stdout",
     "output_type": "stream",
     "text": [
      "2024-09-19 11:48:06,249 INFO sqlalchemy.engine.Engine BEGIN (implicit)\n",
      "2024-09-19 11:48:06,252 INFO sqlalchemy.engine.Engine DESCRIBE `jedha-firstdb`.`Hotel`\n",
      "2024-09-19 11:48:06,253 INFO sqlalchemy.engine.Engine [raw sql] {}\n",
      "2024-09-19 11:48:06,280 INFO sqlalchemy.engine.Engine DESCRIBE `jedha-firstdb`.`Hotel`\n",
      "2024-09-19 11:48:06,281 INFO sqlalchemy.engine.Engine [raw sql] {}\n",
      "2024-09-19 11:48:06,292 INFO sqlalchemy.engine.Engine SHOW FULL TABLES FROM `jedha-firstdb`\n",
      "2024-09-19 11:48:06,293 INFO sqlalchemy.engine.Engine [raw sql] {}\n",
      "2024-09-19 11:48:06,307 INFO sqlalchemy.engine.Engine SHOW FULL TABLES FROM `jedha-firstdb`\n",
      "2024-09-19 11:48:06,307 INFO sqlalchemy.engine.Engine [raw sql] {}\n",
      "2024-09-19 11:48:06,325 INFO sqlalchemy.engine.Engine SHOW CREATE TABLE `Hotel`\n",
      "2024-09-19 11:48:06,325 INFO sqlalchemy.engine.Engine [raw sql] {}\n",
      "2024-09-19 11:48:06,364 INFO sqlalchemy.engine.Engine \n",
      "DROP TABLE `Hotel`\n",
      "2024-09-19 11:48:06,365 INFO sqlalchemy.engine.Engine [no key 0.00106s] {}\n",
      "2024-09-19 11:48:06,437 INFO sqlalchemy.engine.Engine \n",
      "CREATE TABLE `Hotel` (\n",
      "\tid BIGINT, \n",
      "\t`Unnamed: 0` BIGINT, \n",
      "\tcity TEXT, \n",
      "\tname_x TEXT, \n",
      "\turl TEXT, \n",
      "\trating FLOAT(53), \n",
      "\tcity_final TEXT, \n",
      "\tlatitude FLOAT(53), \n",
      "\tlongitude FLOAT(53), \n",
      "\tlatitude2 FLOAT(53), \n",
      "\tlongitude2 FLOAT(53), \n",
      "\tdescription TEXT, \n",
      "\t`index` BIGINT\n",
      ")\n",
      "\n",
      "\n",
      "2024-09-19 11:48:06,437 INFO sqlalchemy.engine.Engine [no key 0.00067s] {}\n",
      "2024-09-19 11:48:06,498 INFO sqlalchemy.engine.Engine CREATE INDEX `ix_Hotel_id` ON `Hotel` (id)\n",
      "2024-09-19 11:48:06,499 INFO sqlalchemy.engine.Engine [no key 0.00106s] {}\n",
      "2024-09-19 11:48:06,551 INFO sqlalchemy.engine.Engine INSERT INTO `Hotel` (id, `Unnamed: 0`, city, name_x, url, rating, city_final, latitude, longitude, latitude2, longitude2, description, `index`) VALUES (%(id)s, %(UnnamedC_0)s, %(city)s, %(name_x)s, %(url)s, %(rating)s, %(city_final)s, %(latitude)s, %(longitude)s, %(latitude2)s, %(longitude2)s, %(description)s, %(index)s)\n",
      "2024-09-19 11:48:06,552 INFO sqlalchemy.engine.Engine [generated in 0.00108s] [{'id': 0, 'UnnamedC_0': 0, 'city': 'Besançon', 'name_x': \"Gîtes de l'Orée du Bois\", 'url': 'https://www.booking.com/hotel/fr/gites-de-l-39-oree-du-bois.en-gb.html?label=en-fr-booking-desktop-Akb7DsuMl_04Kj1fagYeEgS652796016858%3Apl%3Ata%3Ap1 ... (452 characters truncated) ... 39_2_2_0&matching_block_id=390593807_385359639_2_2_0&sr_pri_blocks=390593807_385359639_2_2_0__13340&from_sustainable_property_sr=1&from=searchresults', 'rating': 9.2, 'city_final': 'Besançon', 'latitude': 47.1403667834269, 'longitude': 5.88322924529768, 'latitude2': 47.1583322, 'longitude2': 5.9096987, 'description': \"Offering a garden and garden view, Gîtes de l'Orée du Bois is situated in Boussières, 17 km from Besancon Viotte Train Station and 17 km from Besanço ... (1045 characters truncated) ... mmodation, while Besançon Vesoul University is 16 km from the property. The nearest airport is Dole-Jura Airport, 61 km from Gîtes de l'Orée du Bois.\", 'index': 21}, {'id': 1, 'UnnamedC_0': 1, 'city': 'Castellane', 'name_x': 'Hotel Les Restanques De Moustiers', 'url': 'https://www.booking.com/hotel/fr/les-restanques-de-moustiers.en-gb.html?label=en-fr-booking-desktop-Akb7DsuMl_04Kj1fagYeEgS652796016858%3Apl%3Ata%3Ap ... (447 characters truncated) ... 2595_0_0_0&matching_block_id=29543302_326752595_0_0_0&sr_pri_blocks=29543302_326752595_0_0_0__15330&from_sustainable_property_sr=1&from=searchresults', 'rating': 9.1, 'city_final': 'Gorges du Verdon', 'latitude': 43.8216573920728, 'longitude': 6.19706322184185, 'latitude2': 43.83962281, 'longitude2': 6.22201681, 'description': 'This Provencal-style hotel has a floral terrace and is only 500 metres from the village of Moustiers Sainte Marie. Surrounded by nature, Hotel Les Re ... (444 characters truncated) ... , where there are opportunities for canoeing, sailing and swimming. The Gorges du Verdon are 5 km away and free private parking is available on site.', 'index': 12}, {'id': 2, 'UnnamedC_0': 2, 'city': 'Castellane', 'name_x': 'Hotel Le Moulin du Château', 'url': 'https://www.booking.com/hotel/fr/le-moulin-du-chateau.en-gb.html?label=en-fr-booking-desktop-Akb7DsuMl_04Kj1fagYeEgS652796016858%3Apl%3Ata%3Ap1%3Ap2% ... (444 characters truncated) ... 0_0_34_0&matching_block_id=23979401_370889880_0_34_0&sr_pri_blocks=23979401_370889880_0_34_0__13930&from_sustainable_property_sr=1&from=searchresults', 'rating': 8.9, 'city_final': 'Gorges du Verdon', 'latitude': 43.7077513789502, 'longitude': 6.04267314899316, 'latitude2': 43.7257168, 'longitude2': 6.06757924, 'description': \"Le Moulin Du Château is a former olive oil mill, located in Saint-Laurent-du-Verdon, Provence. It offers rooms with satellite TV and free Wi-Fi.\\n\\nT ... (304 characters truncated) ... nd hiking facilities nearby.\\n\\nLe Moulin Du Château is close to the Grand Canyon and the Lake of Ste-Croix. Aix-en-Provence is an hour’s drive away.\", 'index': 12}, {'id': 3, 'UnnamedC_0': 3, 'city': 'Castellane', 'name_x': 'Hôtel Spa Les Alpes', 'url': 'https://www.booking.com/hotel/fr/des-alpes-gra-c-oux-les-bains.en-gb.html?label=en-fr-booking-desktop-Akb7DsuMl_04Kj1fagYeEgS652796016858%3Apl%3Ata%3 ... (441 characters truncated) ... 88556034_2_2_0&matching_block_id=5932710_88556034_2_2_0&sr_pri_blocks=5932710_88556034_2_2_0__16430&from_sustainable_property_sr=1&from=searchresults', 'rating': 8.9, 'city_final': 'Gorges du Verdon', 'latitude': 43.7407312884502, 'longitude': 5.85713505082914, 'latitude2': 43.75869671, 'longitude2': 5.88205487, 'description': 'Ideally located near the famous Gorges du Verdon and Lavender Route, the hotel offers 3-star accommodation close to the Templars Castle in Gréoux-les ... (318 characters truncated) ... wn for its pure thermal waters and its large choice of activities (spa, traditional markets, museums, churches, excursions, water sports and casino).', 'index': 12}, {'id': 4, 'UnnamedC_0': 4, 'city': 'Castellane', 'name_x': 'Le Relais Notre Dame', 'url': 'https://www.booking.com/hotel/fr/relais-notre-dame.en-gb.html?label=en-fr-booking-desktop-Akb7DsuMl_04Kj1fagYeEgS652796016858%3Apl%3Ata%3Ap1%3Ap2%3Aa ... (437 characters truncated) ... 1850_2_2_0&matching_block_id=36071302_389091850_2_2_0&sr_pri_blocks=36071302_389091850_2_2_0__11940&from_sustainable_property_sr=1&from=searchresults', 'rating': 8.8, 'city_final': 'Gorges du Verdon', 'latitude': 43.681123453981, 'longitude': 6.01234440534967, 'latitude2': 43.69908887, 'longitude2': 6.03723943, 'description': 'Located at the entrance to Quinson village, next to the prehistoric museum, Le Relais Notre Dame is 300 metres from the Verdon River and a 20-minute  ... (546 characters truncated) ... sunloungers by the swimming pool, or enjoy the colourful gardens. Additional facilities at this hotel include free private parking available on site.', 'index': 12}, {'id': 5, 'UnnamedC_0': 5, 'city': 'Castellane', 'name_x': 'Logis Hôtel Le Vieil Amandier', 'url': 'https://www.booking.com/hotel/fr/logis-le-vieil-amandier.en-gb.html?label=en-fr-booking-desktop-Akb7DsuMl_04Kj1fagYeEgS652796016858%3Apl%3Ata%3Ap1%3A ... (442 characters truncated) ... 33573_2_2_0&matching_block_id=25157802_392433573_2_2_0&sr_pri_blocks=25157802_392433573_2_2_0__7676&from_sustainable_property_sr=1&from=searchresults', 'rating': 8.8, 'city_final': 'Gorges du Verdon', 'latitude': 43.7430288223375, 'longitude': 6.41710959876116, 'latitude2': 43.76099424, 'longitude2': 6.44203037, 'description': 'Le Vieil Amandier is located in the small village of Trigance, in the heart of the Verdon Nature Reserve. Its facilities include an outdoor swimming  ... (251 characters truncated) ... staurants can be found in the village.\\n\\nLogis Hotel Le Vieil Amandier has a Spa & Wellness Centre including a sauna and a hot tub at an extra cost.', 'index': 12}, {'id': 6, 'UnnamedC_0': 6, 'city': 'Castellane', 'name_x': 'La Bastide du Calalou; BW Signature Collection', 'url': 'https://www.booking.com/hotel/fr/bastide-du-calalou.en-gb.html?label=en-fr-booking-desktop-Akb7DsuMl_04Kj1fagYeEgS652796016858%3Apl%3Ata%3Ap1%3Ap2%3A ... (440 characters truncated) ... 4_2_42_0&matching_block_id=21427312_366530944_2_42_0&sr_pri_blocks=21427312_366530944_2_42_0__18842&from_sustainable_property_sr=1&from=searchresults', 'rating': 8.7, 'city_final': 'Gorges du Verdon', 'latitude': 43.6364009674548, 'longitude': 6.14462804384087, 'latitude2': 43.65436638, 'longitude2': 6.16950452, 'description': 'Bastide Du Calalou is located a 30-minute drive from the Gorges du Verdon and a 20-minute drive from the Sainte-Croix Lake. It features a heated, out ... (440 characters truncated) ... de Du Calalou is close to the village of Tourtour and the black truffle market, which is the third largest in France and open from December to April.', 'index': 12}, {'id': 7, 'UnnamedC_0': 7, 'city': 'Sélestat', 'name_x': 'Gite Villa Avril piscine- jacuzzi- sauna - 15 Pers-proche Europapark', 'url': 'https://www.booking.com/hotel/fr/villa-avril.en-gb.html?label=en-fr-booking-desktop-Akb7DsuMl_04Kj1fagYeEgS652796016858%3Apl%3Ata%3Ap1%3Ap2%3Aac%3Aap ... (423 characters truncated) ... 5_0_0&matching_block_id=798177901_360913653_15_0_0&sr_pri_blocks=798177901_360913653_15_0_0__117000&from_sustainable_property_sr=1&from=searchresults', 'rating': 9.0, 'city_final': 'Château du Haut-Kœnigsbourg', 'latitude': 48.2414995333971, 'longitude': 7.42121866663502, 'latitude2': 48.25946495, 'longitude2': 7.44825334, 'description': \"Gite Villa Avril piscine- jacuzzi- sauna - 15 Pers-proche Europapark is a recently renovated villa in Sélestat, where guests can makes the most of it ... (798 characters truncated) ... e property. The nearest airport is Strasbourg International Airport, 39 km from Gite Villa Avril piscine- jacuzzi- sauna - 15 Pers-proche Europapark.\", 'index': 25}  ... displaying 10 of 16 total bound parameter sets ...  {'id': 14, 'UnnamedC_0': 14, 'city': 'Annecy City Centre, Annecy', 'name_x': 'Hôtel Le Pré Carré', 'url': 'https://www.booking.com/hotel/fr/leprecarre.en-gb.html?label=en-fr-booking-desktop-Akb7DsuMl_04Kj1fagYeEgS652796016858%3Apl%3Ata%3Ap1%3Ap2%3Aac%3Aap% ... (422 characters truncated) ... 81662140_2_2_0&matching_block_id=5315414_81662140_2_2_0&sr_pri_blocks=5315414_81662140_2_2_0__20890&from_sustainable_property_sr=1&from=searchresults', 'rating': 8.7, 'city_final': 'Annecy', 'latitude': 45.8845310289839, 'longitude': 6.10025538889274, 'latitude2': 45.90249645, 'longitude2': 6.12611979, 'description': 'Le Pré Carré is a hotel located in the heart of Annecy, just 250 metres from Lake Annecy.\\n\\nGuest rooms at Le Pré Carré are soundproofed and equippe ... (90 characters truncated) ... l offers a buffet breakfast, which can be served in your room. Le Pré Carré also provides a business centre, a 24-hour reception and on-site parking.', 'index': 19}, {'id': 15, 'UnnamedC_0': 15, 'city': 'Annecy City Centre, Annecy', 'name_x': 'Impérial Palace', 'url': 'https://www.booking.com/hotel/fr/imperial-palace.en-gb.html?label=en-fr-booking-desktop-Akb7DsuMl_04Kj1fagYeEgS652796016858%3Apl%3Ata%3Ap1%3Ap2%3Aac% ... (400 characters truncated) ... &highlighted_blocks=5434001_270549348_2_2_0&matching_block_id=5434001_270549348_2_2_0&sr_pri_blocks=5434001_270549348_2_2_0__24690&from=searchresults', 'rating': 8.7, 'city_final': 'Annecy', 'latitude': 45.8857815696647, 'longitude': 6.1188291037136, 'latitude2': 45.90374699, 'longitude2': 6.14469409, 'description': \"Located in the heart of the French Alps, Impérial Palace is a 4-star hotel is on the edge of Lake Annecy, 1.6 km from Annecy's centre. It offers air- ... (912 characters truncated) ... vailable at this property. Geneva International Airport is 40 km away and Annecy Train Station is 1.5 km from the hotel. Annecy Château is 2 km away.\", 'index': 19}]\n",
      "2024-09-19 11:48:06,594 INFO sqlalchemy.engine.Engine SHOW FULL TABLES FROM `jedha-firstdb`\n",
      "2024-09-19 11:48:06,595 INFO sqlalchemy.engine.Engine [raw sql] {}\n",
      "2024-09-19 11:48:06,603 INFO sqlalchemy.engine.Engine COMMIT\n"
     ]
    },
    {
     "data": {
      "text/plain": [
       "16"
      ]
     },
     "execution_count": 6,
     "metadata": {},
     "output_type": "execute_result"
    }
   ],
   "source": [
    "import pandas as pd\n",
    "with open(\"C:\\\\Users\\\\leasc\\\\github\\\\Project_Plan-your_trip_on_booking\\\\Kayak_project\\\\3) Data_cleaning&loadtoS3\\\\cleaned_hotel.csv\", 'r') as file:\n",
    "    data_df = pd.read_csv(file)\n",
    "data_df.to_sql('Hotel', con=engine, index=True, index_label='id', if_exists='replace')"
   ]
  },
  {
   "cell_type": "code",
   "execution_count": 14,
   "metadata": {},
   "outputs": [
    {
     "ename": "NameError",
     "evalue": "name 'data_weather' is not defined",
     "output_type": "error",
     "traceback": [
      "\u001b[1;31m---------------------------------------------------------------------------\u001b[0m",
      "\u001b[1;31mNameError\u001b[0m                                 Traceback (most recent call last)",
      "Cell \u001b[1;32mIn[14], line 1\u001b[0m\n\u001b[1;32m----> 1\u001b[0m data_weather\n",
      "\u001b[1;31mNameError\u001b[0m: name 'data_weather' is not defined"
     ]
    }
   ],
   "source": [
    "data_weather\n"
   ]
  },
  {
   "cell_type": "code",
   "execution_count": 8,
   "metadata": {},
   "outputs": [],
   "source": [
    "\n",
    "with open(\"C:\\\\Users\\\\leasc\\\\github\\\\Project_Plan-your_trip_on_booking\\\\Kayak_project\\\\3) Data_cleaning&loadtoS3\\\\best_weather.csv\", 'r') as file:\n",
    "    df_weather = pd.read_csv(file)"
   ]
  },
  {
   "cell_type": "code",
   "execution_count": 15,
   "metadata": {},
   "outputs": [
    {
     "data": {
      "text/html": [
       "<div>\n",
       "<style scoped>\n",
       "    .dataframe tbody tr th:only-of-type {\n",
       "        vertical-align: middle;\n",
       "    }\n",
       "\n",
       "    .dataframe tbody tr th {\n",
       "        vertical-align: top;\n",
       "    }\n",
       "\n",
       "    .dataframe thead th {\n",
       "        text-align: right;\n",
       "    }\n",
       "</style>\n",
       "<table border=\"1\" class=\"dataframe\">\n",
       "  <thead>\n",
       "    <tr style=\"text-align: right;\">\n",
       "      <th></th>\n",
       "      <th>Unnamed: 0</th>\n",
       "      <th>index</th>\n",
       "      <th>name</th>\n",
       "      <th>temp_day_x</th>\n",
       "      <th>temp_min_x</th>\n",
       "      <th>temp_max_x</th>\n",
       "      <th>feels_like_day_x</th>\n",
       "      <th>feels_like_morn_x</th>\n",
       "      <th>sunrise_x</th>\n",
       "      <th>humidity_x</th>\n",
       "      <th>...</th>\n",
       "      <th>min_feels_like_morn</th>\n",
       "      <th>min_sunrise</th>\n",
       "      <th>min_humidity</th>\n",
       "      <th>min_wind_speed</th>\n",
       "      <th>min_clouds</th>\n",
       "      <th>min_uvi</th>\n",
       "      <th>sum_pop</th>\n",
       "      <th>latitude</th>\n",
       "      <th>longitude</th>\n",
       "      <th>latitude_rounded</th>\n",
       "    </tr>\n",
       "  </thead>\n",
       "  <tbody>\n",
       "    <tr>\n",
       "      <th>0</th>\n",
       "      <td>12</td>\n",
       "      <td>12</td>\n",
       "      <td>Gorges du Verdon</td>\n",
       "      <td>19.43</td>\n",
       "      <td>10.89</td>\n",
       "      <td>19.84</td>\n",
       "      <td>18.52</td>\n",
       "      <td>11.53</td>\n",
       "      <td>1727241932</td>\n",
       "      <td>96</td>\n",
       "      <td>...</td>\n",
       "      <td>7.53</td>\n",
       "      <td>1726636659</td>\n",
       "      <td>40</td>\n",
       "      <td>1.74</td>\n",
       "      <td>24</td>\n",
       "      <td>4.50</td>\n",
       "      <td>3.42</td>\n",
       "      <td>43.749656</td>\n",
       "      <td>6.328562</td>\n",
       "      <td>43.7497</td>\n",
       "    </tr>\n",
       "    <tr>\n",
       "      <th>1</th>\n",
       "      <td>25</td>\n",
       "      <td>25</td>\n",
       "      <td>Château du Haut-Kœnigsbourg</td>\n",
       "      <td>20.42</td>\n",
       "      <td>12.31</td>\n",
       "      <td>20.42</td>\n",
       "      <td>19.95</td>\n",
       "      <td>12.31</td>\n",
       "      <td>1727241704</td>\n",
       "      <td>97</td>\n",
       "      <td>...</td>\n",
       "      <td>7.93</td>\n",
       "      <td>1726636325</td>\n",
       "      <td>55</td>\n",
       "      <td>1.28</td>\n",
       "      <td>0</td>\n",
       "      <td>2.12</td>\n",
       "      <td>5.93</td>\n",
       "      <td>48.249523</td>\n",
       "      <td>7.345492</td>\n",
       "      <td>48.2495</td>\n",
       "    </tr>\n",
       "    <tr>\n",
       "      <th>2</th>\n",
       "      <td>19</td>\n",
       "      <td>19</td>\n",
       "      <td>Annecy</td>\n",
       "      <td>22.77</td>\n",
       "      <td>13.73</td>\n",
       "      <td>22.77</td>\n",
       "      <td>22.23</td>\n",
       "      <td>13.74</td>\n",
       "      <td>1727241987</td>\n",
       "      <td>98</td>\n",
       "      <td>...</td>\n",
       "      <td>8.97</td>\n",
       "      <td>1726636666</td>\n",
       "      <td>43</td>\n",
       "      <td>1.44</td>\n",
       "      <td>19</td>\n",
       "      <td>2.05</td>\n",
       "      <td>3.48</td>\n",
       "      <td>45.899235</td>\n",
       "      <td>6.128885</td>\n",
       "      <td>45.8992</td>\n",
       "    </tr>\n",
       "    <tr>\n",
       "      <th>3</th>\n",
       "      <td>21</td>\n",
       "      <td>21</td>\n",
       "      <td>Besançon</td>\n",
       "      <td>22.92</td>\n",
       "      <td>14.28</td>\n",
       "      <td>23.72</td>\n",
       "      <td>22.63</td>\n",
       "      <td>14.74</td>\n",
       "      <td>1727242017</td>\n",
       "      <td>99</td>\n",
       "      <td>...</td>\n",
       "      <td>8.71</td>\n",
       "      <td>1726636664</td>\n",
       "      <td>52</td>\n",
       "      <td>1.31</td>\n",
       "      <td>0</td>\n",
       "      <td>3.15</td>\n",
       "      <td>5.73</td>\n",
       "      <td>47.238022</td>\n",
       "      <td>6.024362</td>\n",
       "      <td>47.2380</td>\n",
       "    </tr>\n",
       "    <tr>\n",
       "      <th>4</th>\n",
       "      <td>27</td>\n",
       "      <td>27</td>\n",
       "      <td>Mont Saint-Michel</td>\n",
       "      <td>22.07</td>\n",
       "      <td>14.34</td>\n",
       "      <td>24.12</td>\n",
       "      <td>21.61</td>\n",
       "      <td>14.77</td>\n",
       "      <td>1727243833</td>\n",
       "      <td>65</td>\n",
       "      <td>...</td>\n",
       "      <td>10.15</td>\n",
       "      <td>1726638444</td>\n",
       "      <td>49</td>\n",
       "      <td>2.59</td>\n",
       "      <td>5</td>\n",
       "      <td>2.95</td>\n",
       "      <td>4.44</td>\n",
       "      <td>48.635954</td>\n",
       "      <td>-1.511460</td>\n",
       "      <td>48.6360</td>\n",
       "    </tr>\n",
       "  </tbody>\n",
       "</table>\n",
       "<p>5 rows × 37 columns</p>\n",
       "</div>"
      ],
      "text/plain": [
       "   Unnamed: 0  index                         name  temp_day_x  temp_min_x  \\\n",
       "0          12     12             Gorges du Verdon       19.43       10.89   \n",
       "1          25     25  Château du Haut-Kœnigsbourg       20.42       12.31   \n",
       "2          19     19                       Annecy       22.77       13.73   \n",
       "3          21     21                     Besançon       22.92       14.28   \n",
       "4          27     27            Mont Saint-Michel       22.07       14.34   \n",
       "\n",
       "   temp_max_x  feels_like_day_x  feels_like_morn_x   sunrise_x  humidity_x  \\\n",
       "0       19.84             18.52              11.53  1727241932          96   \n",
       "1       20.42             19.95              12.31  1727241704          97   \n",
       "2       22.77             22.23              13.74  1727241987          98   \n",
       "3       23.72             22.63              14.74  1727242017          99   \n",
       "4       24.12             21.61              14.77  1727243833          65   \n",
       "\n",
       "   ...  min_feels_like_morn  min_sunrise  min_humidity  min_wind_speed  \\\n",
       "0  ...                 7.53   1726636659            40            1.74   \n",
       "1  ...                 7.93   1726636325            55            1.28   \n",
       "2  ...                 8.97   1726636666            43            1.44   \n",
       "3  ...                 8.71   1726636664            52            1.31   \n",
       "4  ...                10.15   1726638444            49            2.59   \n",
       "\n",
       "   min_clouds  min_uvi  sum_pop   latitude  longitude  latitude_rounded  \n",
       "0          24     4.50     3.42  43.749656   6.328562           43.7497  \n",
       "1           0     2.12     5.93  48.249523   7.345492           48.2495  \n",
       "2          19     2.05     3.48  45.899235   6.128885           45.8992  \n",
       "3           0     3.15     5.73  47.238022   6.024362           47.2380  \n",
       "4           5     2.95     4.44  48.635954  -1.511460           48.6360  \n",
       "\n",
       "[5 rows x 37 columns]"
      ]
     },
     "execution_count": 15,
     "metadata": {},
     "output_type": "execute_result"
    }
   ],
   "source": [
    "df_weather"
   ]
  },
  {
   "cell_type": "code",
   "execution_count": 10,
   "metadata": {},
   "outputs": [],
   "source": [
    "def infer_sqlalchemy_type(pd_type):\n",
    "    \"\"\"Mapper les types de pandas vers les types de SQLAlchemy\"\"\"\n",
    "    if pd.api.types.is_integer_dtype(pd_type):\n",
    "        return Integer\n",
    "    elif pd.api.types.is_float_dtype(pd_type):\n",
    "        return Float\n",
    "    else:\n",
    "        return String(21)\n",
    "\n",
    "# Étape 4 : Créer la table dynamiquement\n",
    "columns = [\n",
    "    Column(column_name, infer_sqlalchemy_type(df_weather[column_name].dtype))\n",
    "    for column_name in df_weather.columns]"
   ]
  },
  {
   "cell_type": "code",
   "execution_count": 11,
   "metadata": {},
   "outputs": [],
   "source": [
    "from sqlalchemy import create_engine, MetaData, Table, Column\n",
    "metadata = MetaData()\n",
    "table = Table('Weather', metadata, *columns)\n"
   ]
  },
  {
   "cell_type": "code",
   "execution_count": 12,
   "metadata": {},
   "outputs": [
    {
     "name": "stdout",
     "output_type": "stream",
     "text": [
      "2024-09-19 11:48:44,996 INFO sqlalchemy.engine.Engine BEGIN (implicit)\n",
      "2024-09-19 11:48:44,996 INFO sqlalchemy.engine.Engine DESCRIBE `jedha-firstdb`.`Weather`\n",
      "2024-09-19 11:48:44,998 INFO sqlalchemy.engine.Engine [raw sql] {}\n",
      "2024-09-19 11:48:45,033 INFO sqlalchemy.engine.Engine COMMIT\n"
     ]
    }
   ],
   "source": [
    "metadata.create_all(engine)\n"
   ]
  },
  {
   "cell_type": "code",
   "execution_count": 18,
   "metadata": {},
   "outputs": [
    {
     "name": "stdout",
     "output_type": "stream",
     "text": [
      "2024-09-18 13:25:20,115 INFO sqlalchemy.engine.Engine BEGIN (implicit)\n",
      "2024-09-18 13:25:20,120 INFO sqlalchemy.engine.Engine DESCRIBE `jedha-firstdb`.`Weather`\n",
      "2024-09-18 13:25:20,121 INFO sqlalchemy.engine.Engine [raw sql] {}\n",
      "2024-09-18 13:25:20,133 INFO sqlalchemy.engine.Engine DESCRIBE `jedha-firstdb`.`Weather`\n",
      "2024-09-18 13:25:20,133 INFO sqlalchemy.engine.Engine [raw sql] {}\n",
      "2024-09-18 13:25:20,145 INFO sqlalchemy.engine.Engine SHOW FULL TABLES FROM `jedha-firstdb`\n",
      "2024-09-18 13:25:20,146 INFO sqlalchemy.engine.Engine [raw sql] {}\n",
      "2024-09-18 13:25:20,154 INFO sqlalchemy.engine.Engine SHOW FULL TABLES FROM `jedha-firstdb`\n",
      "2024-09-18 13:25:20,155 INFO sqlalchemy.engine.Engine [raw sql] {}\n",
      "2024-09-18 13:25:20,180 INFO sqlalchemy.engine.Engine SHOW CREATE TABLE `Weather`\n",
      "2024-09-18 13:25:20,180 INFO sqlalchemy.engine.Engine [raw sql] {}\n",
      "2024-09-18 13:25:20,197 INFO sqlalchemy.engine.Engine \n",
      "DROP TABLE `Weather`\n",
      "2024-09-18 13:25:20,197 INFO sqlalchemy.engine.Engine [no key 0.00077s] {}\n",
      "2024-09-18 13:25:20,226 INFO sqlalchemy.engine.Engine \n",
      "CREATE TABLE `Weather` (\n",
      "\tid BIGINT, \n",
      "\t`Unnamed: 0` BIGINT, \n",
      "\t`index` BIGINT, \n",
      "\tname TEXT, \n",
      "\ttemp_day_x FLOAT(53), \n",
      "\ttemp_min_x FLOAT(53), \n",
      "\ttemp_max_x FLOAT(53), \n",
      "\tfeels_like_day_x FLOAT(53), \n",
      "\tfeels_like_morn_x FLOAT(53), \n",
      "\tsunrise_x BIGINT, \n",
      "\thumidity_x BIGINT, \n",
      "\twind_speed_x FLOAT(53), \n",
      "\tclouds_x BIGINT, \n",
      "\tuvi_x FLOAT(53), \n",
      "\ttemp_day_y FLOAT(53), \n",
      "\ttemp_min_y FLOAT(53), \n",
      "\ttemp_max_y FLOAT(53), \n",
      "\tfeels_like_day_y FLOAT(53), \n",
      "\tfeels_like_morn_y FLOAT(53), \n",
      "\tsunrise_y FLOAT(53), \n",
      "\thumidity_y FLOAT(53), \n",
      "\twind_speed_y FLOAT(53), \n",
      "\tclouds_y FLOAT(53), \n",
      "\tuvi_y FLOAT(53), \n",
      "\tmin_temp_day FLOAT(53), \n",
      "\tmin_temp_min FLOAT(53), \n",
      "\tmin_temp_max FLOAT(53), \n",
      "\tmin_feels_like_day FLOAT(53), \n",
      "\tmin_feels_like_morn FLOAT(53), \n",
      "\tmin_sunrise BIGINT, \n",
      "\tmin_humidity BIGINT, \n",
      "\tmin_wind_speed FLOAT(53), \n",
      "\tmin_clouds BIGINT, \n",
      "\tmin_uvi FLOAT(53), \n",
      "\tsum_pop FLOAT(53), \n",
      "\tlatitude FLOAT(53), \n",
      "\tlongitude FLOAT(53), \n",
      "\tlatitude_rounded FLOAT(53)\n",
      ")\n",
      "\n",
      "\n",
      "2024-09-18 13:25:20,227 INFO sqlalchemy.engine.Engine [no key 0.00081s] {}\n",
      "2024-09-18 13:25:20,266 INFO sqlalchemy.engine.Engine CREATE INDEX `ix_Weather_id` ON `Weather` (id)\n",
      "2024-09-18 13:25:20,266 INFO sqlalchemy.engine.Engine [no key 0.00103s] {}\n",
      "2024-09-18 13:25:20,317 INFO sqlalchemy.engine.Engine INSERT INTO `Weather` (id, `Unnamed: 0`, `index`, name, temp_day_x, temp_min_x, temp_max_x, feels_like_day_x, feels_like_morn_x, sunrise_x, humidity_x, wind_speed_x, clouds_x, uvi_x, temp_day_y, temp_min_y, temp_max_y, feels_like_day_y, feels_like_morn_y, sunrise_y, humidity_y, wind_speed_y, clouds_y, uvi_y, min_temp_day, min_temp_min, min_temp_max, min_feels_like_day, min_feels_like_morn, min_sunrise, min_humidity, min_wind_speed, min_clouds, min_uvi, sum_pop, latitude, longitude, latitude_rounded) VALUES (%(id)s, %(UnnamedC_0)s, %(index)s, %(name)s, %(temp_day_x)s, %(temp_min_x)s, %(temp_max_x)s, %(feels_like_day_x)s, %(feels_like_morn_x)s, %(sunrise_x)s, %(humidity_x)s, %(wind_speed_x)s, %(clouds_x)s, %(uvi_x)s, %(temp_day_y)s, %(temp_min_y)s, %(temp_max_y)s, %(feels_like_day_y)s, %(feels_like_morn_y)s, %(sunrise_y)s, %(humidity_y)s, %(wind_speed_y)s, %(clouds_y)s, %(uvi_y)s, %(min_temp_day)s, %(min_temp_min)s, %(min_temp_max)s, %(min_feels_like_day)s, %(min_feels_like_morn)s, %(min_sunrise)s, %(min_humidity)s, %(min_wind_speed)s, %(min_clouds)s, %(min_uvi)s, %(sum_pop)s, %(latitude)s, %(longitude)s, %(latitude_rounded)s)\n",
      "2024-09-18 13:25:20,318 INFO sqlalchemy.engine.Engine [generated in 0.00159s] [{'id': 0, 'UnnamedC_0': 12, 'index': 12, 'name': 'Gorges du Verdon', 'temp_day_x': 19.43, 'temp_min_x': 10.89, 'temp_max_x': 19.84, 'feels_like_day_x': 18.52, 'feels_like_morn_x': 11.53, 'sunrise_x': 1727241932, 'humidity_x': 96, 'wind_speed_x': 4.82, 'clouds_x': 100, 'uvi_x': 5.0, 'temp_day_y': 16.60875, 'temp_min_y': 9.2475, 'temp_max_y': 17.35375, 'feels_like_day_y': 15.88375, 'feels_like_morn_y': 9.63875, 'sunrise_y': 1726939295.125, 'humidity_y': 59.625, 'wind_speed_y': 3.43, 'clouds_y': 72.375, 'uvi_y': 4.795, 'min_temp_day': 11.28, 'min_temp_min': 7.76, 'min_temp_max': 12.88, 'min_feels_like_day': 10.97, 'min_feels_like_morn': 7.53, 'min_sunrise': 1726636659, 'min_humidity': 40, 'min_wind_speed': 1.74, 'min_clouds': 24, 'min_uvi': 4.5, 'sum_pop': 3.42, 'latitude': 43.7496562, 'longitude': 6.3285616, 'latitude_rounded': 43.7497}, {'id': 1, 'UnnamedC_0': 25, 'index': 25, 'name': 'Château du Haut-Kœnigsbourg', 'temp_day_x': 20.42, 'temp_min_x': 12.31, 'temp_max_x': 20.42, 'feels_like_day_x': 19.95, 'feels_like_morn_x': 12.31, 'sunrise_x': 1727241704, 'humidity_x': 97, 'wind_speed_x': 6.16, 'clouds_x': 100, 'uvi_x': 4.31, 'temp_day_y': 17.583750000000002, 'temp_min_y': 10.3425, 'temp_max_y': 18.495, 'feels_like_day_y': 17.17, 'feels_like_morn_y': 10.42625, 'sunrise_y': 1726939013.75, 'humidity_y': 67.875, 'wind_speed_y': 2.975, 'clouds_y': 67.625, 'uvi_y': 3.48, 'min_temp_day': 12.46, 'min_temp_min': 8.7, 'min_temp_max': 12.5, 'min_feels_like_day': 12.29, 'min_feels_like_morn': 7.93, 'min_sunrise': 1726636325, 'min_humidity': 55, 'min_wind_speed': 1.28, 'min_clouds': 0, 'min_uvi': 2.12, 'sum_pop': 5.93, 'latitude': 48.2495226, 'longitude': 7.3454923, 'latitude_rounded': 48.2495}, {'id': 2, 'UnnamedC_0': 19, 'index': 19, 'name': 'Annecy', 'temp_day_x': 22.77, 'temp_min_x': 13.73, 'temp_max_x': 22.77, 'feels_like_day_x': 22.23, 'feels_like_morn_x': 13.74, 'sunrise_x': 1727241987, 'humidity_x': 98, 'wind_speed_x': 2.84, 'clouds_x': 100, 'uvi_x': 4.54, 'temp_day_y': 19.17375, 'temp_min_y': 11.3825, 'temp_max_y': 20.015, 'feels_like_day_y': 18.81, 'feels_like_morn_y': 11.465, 'sunrise_y': 1726939326.125, 'humidity_y': 63.75, 'wind_speed_y': 1.8375, 'clouds_y': 78.25, 'uvi_y': 3.5775, 'min_temp_day': 13.14, 'min_temp_min': 9.62, 'min_temp_max': 13.71, 'min_feels_like_day': 13.07, 'min_feels_like_morn': 8.97, 'min_sunrise': 1726636666, 'min_humidity': 43, 'min_wind_speed': 1.44, 'min_clouds': 19, 'min_uvi': 2.05, 'sum_pop': 3.48, 'latitude': 45.8992348, 'longitude': 6.1288847, 'latitude_rounded': 45.8992}, {'id': 3, 'UnnamedC_0': 21, 'index': 21, 'name': 'Besançon', 'temp_day_x': 22.92, 'temp_min_x': 14.28, 'temp_max_x': 23.72, 'feels_like_day_x': 22.63, 'feels_like_morn_x': 14.74, 'sunrise_x': 1727242017, 'humidity_x': 99, 'wind_speed_x': 5.41, 'clouds_x': 100, 'uvi_x': 4.54, 'temp_day_y': 18.94125, 'temp_min_y': 11.70125, 'temp_max_y': 19.93625, 'feels_like_day_y': 18.74375, 'feels_like_morn_y': 12.255, 'sunrise_y': 1726939340.0, 'humidity_y': 71.0, 'wind_speed_y': 2.66875, 'clouds_y': 64.75, 'uvi_y': 4.05125, 'min_temp_day': 13.2, 'min_temp_min': 8.71, 'min_temp_max': 14.2, 'min_feels_like_day': 13.16, 'min_feels_like_morn': 8.71, 'min_sunrise': 1726636664, 'min_humidity': 52, 'min_wind_speed': 1.31, 'min_clouds': 0, 'min_uvi': 3.15, 'sum_pop': 5.73, 'latitude': 47.2380222, 'longitude': 6.0243622, 'latitude_rounded': 47.238}, {'id': 4, 'UnnamedC_0': 27, 'index': 27, 'name': 'Mont Saint-Michel', 'temp_day_x': 22.07, 'temp_min_x': 14.34, 'temp_max_x': 24.12, 'feels_like_day_x': 21.61, 'feels_like_morn_x': 14.77, 'sunrise_x': 1727243833, 'humidity_x': 65, 'wind_speed_x': 7.64, 'clouds_x': 100, 'uvi_x': 4.25, 'temp_day_y': 20.0325, 'temp_min_y': 12.67, 'temp_max_y': 21.41125, 'feels_like_day_y': 19.645, 'feels_like_morn_y': 12.77375, 'sunrise_y': 1726941137.875, 'humidity_y': 59.5, 'wind_speed_y': 5.835, 'clouds_y': 60.75, 'uvi_y': 3.37, 'min_temp_day': 17.78, 'min_temp_min': 10.61, 'min_temp_max': 18.53, 'min_feels_like_day': 17.31, 'min_feels_like_morn': 10.15, 'min_sunrise': 1726638444, 'min_humidity': 49, 'min_wind_speed': 2.59, 'min_clouds': 5, 'min_uvi': 2.95, 'sum_pop': 4.44, 'latitude': 48.6359541, 'longitude': -1.511459954959514, 'latitude_rounded': 48.636}]\n",
      "2024-09-18 13:25:20,335 INFO sqlalchemy.engine.Engine SHOW FULL TABLES FROM `jedha-firstdb`\n",
      "2024-09-18 13:25:20,335 INFO sqlalchemy.engine.Engine [raw sql] {}\n",
      "2024-09-18 13:25:20,344 INFO sqlalchemy.engine.Engine COMMIT\n"
     ]
    },
    {
     "data": {
      "text/plain": [
       "5"
      ]
     },
     "execution_count": 18,
     "metadata": {},
     "output_type": "execute_result"
    }
   ],
   "source": [
    "df_weather.to_sql('Weather', con=engine, index=True, index_label='id', if_exists='replace')"
   ]
  },
  {
   "cell_type": "code",
   "execution_count": null,
   "metadata": {},
   "outputs": [],
   "source": []
  }
 ],
 "metadata": {
  "kernelspec": {
   "display_name": "base",
   "language": "python",
   "name": "python3"
  },
  "language_info": {
   "codemirror_mode": {
    "name": "ipython",
    "version": 3
   },
   "file_extension": ".py",
   "mimetype": "text/x-python",
   "name": "python",
   "nbconvert_exporter": "python",
   "pygments_lexer": "ipython3",
   "version": "3.11.7"
  }
 },
 "nbformat": 4,
 "nbformat_minor": 2
}
