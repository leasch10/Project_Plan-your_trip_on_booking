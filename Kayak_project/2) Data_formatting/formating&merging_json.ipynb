{
 "cells": [
  {
   "cell_type": "code",
   "execution_count": 2,
   "metadata": {},
   "outputs": [],
   "source": [
    "import json\n",
    "with open('C:\\\\Users\\\\leasc\\\\github\\\\data_management_collection-\\\\Kayak_project\\\\booking_project\\\\booking_project\\\\spiders\\\\booking_project\\\\booking_test.json', 'r') as file:\n",
    "    booking_test = json.load(file)"
   ]
  },
  {
   "cell_type": "code",
   "execution_count": 3,
   "metadata": {},
   "outputs": [
    {
     "data": {
      "text/html": [
       "<div>\n",
       "<style scoped>\n",
       "    .dataframe tbody tr th:only-of-type {\n",
       "        vertical-align: middle;\n",
       "    }\n",
       "\n",
       "    .dataframe tbody tr th {\n",
       "        vertical-align: top;\n",
       "    }\n",
       "\n",
       "    .dataframe thead th {\n",
       "        text-align: right;\n",
       "    }\n",
       "</style>\n",
       "<table border=\"1\" class=\"dataframe\">\n",
       "  <thead>\n",
       "    <tr style=\"text-align: right;\">\n",
       "      <th></th>\n",
       "      <th>city</th>\n",
       "      <th>name</th>\n",
       "      <th>url</th>\n",
       "      <th>rating</th>\n",
       "    </tr>\n",
       "  </thead>\n",
       "  <tbody>\n",
       "    <tr>\n",
       "      <th>0</th>\n",
       "      <td>Besançon</td>\n",
       "      <td>Premiere Classe Besancon Ecole Valentin</td>\n",
       "      <td>https://www.booking.com/hotel/fr/premiere-clas...</td>\n",
       "      <td>6.7</td>\n",
       "    </tr>\n",
       "    <tr>\n",
       "      <th>1</th>\n",
       "      <td>Besançon</td>\n",
       "      <td>ibis budget Besançon Ecole Valentin</td>\n",
       "      <td>https://www.booking.com/hotel/fr/ibis-budget.e...</td>\n",
       "      <td>6.0</td>\n",
       "    </tr>\n",
       "    <tr>\n",
       "      <th>2</th>\n",
       "      <td>Besançon</td>\n",
       "      <td>Accueil Hotel Besançon</td>\n",
       "      <td>https://www.booking.com/hotel/fr/accueil-besan...</td>\n",
       "      <td>6.6</td>\n",
       "    </tr>\n",
       "    <tr>\n",
       "      <th>3</th>\n",
       "      <td>Besançon</td>\n",
       "      <td>Campanile Besançon-Ouest Châteaufarine</td>\n",
       "      <td>https://www.booking.com/hotel/fr/campanile-bes...</td>\n",
       "      <td>6.7</td>\n",
       "    </tr>\n",
       "    <tr>\n",
       "      <th>4</th>\n",
       "      <td>Besançon</td>\n",
       "      <td>Hotel Campanile Besançon Nord Ecole Valentin</td>\n",
       "      <td>https://www.booking.com/hotel/fr/campanile-bes...</td>\n",
       "      <td>7.3</td>\n",
       "    </tr>\n",
       "    <tr>\n",
       "      <th>...</th>\n",
       "      <td>...</td>\n",
       "      <td>...</td>\n",
       "      <td>...</td>\n",
       "      <td>...</td>\n",
       "    </tr>\n",
       "    <tr>\n",
       "      <th>88</th>\n",
       "      <td>Sélestat</td>\n",
       "      <td>Gîte du Figuier 4 à 6 personnes Sélestat Centr...</td>\n",
       "      <td>https://www.booking.com/hotel/fr/nouveau-gite-...</td>\n",
       "      <td>8.3</td>\n",
       "    </tr>\n",
       "    <tr>\n",
       "      <th>89</th>\n",
       "      <td>Sélestat</td>\n",
       "      <td>La Pause Pétillante</td>\n",
       "      <td>https://www.booking.com/hotel/fr/la-pause-peti...</td>\n",
       "      <td>8.6</td>\n",
       "    </tr>\n",
       "    <tr>\n",
       "      <th>90</th>\n",
       "      <td>Sélestat</td>\n",
       "      <td>Gite Villa Avril piscine- jacuzzi- sauna - 15 ...</td>\n",
       "      <td>https://www.booking.com/hotel/fr/villa-avril.e...</td>\n",
       "      <td>9.0</td>\n",
       "    </tr>\n",
       "    <tr>\n",
       "      <th>91</th>\n",
       "      <td>Sélestat</td>\n",
       "      <td>Gite Le Caveau Sélestat - 30min EuropaPark</td>\n",
       "      <td>https://www.booking.com/hotel/fr/gites-de-sele...</td>\n",
       "      <td>7.9</td>\n",
       "    </tr>\n",
       "    <tr>\n",
       "      <th>92</th>\n",
       "      <td>Sélestat</td>\n",
       "      <td>- 1 - Appartement charmant moderne 5 pers T3 73m2</td>\n",
       "      <td>https://www.booking.com/hotel/fr/1-appartement...</td>\n",
       "      <td>7.2</td>\n",
       "    </tr>\n",
       "  </tbody>\n",
       "</table>\n",
       "<p>93 rows × 4 columns</p>\n",
       "</div>"
      ],
      "text/plain": [
       "        city                                               name  \\\n",
       "0   Besançon            Premiere Classe Besancon Ecole Valentin   \n",
       "1   Besançon                ibis budget Besançon Ecole Valentin   \n",
       "2   Besançon                             Accueil Hotel Besançon   \n",
       "3   Besançon             Campanile Besançon-Ouest Châteaufarine   \n",
       "4   Besançon       Hotel Campanile Besançon Nord Ecole Valentin   \n",
       "..       ...                                                ...   \n",
       "88  Sélestat  Gîte du Figuier 4 à 6 personnes Sélestat Centr...   \n",
       "89  Sélestat                                La Pause Pétillante   \n",
       "90  Sélestat  Gite Villa Avril piscine- jacuzzi- sauna - 15 ...   \n",
       "91  Sélestat         Gite Le Caveau Sélestat - 30min EuropaPark   \n",
       "92  Sélestat  - 1 - Appartement charmant moderne 5 pers T3 73m2   \n",
       "\n",
       "                                                  url rating  \n",
       "0   https://www.booking.com/hotel/fr/premiere-clas...    6.7  \n",
       "1   https://www.booking.com/hotel/fr/ibis-budget.e...    6.0  \n",
       "2   https://www.booking.com/hotel/fr/accueil-besan...    6.6  \n",
       "3   https://www.booking.com/hotel/fr/campanile-bes...    6.7  \n",
       "4   https://www.booking.com/hotel/fr/campanile-bes...    7.3  \n",
       "..                                                ...    ...  \n",
       "88  https://www.booking.com/hotel/fr/nouveau-gite-...    8.3  \n",
       "89  https://www.booking.com/hotel/fr/la-pause-peti...    8.6  \n",
       "90  https://www.booking.com/hotel/fr/villa-avril.e...    9.0  \n",
       "91  https://www.booking.com/hotel/fr/gites-de-sele...    7.9  \n",
       "92  https://www.booking.com/hotel/fr/1-appartement...    7.2  \n",
       "\n",
       "[93 rows x 4 columns]"
      ]
     },
     "execution_count": 3,
     "metadata": {},
     "output_type": "execute_result"
    }
   ],
   "source": [
    "import pandas as pd\n",
    "df_booking_test = pd.DataFrame(booking_test)\n",
    "df_booking_test"
   ]
  },
  {
   "cell_type": "code",
   "execution_count": 4,
   "metadata": {},
   "outputs": [],
   "source": [
    "for index, row in df_booking_test.iterrows():\n",
    "    if row['city'] == 'Castellane':\n",
    "        df_booking_test.at[index, 'city_final'] = 'Gorges du Verdon'\n",
    "    elif row['city']== 'Sélestat':\n",
    "        df_booking_test.at[index, 'city_final'] = 'Château du Haut-Kœnigsbourg'\n",
    "    elif row['city'] == 'Collioure':\n",
    "        df_booking_test.at[index, 'city_final'] = 'Collioure'\n",
    "    elif row['city'] == 'Strasbourg':\n",
    "        df_booking_test.at[index, 'city_final'] = 'Stasbourg'\n",
    "    elif row['city'] == 'Annecy':\n",
    "        df_booking_test.at[index, 'city_final'] = 'Annecy'   \n",
    "    elif row['city'] == 'Besançon':\n",
    "        df_booking_test.at[index, 'city_final'] = 'Besançon'  \n",
    "    elif 'Strasbourg' in row['city']:  \n",
    "        df_booking_test.at[index, 'city_final'] = 'Strasbourg'\n",
    "    elif 'Annecy' in row['city']:\n",
    "        df_booking_test.at[index, 'city_final'] = 'Annecy'\n",
    "    else:\n",
    "        df_booking_test.at[index, 'city_final'] = 'Le Mont-Saint-Michel'     "
   ]
  },
  {
   "cell_type": "code",
   "execution_count": 5,
   "metadata": {},
   "outputs": [],
   "source": [
    "df_hotel = pd.read_csv(\"best_hotel.csv\")"
   ]
  },
  {
   "cell_type": "code",
   "execution_count": 6,
   "metadata": {},
   "outputs": [
    {
     "data": {
      "text/html": [
       "<div>\n",
       "<style scoped>\n",
       "    .dataframe tbody tr th:only-of-type {\n",
       "        vertical-align: middle;\n",
       "    }\n",
       "\n",
       "    .dataframe tbody tr th {\n",
       "        vertical-align: top;\n",
       "    }\n",
       "\n",
       "    .dataframe thead th {\n",
       "        text-align: right;\n",
       "    }\n",
       "</style>\n",
       "<table border=\"1\" class=\"dataframe\">\n",
       "  <thead>\n",
       "    <tr style=\"text-align: right;\">\n",
       "      <th></th>\n",
       "      <th>city</th>\n",
       "      <th>name</th>\n",
       "      <th>url</th>\n",
       "      <th>rating</th>\n",
       "      <th>city_final</th>\n",
       "      <th>latitude</th>\n",
       "      <th>longitude</th>\n",
       "      <th>latitude2</th>\n",
       "      <th>longitude2</th>\n",
       "      <th>description</th>\n",
       "    </tr>\n",
       "  </thead>\n",
       "  <tbody>\n",
       "    <tr>\n",
       "      <th>0</th>\n",
       "      <td>Beauvoir</td>\n",
       "      <td>Château de La Ballue - Teritoria</td>\n",
       "      <td>https://www.booking.com/hotel/fr/chateau-de-la...</td>\n",
       "      <td>9.2</td>\n",
       "      <td>Le Mont-Saint-Michel</td>\n",
       "      <td>48.425212</td>\n",
       "      <td>-1.565564</td>\n",
       "      <td>48.443177</td>\n",
       "      <td>-1.538432</td>\n",
       "      <td>Set in a castle dating back to the 17th-Centur...</td>\n",
       "    </tr>\n",
       "    <tr>\n",
       "      <th>1</th>\n",
       "      <td>Besançon</td>\n",
       "      <td>Gîtes de l'Orée du Bois</td>\n",
       "      <td>https://www.booking.com/hotel/fr/gites-de-l-39...</td>\n",
       "      <td>9.2</td>\n",
       "      <td>Besançon</td>\n",
       "      <td>47.140367</td>\n",
       "      <td>5.883229</td>\n",
       "      <td>47.158332</td>\n",
       "      <td>5.909699</td>\n",
       "      <td>Offering a garden and garden view, Gîtes de l'...</td>\n",
       "    </tr>\n",
       "    <tr>\n",
       "      <th>2</th>\n",
       "      <td>Castellane</td>\n",
       "      <td>Hotel Les Restanques De Moustiers</td>\n",
       "      <td>https://www.booking.com/hotel/fr/les-restanque...</td>\n",
       "      <td>9.1</td>\n",
       "      <td>Gorges du Verdon</td>\n",
       "      <td>43.821657</td>\n",
       "      <td>6.197063</td>\n",
       "      <td>43.839623</td>\n",
       "      <td>6.222017</td>\n",
       "      <td>This Provencal-style hotel has a floral terrac...</td>\n",
       "    </tr>\n",
       "    <tr>\n",
       "      <th>3</th>\n",
       "      <td>Beauvoir</td>\n",
       "      <td>Ducey Appart'Hôtel - Les Rivières</td>\n",
       "      <td>https://www.booking.com/hotel/fr/ducey-appart-...</td>\n",
       "      <td>9.0</td>\n",
       "      <td>Le Mont-Saint-Michel</td>\n",
       "      <td>48.602466</td>\n",
       "      <td>-1.317163</td>\n",
       "      <td>48.620432</td>\n",
       "      <td>-1.289936</td>\n",
       "      <td>Set 25 km from Mont Saint Michel Abbey, 25 km ...</td>\n",
       "    </tr>\n",
       "    <tr>\n",
       "      <th>4</th>\n",
       "      <td>Sélestat</td>\n",
       "      <td>Gite Villa Avril piscine- jacuzzi- sauna - 15 ...</td>\n",
       "      <td>https://www.booking.com/hotel/fr/villa-avril.e...</td>\n",
       "      <td>9.0</td>\n",
       "      <td>Château du Haut-Kœnigsbourg</td>\n",
       "      <td>48.241500</td>\n",
       "      <td>7.421219</td>\n",
       "      <td>48.259465</td>\n",
       "      <td>7.448253</td>\n",
       "      <td>Gite Villa Avril piscine- jacuzzi- sauna - 15 ...</td>\n",
       "    </tr>\n",
       "    <tr>\n",
       "      <th>5</th>\n",
       "      <td>Beauvoir</td>\n",
       "      <td>La Ramade - Teritoria</td>\n",
       "      <td>https://www.booking.com/hotel/fr/la-ramade.htm...</td>\n",
       "      <td>9.0</td>\n",
       "      <td>Le Mont-Saint-Michel</td>\n",
       "      <td>48.675686</td>\n",
       "      <td>-1.402012</td>\n",
       "      <td>48.693652</td>\n",
       "      <td>-1.374745</td>\n",
       "      <td>Composed of 2 villas and situated 400 metres f...</td>\n",
       "    </tr>\n",
       "    <tr>\n",
       "      <th>6</th>\n",
       "      <td>Castellane</td>\n",
       "      <td>Hotel Le Moulin du Château</td>\n",
       "      <td>https://www.booking.com/hotel/fr/le-moulin-du-...</td>\n",
       "      <td>8.9</td>\n",
       "      <td>Gorges du Verdon</td>\n",
       "      <td>43.707751</td>\n",
       "      <td>6.042673</td>\n",
       "      <td>43.725717</td>\n",
       "      <td>6.067579</td>\n",
       "      <td>Le Moulin Du Château is a former olive oil mil...</td>\n",
       "    </tr>\n",
       "    <tr>\n",
       "      <th>7</th>\n",
       "      <td>Castellane</td>\n",
       "      <td>Hôtel Spa Les Alpes</td>\n",
       "      <td>https://www.booking.com/hotel/fr/des-alpes-gra...</td>\n",
       "      <td>8.9</td>\n",
       "      <td>Gorges du Verdon</td>\n",
       "      <td>43.740731</td>\n",
       "      <td>5.857135</td>\n",
       "      <td>43.758697</td>\n",
       "      <td>5.882055</td>\n",
       "      <td>Ideally located near the famous Gorges du Verd...</td>\n",
       "    </tr>\n",
       "    <tr>\n",
       "      <th>8</th>\n",
       "      <td>Annecy City Centre, Annecy</td>\n",
       "      <td>Rivage Hôtel &amp; Spa Annecy</td>\n",
       "      <td>https://www.booking.com/hotel/fr/rivage-amp-sp...</td>\n",
       "      <td>8.9</td>\n",
       "      <td>Annecy</td>\n",
       "      <td>45.887734</td>\n",
       "      <td>6.126087</td>\n",
       "      <td>45.905699</td>\n",
       "      <td>6.151953</td>\n",
       "      <td>Featuring 4-star accommodation, Rivage Hôtel &amp;...</td>\n",
       "    </tr>\n",
       "    <tr>\n",
       "      <th>9</th>\n",
       "      <td>Sélestat</td>\n",
       "      <td>Le Château du Haut-Koenigsbourg</td>\n",
       "      <td>https://www.booking.com/hotel/fr/les-residence...</td>\n",
       "      <td>8.8</td>\n",
       "      <td>Château du Haut-Kœnigsbourg</td>\n",
       "      <td>48.238806</td>\n",
       "      <td>7.425404</td>\n",
       "      <td>48.256771</td>\n",
       "      <td>7.452437</td>\n",
       "      <td>Offering city views, Le Château du Haut-Koenig...</td>\n",
       "    </tr>\n",
       "    <tr>\n",
       "      <th>10</th>\n",
       "      <td>Annecy City Centre, Annecy</td>\n",
       "      <td>Allobroges Park Hôtel</td>\n",
       "      <td>https://www.booking.com/hotel/fr/tiallobroges....</td>\n",
       "      <td>8.8</td>\n",
       "      <td>Annecy</td>\n",
       "      <td>45.884221</td>\n",
       "      <td>6.097941</td>\n",
       "      <td>45.902187</td>\n",
       "      <td>6.123805</td>\n",
       "      <td>Set in Annecy City Centre, this 3-star hotel i...</td>\n",
       "    </tr>\n",
       "    <tr>\n",
       "      <th>11</th>\n",
       "      <td>Castellane</td>\n",
       "      <td>Le Relais Notre Dame</td>\n",
       "      <td>https://www.booking.com/hotel/fr/relais-notre-...</td>\n",
       "      <td>8.8</td>\n",
       "      <td>Gorges du Verdon</td>\n",
       "      <td>43.681123</td>\n",
       "      <td>6.012344</td>\n",
       "      <td>43.699089</td>\n",
       "      <td>6.037239</td>\n",
       "      <td>Located at the entrance to Quinson village, ne...</td>\n",
       "    </tr>\n",
       "    <tr>\n",
       "      <th>12</th>\n",
       "      <td>Annecy City Centre, Annecy</td>\n",
       "      <td>Le Pélican</td>\n",
       "      <td>https://www.booking.com/hotel/fr/le-pelican-an...</td>\n",
       "      <td>8.8</td>\n",
       "      <td>Annecy</td>\n",
       "      <td>45.879050</td>\n",
       "      <td>6.105681</td>\n",
       "      <td>45.897015</td>\n",
       "      <td>6.131543</td>\n",
       "      <td>Situated in Annecy, 37 km from Rochexpo, Le Pé...</td>\n",
       "    </tr>\n",
       "    <tr>\n",
       "      <th>13</th>\n",
       "      <td>Annecy City Centre, Annecy</td>\n",
       "      <td>Hébé Hotel</td>\n",
       "      <td>https://www.booking.com/hotel/fr/alery.en-gb.h...</td>\n",
       "      <td>8.8</td>\n",
       "      <td>Annecy</td>\n",
       "      <td>45.882453</td>\n",
       "      <td>6.094481</td>\n",
       "      <td>45.900418</td>\n",
       "      <td>6.120344</td>\n",
       "      <td>\\nNew hotel - Opening May 2021.\\n\\nHébé Hotel ...</td>\n",
       "    </tr>\n",
       "    <tr>\n",
       "      <th>14</th>\n",
       "      <td>Annecy City Centre, Annecy</td>\n",
       "      <td>Cote Ouest</td>\n",
       "      <td>https://www.booking.com/hotel/fr/cote-ouest.en...</td>\n",
       "      <td>8.8</td>\n",
       "      <td>Annecy</td>\n",
       "      <td>45.858383</td>\n",
       "      <td>6.116070</td>\n",
       "      <td>45.876348</td>\n",
       "      <td>6.141922</td>\n",
       "      <td>Facing Lake Annecy, Cote Ouest is a 15-minute ...</td>\n",
       "    </tr>\n",
       "    <tr>\n",
       "      <th>15</th>\n",
       "      <td>Castellane</td>\n",
       "      <td>Logis Hôtel Le Vieil Amandier</td>\n",
       "      <td>https://www.booking.com/hotel/fr/logis-le-viei...</td>\n",
       "      <td>8.8</td>\n",
       "      <td>Gorges du Verdon</td>\n",
       "      <td>43.743029</td>\n",
       "      <td>6.417110</td>\n",
       "      <td>43.760994</td>\n",
       "      <td>6.442030</td>\n",
       "      <td>Le Vieil Amandier is located in the small vill...</td>\n",
       "    </tr>\n",
       "    <tr>\n",
       "      <th>16</th>\n",
       "      <td>Annecy City Centre, Annecy</td>\n",
       "      <td>Hôtel Le Pré Carré</td>\n",
       "      <td>https://www.booking.com/hotel/fr/leprecarre.en...</td>\n",
       "      <td>8.7</td>\n",
       "      <td>Annecy</td>\n",
       "      <td>45.884531</td>\n",
       "      <td>6.100255</td>\n",
       "      <td>45.902496</td>\n",
       "      <td>6.126120</td>\n",
       "      <td>Le Pré Carré is a hotel located in the heart o...</td>\n",
       "    </tr>\n",
       "    <tr>\n",
       "      <th>17</th>\n",
       "      <td>Beauvoir</td>\n",
       "      <td>Hôtel Victor Hugo</td>\n",
       "      <td>https://www.booking.com/hotel/fr/victor-hugo-p...</td>\n",
       "      <td>8.7</td>\n",
       "      <td>Le Mont-Saint-Michel</td>\n",
       "      <td>48.534984</td>\n",
       "      <td>-1.535250</td>\n",
       "      <td>48.552949</td>\n",
       "      <td>-1.508059</td>\n",
       "      <td>Located in Pontorson, 10 km from Mont Saint Mi...</td>\n",
       "    </tr>\n",
       "    <tr>\n",
       "      <th>18</th>\n",
       "      <td>Annecy City Centre, Annecy</td>\n",
       "      <td>Impérial Palace</td>\n",
       "      <td>https://www.booking.com/hotel/fr/imperial-pala...</td>\n",
       "      <td>8.7</td>\n",
       "      <td>Annecy</td>\n",
       "      <td>45.885782</td>\n",
       "      <td>6.118829</td>\n",
       "      <td>45.903747</td>\n",
       "      <td>6.144694</td>\n",
       "      <td>Located in the heart of the French Alps, Impér...</td>\n",
       "    </tr>\n",
       "    <tr>\n",
       "      <th>19</th>\n",
       "      <td>Castellane</td>\n",
       "      <td>La Bastide du Calalou; BW Signature Collection</td>\n",
       "      <td>https://www.booking.com/hotel/fr/bastide-du-ca...</td>\n",
       "      <td>8.7</td>\n",
       "      <td>Gorges du Verdon</td>\n",
       "      <td>43.636401</td>\n",
       "      <td>6.144628</td>\n",
       "      <td>43.654366</td>\n",
       "      <td>6.169505</td>\n",
       "      <td>Bastide Du Calalou is located a 30-minute driv...</td>\n",
       "    </tr>\n",
       "  </tbody>\n",
       "</table>\n",
       "</div>"
      ],
      "text/plain": [
       "                          city  \\\n",
       "0                     Beauvoir   \n",
       "1                     Besançon   \n",
       "2                   Castellane   \n",
       "3                     Beauvoir   \n",
       "4                     Sélestat   \n",
       "5                     Beauvoir   \n",
       "6                   Castellane   \n",
       "7                   Castellane   \n",
       "8   Annecy City Centre, Annecy   \n",
       "9                     Sélestat   \n",
       "10  Annecy City Centre, Annecy   \n",
       "11                  Castellane   \n",
       "12  Annecy City Centre, Annecy   \n",
       "13  Annecy City Centre, Annecy   \n",
       "14  Annecy City Centre, Annecy   \n",
       "15                  Castellane   \n",
       "16  Annecy City Centre, Annecy   \n",
       "17                    Beauvoir   \n",
       "18  Annecy City Centre, Annecy   \n",
       "19                  Castellane   \n",
       "\n",
       "                                                 name  \\\n",
       "0                    Château de La Ballue - Teritoria   \n",
       "1                             Gîtes de l'Orée du Bois   \n",
       "2                   Hotel Les Restanques De Moustiers   \n",
       "3                   Ducey Appart'Hôtel - Les Rivières   \n",
       "4   Gite Villa Avril piscine- jacuzzi- sauna - 15 ...   \n",
       "5                               La Ramade - Teritoria   \n",
       "6                          Hotel Le Moulin du Château   \n",
       "7                                 Hôtel Spa Les Alpes   \n",
       "8                           Rivage Hôtel & Spa Annecy   \n",
       "9                     Le Château du Haut-Koenigsbourg   \n",
       "10                              Allobroges Park Hôtel   \n",
       "11                               Le Relais Notre Dame   \n",
       "12                                         Le Pélican   \n",
       "13                                         Hébé Hotel   \n",
       "14                                         Cote Ouest   \n",
       "15                      Logis Hôtel Le Vieil Amandier   \n",
       "16                                 Hôtel Le Pré Carré   \n",
       "17                                  Hôtel Victor Hugo   \n",
       "18                                    Impérial Palace   \n",
       "19     La Bastide du Calalou; BW Signature Collection   \n",
       "\n",
       "                                                  url  rating  \\\n",
       "0   https://www.booking.com/hotel/fr/chateau-de-la...     9.2   \n",
       "1   https://www.booking.com/hotel/fr/gites-de-l-39...     9.2   \n",
       "2   https://www.booking.com/hotel/fr/les-restanque...     9.1   \n",
       "3   https://www.booking.com/hotel/fr/ducey-appart-...     9.0   \n",
       "4   https://www.booking.com/hotel/fr/villa-avril.e...     9.0   \n",
       "5   https://www.booking.com/hotel/fr/la-ramade.htm...     9.0   \n",
       "6   https://www.booking.com/hotel/fr/le-moulin-du-...     8.9   \n",
       "7   https://www.booking.com/hotel/fr/des-alpes-gra...     8.9   \n",
       "8   https://www.booking.com/hotel/fr/rivage-amp-sp...     8.9   \n",
       "9   https://www.booking.com/hotel/fr/les-residence...     8.8   \n",
       "10  https://www.booking.com/hotel/fr/tiallobroges....     8.8   \n",
       "11  https://www.booking.com/hotel/fr/relais-notre-...     8.8   \n",
       "12  https://www.booking.com/hotel/fr/le-pelican-an...     8.8   \n",
       "13  https://www.booking.com/hotel/fr/alery.en-gb.h...     8.8   \n",
       "14  https://www.booking.com/hotel/fr/cote-ouest.en...     8.8   \n",
       "15  https://www.booking.com/hotel/fr/logis-le-viei...     8.8   \n",
       "16  https://www.booking.com/hotel/fr/leprecarre.en...     8.7   \n",
       "17  https://www.booking.com/hotel/fr/victor-hugo-p...     8.7   \n",
       "18  https://www.booking.com/hotel/fr/imperial-pala...     8.7   \n",
       "19  https://www.booking.com/hotel/fr/bastide-du-ca...     8.7   \n",
       "\n",
       "                     city_final   latitude  longitude  latitude2  longitude2  \\\n",
       "0          Le Mont-Saint-Michel  48.425212  -1.565564  48.443177   -1.538432   \n",
       "1                      Besançon  47.140367   5.883229  47.158332    5.909699   \n",
       "2              Gorges du Verdon  43.821657   6.197063  43.839623    6.222017   \n",
       "3          Le Mont-Saint-Michel  48.602466  -1.317163  48.620432   -1.289936   \n",
       "4   Château du Haut-Kœnigsbourg  48.241500   7.421219  48.259465    7.448253   \n",
       "5          Le Mont-Saint-Michel  48.675686  -1.402012  48.693652   -1.374745   \n",
       "6              Gorges du Verdon  43.707751   6.042673  43.725717    6.067579   \n",
       "7              Gorges du Verdon  43.740731   5.857135  43.758697    5.882055   \n",
       "8                        Annecy  45.887734   6.126087  45.905699    6.151953   \n",
       "9   Château du Haut-Kœnigsbourg  48.238806   7.425404  48.256771    7.452437   \n",
       "10                       Annecy  45.884221   6.097941  45.902187    6.123805   \n",
       "11             Gorges du Verdon  43.681123   6.012344  43.699089    6.037239   \n",
       "12                       Annecy  45.879050   6.105681  45.897015    6.131543   \n",
       "13                       Annecy  45.882453   6.094481  45.900418    6.120344   \n",
       "14                       Annecy  45.858383   6.116070  45.876348    6.141922   \n",
       "15             Gorges du Verdon  43.743029   6.417110  43.760994    6.442030   \n",
       "16                       Annecy  45.884531   6.100255  45.902496    6.126120   \n",
       "17         Le Mont-Saint-Michel  48.534984  -1.535250  48.552949   -1.508059   \n",
       "18                       Annecy  45.885782   6.118829  45.903747    6.144694   \n",
       "19             Gorges du Verdon  43.636401   6.144628  43.654366    6.169505   \n",
       "\n",
       "                                          description  \n",
       "0   Set in a castle dating back to the 17th-Centur...  \n",
       "1   Offering a garden and garden view, Gîtes de l'...  \n",
       "2   This Provencal-style hotel has a floral terrac...  \n",
       "3   Set 25 km from Mont Saint Michel Abbey, 25 km ...  \n",
       "4   Gite Villa Avril piscine- jacuzzi- sauna - 15 ...  \n",
       "5   Composed of 2 villas and situated 400 metres f...  \n",
       "6   Le Moulin Du Château is a former olive oil mil...  \n",
       "7   Ideally located near the famous Gorges du Verd...  \n",
       "8   Featuring 4-star accommodation, Rivage Hôtel &...  \n",
       "9   Offering city views, Le Château du Haut-Koenig...  \n",
       "10  Set in Annecy City Centre, this 3-star hotel i...  \n",
       "11  Located at the entrance to Quinson village, ne...  \n",
       "12  Situated in Annecy, 37 km from Rochexpo, Le Pé...  \n",
       "13  \\nNew hotel - Opening May 2021.\\n\\nHébé Hotel ...  \n",
       "14  Facing Lake Annecy, Cote Ouest is a 15-minute ...  \n",
       "15  Le Vieil Amandier is located in the small vill...  \n",
       "16  Le Pré Carré is a hotel located in the heart o...  \n",
       "17  Located in Pontorson, 10 km from Mont Saint Mi...  \n",
       "18  Located in the heart of the French Alps, Impér...  \n",
       "19  Bastide Du Calalou is located a 30-minute driv...  "
      ]
     },
     "metadata": {},
     "output_type": "display_data"
    }
   ],
   "source": [
    "display(df_hotel)"
   ]
  },
  {
   "cell_type": "code",
   "execution_count": 7,
   "metadata": {},
   "outputs": [],
   "source": [
    "with open('C:\\\\Users\\\\leasc\\\\github\\\\data_management_collection-\\\\Kayak_project\\\\booking_project\\\\booking_project\\\\spiders\\\\booking_project\\\\booking_test2.json', 'r') as file:\n",
    "    booking_test2 = json.load(file)"
   ]
  },
  {
   "cell_type": "code",
   "execution_count": 8,
   "metadata": {},
   "outputs": [
    {
     "data": {
      "text/html": [
       "<div>\n",
       "<style scoped>\n",
       "    .dataframe tbody tr th:only-of-type {\n",
       "        vertical-align: middle;\n",
       "    }\n",
       "\n",
       "    .dataframe tbody tr th {\n",
       "        vertical-align: top;\n",
       "    }\n",
       "\n",
       "    .dataframe thead th {\n",
       "        text-align: right;\n",
       "    }\n",
       "</style>\n",
       "<table border=\"1\" class=\"dataframe\">\n",
       "  <thead>\n",
       "    <tr style=\"text-align: right;\">\n",
       "      <th></th>\n",
       "      <th>name</th>\n",
       "      <th>latitude</th>\n",
       "      <th>longitude</th>\n",
       "      <th>latitude2</th>\n",
       "      <th>longitude2</th>\n",
       "      <th>description</th>\n",
       "    </tr>\n",
       "  </thead>\n",
       "  <tbody>\n",
       "    <tr>\n",
       "      <th>0</th>\n",
       "      <td>B&amp;B HOTEL Besançon Valentin</td>\n",
       "      <td>47.2621957834269</td>\n",
       "      <td>5.96121555482559</td>\n",
       "      <td>47.28016120</td>\n",
       "      <td>5.98774590</td>\n",
       "      <td>Set in Besançon, 6.5 km from Besancon Viotte T...</td>\n",
       "    </tr>\n",
       "    <tr>\n",
       "      <th>1</th>\n",
       "      <td>hotelF1 Besancon Ouest Micropolis</td>\n",
       "      <td>47.2005715979198</td>\n",
       "      <td>5.95562249247755</td>\n",
       "      <td>47.21853701</td>\n",
       "      <td>5.98212199</td>\n",
       "      <td>Hotelf1 Besancon Ouest Micropolis - offers acc...</td>\n",
       "    </tr>\n",
       "    <tr>\n",
       "      <th>2</th>\n",
       "      <td>Accueil Hotel Besançon</td>\n",
       "      <td>47.1980465834269</td>\n",
       "      <td>5.9158728665836</td>\n",
       "      <td>47.21601200</td>\n",
       "      <td>5.94237110</td>\n",
       "      <td>Set in Besançon, 4.4 km from Micropolis, Accue...</td>\n",
       "    </tr>\n",
       "    <tr>\n",
       "      <th>3</th>\n",
       "      <td>Campanile Besançon-Ouest Châteaufarine</td>\n",
       "      <td>47.1980793502461</td>\n",
       "      <td>5.91699797747393</td>\n",
       "      <td>47.21604477</td>\n",
       "      <td>5.94349623</td>\n",
       "      <td>Part of the Campanile group, this hotel is sit...</td>\n",
       "    </tr>\n",
       "    <tr>\n",
       "      <th>4</th>\n",
       "      <td>Premiere Classe Besancon Ecole Valentin</td>\n",
       "      <td>47.2524756193439</td>\n",
       "      <td>5.97174682744466</td>\n",
       "      <td>47.27044104</td>\n",
       "      <td>5.99827230</td>\n",
       "      <td>Close to Alsace and Jura, this hotel is easily...</td>\n",
       "    </tr>\n",
       "    <tr>\n",
       "      <th>...</th>\n",
       "      <td>...</td>\n",
       "      <td>...</td>\n",
       "      <td>...</td>\n",
       "      <td>...</td>\n",
       "      <td>...</td>\n",
       "      <td>...</td>\n",
       "    </tr>\n",
       "    <tr>\n",
       "      <th>88</th>\n",
       "      <td>Gîte du Figuier 4 à 6 personnes Sélestat Centr...</td>\n",
       "      <td>48.2389738780863</td>\n",
       "      <td>7.43045036279787</td>\n",
       "      <td>48.25693929</td>\n",
       "      <td>7.45748370</td>\n",
       "      <td>Offering barbecue facilities and quiet street ...</td>\n",
       "    </tr>\n",
       "    <tr>\n",
       "      <th>89</th>\n",
       "      <td>Gite Villa Avril piscine- jacuzzi- sauna - 15 ...</td>\n",
       "      <td>48.2414995333971</td>\n",
       "      <td>7.42121866663502</td>\n",
       "      <td>48.25946495</td>\n",
       "      <td>7.44825334</td>\n",
       "      <td>Gite Villa Avril piscine- jacuzzi- sauna - 15 ...</td>\n",
       "    </tr>\n",
       "    <tr>\n",
       "      <th>90</th>\n",
       "      <td>Gite Le Caveau Sélestat - 30min EuropaPark</td>\n",
       "      <td>48.2417484401134</td>\n",
       "      <td>7.42843919665884</td>\n",
       "      <td>48.25971386</td>\n",
       "      <td>7.45547400</td>\n",
       "      <td>Set 42 km from Strasbourg and 21 km from Colma...</td>\n",
       "    </tr>\n",
       "    <tr>\n",
       "      <th>91</th>\n",
       "      <td>La Pause Pétillante</td>\n",
       "      <td>48.251528240575</td>\n",
       "      <td>7.43234928263737</td>\n",
       "      <td>48.26949366</td>\n",
       "      <td>7.45938926</td>\n",
       "      <td>La Pause Pétillante is located in Sélestat, 25...</td>\n",
       "    </tr>\n",
       "    <tr>\n",
       "      <th>92</th>\n",
       "      <td>- 1 - Appartement charmant moderne 5 pers T3 73m2</td>\n",
       "      <td>48.2420075834269</td>\n",
       "      <td>7.42517425961264</td>\n",
       "      <td>48.25997300</td>\n",
       "      <td>7.45220920</td>\n",
       "      <td>Offering city views, - 1 - Appartement charman...</td>\n",
       "    </tr>\n",
       "  </tbody>\n",
       "</table>\n",
       "<p>93 rows × 6 columns</p>\n",
       "</div>"
      ],
      "text/plain": [
       "                                                 name          latitude  \\\n",
       "0                         B&B HOTEL Besançon Valentin  47.2621957834269   \n",
       "1                   hotelF1 Besancon Ouest Micropolis  47.2005715979198   \n",
       "2                              Accueil Hotel Besançon  47.1980465834269   \n",
       "3              Campanile Besançon-Ouest Châteaufarine  47.1980793502461   \n",
       "4             Premiere Classe Besancon Ecole Valentin  47.2524756193439   \n",
       "..                                                ...               ...   \n",
       "88  Gîte du Figuier 4 à 6 personnes Sélestat Centr...  48.2389738780863   \n",
       "89  Gite Villa Avril piscine- jacuzzi- sauna - 15 ...  48.2414995333971   \n",
       "90         Gite Le Caveau Sélestat - 30min EuropaPark  48.2417484401134   \n",
       "91                                La Pause Pétillante   48.251528240575   \n",
       "92  - 1 - Appartement charmant moderne 5 pers T3 73m2  48.2420075834269   \n",
       "\n",
       "           longitude    latitude2  longitude2  \\\n",
       "0   5.96121555482559  47.28016120  5.98774590   \n",
       "1   5.95562249247755  47.21853701  5.98212199   \n",
       "2    5.9158728665836  47.21601200  5.94237110   \n",
       "3   5.91699797747393  47.21604477  5.94349623   \n",
       "4   5.97174682744466  47.27044104  5.99827230   \n",
       "..               ...          ...         ...   \n",
       "88  7.43045036279787  48.25693929  7.45748370   \n",
       "89  7.42121866663502  48.25946495  7.44825334   \n",
       "90  7.42843919665884  48.25971386  7.45547400   \n",
       "91  7.43234928263737  48.26949366  7.45938926   \n",
       "92  7.42517425961264  48.25997300  7.45220920   \n",
       "\n",
       "                                          description  \n",
       "0   Set in Besançon, 6.5 km from Besancon Viotte T...  \n",
       "1   Hotelf1 Besancon Ouest Micropolis - offers acc...  \n",
       "2   Set in Besançon, 4.4 km from Micropolis, Accue...  \n",
       "3   Part of the Campanile group, this hotel is sit...  \n",
       "4   Close to Alsace and Jura, this hotel is easily...  \n",
       "..                                                ...  \n",
       "88  Offering barbecue facilities and quiet street ...  \n",
       "89  Gite Villa Avril piscine- jacuzzi- sauna - 15 ...  \n",
       "90  Set 42 km from Strasbourg and 21 km from Colma...  \n",
       "91  La Pause Pétillante is located in Sélestat, 25...  \n",
       "92  Offering city views, - 1 - Appartement charman...  \n",
       "\n",
       "[93 rows x 6 columns]"
      ]
     },
     "execution_count": 8,
     "metadata": {},
     "output_type": "execute_result"
    }
   ],
   "source": [
    "df_booking_test2 = pd.DataFrame(booking_test2)\n",
    "df_booking_test2"
   ]
  },
  {
   "cell_type": "code",
   "execution_count": 9,
   "metadata": {},
   "outputs": [],
   "source": [
    "df_hotel = pd.merge(df_booking_test, df_booking_test2, on = \"name\")"
   ]
  },
  {
   "cell_type": "code",
   "execution_count": 10,
   "metadata": {},
   "outputs": [],
   "source": [
    "df_best_hotels = df_hotel.sort_values(by = \"rating\", ascending = False).iloc[:20]"
   ]
  },
  {
   "cell_type": "code",
   "execution_count": 11,
   "metadata": {},
   "outputs": [
    {
     "data": {
      "text/html": [
       "<div>\n",
       "<style scoped>\n",
       "    .dataframe tbody tr th:only-of-type {\n",
       "        vertical-align: middle;\n",
       "    }\n",
       "\n",
       "    .dataframe tbody tr th {\n",
       "        vertical-align: top;\n",
       "    }\n",
       "\n",
       "    .dataframe thead th {\n",
       "        text-align: right;\n",
       "    }\n",
       "</style>\n",
       "<table border=\"1\" class=\"dataframe\">\n",
       "  <thead>\n",
       "    <tr style=\"text-align: right;\">\n",
       "      <th></th>\n",
       "      <th>city</th>\n",
       "      <th>name</th>\n",
       "      <th>url</th>\n",
       "      <th>rating</th>\n",
       "      <th>city_final</th>\n",
       "      <th>latitude</th>\n",
       "      <th>longitude</th>\n",
       "      <th>latitude2</th>\n",
       "      <th>longitude2</th>\n",
       "      <th>description</th>\n",
       "    </tr>\n",
       "  </thead>\n",
       "  <tbody>\n",
       "    <tr>\n",
       "      <th>38</th>\n",
       "      <td>Beauvoir</td>\n",
       "      <td>Château de La Ballue - Teritoria</td>\n",
       "      <td>https://www.booking.com/hotel/fr/chateau-de-la...</td>\n",
       "      <td>9.2</td>\n",
       "      <td>Le Mont-Saint-Michel</td>\n",
       "      <td>48.425212</td>\n",
       "      <td>-1.565564</td>\n",
       "      <td>48.443177</td>\n",
       "      <td>-1.538432</td>\n",
       "      <td>Set in a castle dating back to the 17th-Centur...</td>\n",
       "    </tr>\n",
       "    <tr>\n",
       "      <th>12</th>\n",
       "      <td>Besançon</td>\n",
       "      <td>Gîtes de l'Orée du Bois</td>\n",
       "      <td>https://www.booking.com/hotel/fr/gites-de-l-39...</td>\n",
       "      <td>9.2</td>\n",
       "      <td>Besançon</td>\n",
       "      <td>47.140367</td>\n",
       "      <td>5.883229</td>\n",
       "      <td>47.158332</td>\n",
       "      <td>5.909699</td>\n",
       "      <td>Offering a garden and garden view, Gîtes de l'...</td>\n",
       "    </tr>\n",
       "    <tr>\n",
       "      <th>79</th>\n",
       "      <td>Castellane</td>\n",
       "      <td>Hotel Les Restanques De Moustiers</td>\n",
       "      <td>https://www.booking.com/hotel/fr/les-restanque...</td>\n",
       "      <td>9.1</td>\n",
       "      <td>Gorges du Verdon</td>\n",
       "      <td>43.821657</td>\n",
       "      <td>6.197063</td>\n",
       "      <td>43.839623</td>\n",
       "      <td>6.222017</td>\n",
       "      <td>This Provencal-style hotel has a floral terrac...</td>\n",
       "    </tr>\n",
       "    <tr>\n",
       "      <th>31</th>\n",
       "      <td>Beauvoir</td>\n",
       "      <td>Ducey Appart'Hôtel - Les Rivières</td>\n",
       "      <td>https://www.booking.com/hotel/fr/ducey-appart-...</td>\n",
       "      <td>9.0</td>\n",
       "      <td>Le Mont-Saint-Michel</td>\n",
       "      <td>48.602466</td>\n",
       "      <td>-1.317163</td>\n",
       "      <td>48.620432</td>\n",
       "      <td>-1.289936</td>\n",
       "      <td>Set 25 km from Mont Saint Michel Abbey, 25 km ...</td>\n",
       "    </tr>\n",
       "    <tr>\n",
       "      <th>92</th>\n",
       "      <td>Sélestat</td>\n",
       "      <td>Gite Villa Avril piscine- jacuzzi- sauna - 15 ...</td>\n",
       "      <td>https://www.booking.com/hotel/fr/villa-avril.e...</td>\n",
       "      <td>9.0</td>\n",
       "      <td>Château du Haut-Kœnigsbourg</td>\n",
       "      <td>48.241500</td>\n",
       "      <td>7.421219</td>\n",
       "      <td>48.259465</td>\n",
       "      <td>7.448253</td>\n",
       "      <td>Gite Villa Avril piscine- jacuzzi- sauna - 15 ...</td>\n",
       "    </tr>\n",
       "    <tr>\n",
       "      <th>30</th>\n",
       "      <td>Beauvoir</td>\n",
       "      <td>La Ramade - Teritoria</td>\n",
       "      <td>https://www.booking.com/hotel/fr/la-ramade.htm...</td>\n",
       "      <td>9.0</td>\n",
       "      <td>Le Mont-Saint-Michel</td>\n",
       "      <td>48.675686</td>\n",
       "      <td>-1.402012</td>\n",
       "      <td>48.693652</td>\n",
       "      <td>-1.374745</td>\n",
       "      <td>Composed of 2 villas and situated 400 metres f...</td>\n",
       "    </tr>\n",
       "    <tr>\n",
       "      <th>87</th>\n",
       "      <td>Castellane</td>\n",
       "      <td>Hotel Le Moulin du Château</td>\n",
       "      <td>https://www.booking.com/hotel/fr/le-moulin-du-...</td>\n",
       "      <td>8.9</td>\n",
       "      <td>Gorges du Verdon</td>\n",
       "      <td>43.707751</td>\n",
       "      <td>6.042673</td>\n",
       "      <td>43.725717</td>\n",
       "      <td>6.067579</td>\n",
       "      <td>Le Moulin Du Château is a former olive oil mil...</td>\n",
       "    </tr>\n",
       "    <tr>\n",
       "      <th>82</th>\n",
       "      <td>Castellane</td>\n",
       "      <td>Hôtel Spa Les Alpes</td>\n",
       "      <td>https://www.booking.com/hotel/fr/des-alpes-gra...</td>\n",
       "      <td>8.9</td>\n",
       "      <td>Gorges du Verdon</td>\n",
       "      <td>43.740731</td>\n",
       "      <td>5.857135</td>\n",
       "      <td>43.758697</td>\n",
       "      <td>5.882055</td>\n",
       "      <td>Ideally located near the famous Gorges du Verd...</td>\n",
       "    </tr>\n",
       "    <tr>\n",
       "      <th>67</th>\n",
       "      <td>Annecy City Centre, Annecy</td>\n",
       "      <td>Rivage Hôtel &amp; Spa Annecy</td>\n",
       "      <td>https://www.booking.com/hotel/fr/rivage-amp-sp...</td>\n",
       "      <td>8.9</td>\n",
       "      <td>Annecy</td>\n",
       "      <td>45.887734</td>\n",
       "      <td>6.126087</td>\n",
       "      <td>45.905699</td>\n",
       "      <td>6.151953</td>\n",
       "      <td>Featuring 4-star accommodation, Rivage Hôtel &amp;...</td>\n",
       "    </tr>\n",
       "    <tr>\n",
       "      <th>89</th>\n",
       "      <td>Sélestat</td>\n",
       "      <td>Le Château du Haut-Koenigsbourg</td>\n",
       "      <td>https://www.booking.com/hotel/fr/les-residence...</td>\n",
       "      <td>8.8</td>\n",
       "      <td>Château du Haut-Kœnigsbourg</td>\n",
       "      <td>48.238806</td>\n",
       "      <td>7.425404</td>\n",
       "      <td>48.256771</td>\n",
       "      <td>7.452437</td>\n",
       "      <td>Offering city views, Le Château du Haut-Koenig...</td>\n",
       "    </tr>\n",
       "    <tr>\n",
       "      <th>39</th>\n",
       "      <td>Annecy City Centre, Annecy</td>\n",
       "      <td>Allobroges Park Hôtel</td>\n",
       "      <td>https://www.booking.com/hotel/fr/tiallobroges....</td>\n",
       "      <td>8.8</td>\n",
       "      <td>Annecy</td>\n",
       "      <td>45.884221</td>\n",
       "      <td>6.097941</td>\n",
       "      <td>45.902187</td>\n",
       "      <td>6.123805</td>\n",
       "      <td>Set in Annecy City Centre, this 3-star hotel i...</td>\n",
       "    </tr>\n",
       "    <tr>\n",
       "      <th>81</th>\n",
       "      <td>Castellane</td>\n",
       "      <td>Le Relais Notre Dame</td>\n",
       "      <td>https://www.booking.com/hotel/fr/relais-notre-...</td>\n",
       "      <td>8.8</td>\n",
       "      <td>Gorges du Verdon</td>\n",
       "      <td>43.681123</td>\n",
       "      <td>6.012344</td>\n",
       "      <td>43.699089</td>\n",
       "      <td>6.037239</td>\n",
       "      <td>Located at the entrance to Quinson village, ne...</td>\n",
       "    </tr>\n",
       "    <tr>\n",
       "      <th>42</th>\n",
       "      <td>Annecy City Centre, Annecy</td>\n",
       "      <td>Le Pélican</td>\n",
       "      <td>https://www.booking.com/hotel/fr/le-pelican-an...</td>\n",
       "      <td>8.8</td>\n",
       "      <td>Annecy</td>\n",
       "      <td>45.879050</td>\n",
       "      <td>6.105681</td>\n",
       "      <td>45.897015</td>\n",
       "      <td>6.131543</td>\n",
       "      <td>Situated in Annecy, 37 km from Rochexpo, Le Pé...</td>\n",
       "    </tr>\n",
       "    <tr>\n",
       "      <th>46</th>\n",
       "      <td>Annecy City Centre, Annecy</td>\n",
       "      <td>Hébé Hotel</td>\n",
       "      <td>https://www.booking.com/hotel/fr/alery.en-gb.h...</td>\n",
       "      <td>8.8</td>\n",
       "      <td>Annecy</td>\n",
       "      <td>45.882453</td>\n",
       "      <td>6.094481</td>\n",
       "      <td>45.900418</td>\n",
       "      <td>6.120344</td>\n",
       "      <td>\\nNew hotel - Opening May 2021.\\n\\nHébé Hotel ...</td>\n",
       "    </tr>\n",
       "    <tr>\n",
       "      <th>83</th>\n",
       "      <td>Annecy City Centre, Annecy</td>\n",
       "      <td>Cote Ouest</td>\n",
       "      <td>https://www.booking.com/hotel/fr/cote-ouest.en...</td>\n",
       "      <td>8.8</td>\n",
       "      <td>Annecy</td>\n",
       "      <td>45.858383</td>\n",
       "      <td>6.116070</td>\n",
       "      <td>45.876348</td>\n",
       "      <td>6.141922</td>\n",
       "      <td>Facing Lake Annecy, Cote Ouest is a 15-minute ...</td>\n",
       "    </tr>\n",
       "    <tr>\n",
       "      <th>71</th>\n",
       "      <td>Castellane</td>\n",
       "      <td>Logis Hôtel Le Vieil Amandier</td>\n",
       "      <td>https://www.booking.com/hotel/fr/logis-le-viei...</td>\n",
       "      <td>8.8</td>\n",
       "      <td>Gorges du Verdon</td>\n",
       "      <td>43.743029</td>\n",
       "      <td>6.417110</td>\n",
       "      <td>43.760994</td>\n",
       "      <td>6.442030</td>\n",
       "      <td>Le Vieil Amandier is located in the small vill...</td>\n",
       "    </tr>\n",
       "    <tr>\n",
       "      <th>43</th>\n",
       "      <td>Annecy City Centre, Annecy</td>\n",
       "      <td>Hôtel Le Pré Carré</td>\n",
       "      <td>https://www.booking.com/hotel/fr/leprecarre.en...</td>\n",
       "      <td>8.7</td>\n",
       "      <td>Annecy</td>\n",
       "      <td>45.884531</td>\n",
       "      <td>6.100255</td>\n",
       "      <td>45.902496</td>\n",
       "      <td>6.126120</td>\n",
       "      <td>Le Pré Carré is a hotel located in the heart o...</td>\n",
       "    </tr>\n",
       "    <tr>\n",
       "      <th>22</th>\n",
       "      <td>Beauvoir</td>\n",
       "      <td>Hôtel Victor Hugo</td>\n",
       "      <td>https://www.booking.com/hotel/fr/victor-hugo-p...</td>\n",
       "      <td>8.7</td>\n",
       "      <td>Le Mont-Saint-Michel</td>\n",
       "      <td>48.534984</td>\n",
       "      <td>-1.535250</td>\n",
       "      <td>48.552949</td>\n",
       "      <td>-1.508059</td>\n",
       "      <td>Located in Pontorson, 10 km from Mont Saint Mi...</td>\n",
       "    </tr>\n",
       "    <tr>\n",
       "      <th>40</th>\n",
       "      <td>Annecy City Centre, Annecy</td>\n",
       "      <td>Impérial Palace</td>\n",
       "      <td>https://www.booking.com/hotel/fr/imperial-pala...</td>\n",
       "      <td>8.7</td>\n",
       "      <td>Annecy</td>\n",
       "      <td>45.885782</td>\n",
       "      <td>6.118829</td>\n",
       "      <td>45.903747</td>\n",
       "      <td>6.144694</td>\n",
       "      <td>Located in the heart of the French Alps, Impér...</td>\n",
       "    </tr>\n",
       "    <tr>\n",
       "      <th>51</th>\n",
       "      <td>Castellane</td>\n",
       "      <td>La Bastide du Calalou; BW Signature Collection</td>\n",
       "      <td>https://www.booking.com/hotel/fr/bastide-du-ca...</td>\n",
       "      <td>8.7</td>\n",
       "      <td>Gorges du Verdon</td>\n",
       "      <td>43.636401</td>\n",
       "      <td>6.144628</td>\n",
       "      <td>43.654366</td>\n",
       "      <td>6.169505</td>\n",
       "      <td>Bastide Du Calalou is located a 30-minute driv...</td>\n",
       "    </tr>\n",
       "  </tbody>\n",
       "</table>\n",
       "</div>"
      ],
      "text/plain": [
       "                          city  \\\n",
       "38                    Beauvoir   \n",
       "12                    Besançon   \n",
       "79                  Castellane   \n",
       "31                    Beauvoir   \n",
       "92                    Sélestat   \n",
       "30                    Beauvoir   \n",
       "87                  Castellane   \n",
       "82                  Castellane   \n",
       "67  Annecy City Centre, Annecy   \n",
       "89                    Sélestat   \n",
       "39  Annecy City Centre, Annecy   \n",
       "81                  Castellane   \n",
       "42  Annecy City Centre, Annecy   \n",
       "46  Annecy City Centre, Annecy   \n",
       "83  Annecy City Centre, Annecy   \n",
       "71                  Castellane   \n",
       "43  Annecy City Centre, Annecy   \n",
       "22                    Beauvoir   \n",
       "40  Annecy City Centre, Annecy   \n",
       "51                  Castellane   \n",
       "\n",
       "                                                 name  \\\n",
       "38                   Château de La Ballue - Teritoria   \n",
       "12                            Gîtes de l'Orée du Bois   \n",
       "79                  Hotel Les Restanques De Moustiers   \n",
       "31                  Ducey Appart'Hôtel - Les Rivières   \n",
       "92  Gite Villa Avril piscine- jacuzzi- sauna - 15 ...   \n",
       "30                              La Ramade - Teritoria   \n",
       "87                         Hotel Le Moulin du Château   \n",
       "82                                Hôtel Spa Les Alpes   \n",
       "67                          Rivage Hôtel & Spa Annecy   \n",
       "89                    Le Château du Haut-Koenigsbourg   \n",
       "39                              Allobroges Park Hôtel   \n",
       "81                               Le Relais Notre Dame   \n",
       "42                                         Le Pélican   \n",
       "46                                         Hébé Hotel   \n",
       "83                                         Cote Ouest   \n",
       "71                      Logis Hôtel Le Vieil Amandier   \n",
       "43                                 Hôtel Le Pré Carré   \n",
       "22                                  Hôtel Victor Hugo   \n",
       "40                                    Impérial Palace   \n",
       "51     La Bastide du Calalou; BW Signature Collection   \n",
       "\n",
       "                                                  url rating  \\\n",
       "38  https://www.booking.com/hotel/fr/chateau-de-la...    9.2   \n",
       "12  https://www.booking.com/hotel/fr/gites-de-l-39...    9.2   \n",
       "79  https://www.booking.com/hotel/fr/les-restanque...    9.1   \n",
       "31  https://www.booking.com/hotel/fr/ducey-appart-...    9.0   \n",
       "92  https://www.booking.com/hotel/fr/villa-avril.e...    9.0   \n",
       "30  https://www.booking.com/hotel/fr/la-ramade.htm...    9.0   \n",
       "87  https://www.booking.com/hotel/fr/le-moulin-du-...    8.9   \n",
       "82  https://www.booking.com/hotel/fr/des-alpes-gra...    8.9   \n",
       "67  https://www.booking.com/hotel/fr/rivage-amp-sp...    8.9   \n",
       "89  https://www.booking.com/hotel/fr/les-residence...    8.8   \n",
       "39  https://www.booking.com/hotel/fr/tiallobroges....    8.8   \n",
       "81  https://www.booking.com/hotel/fr/relais-notre-...    8.8   \n",
       "42  https://www.booking.com/hotel/fr/le-pelican-an...    8.8   \n",
       "46  https://www.booking.com/hotel/fr/alery.en-gb.h...    8.8   \n",
       "83  https://www.booking.com/hotel/fr/cote-ouest.en...    8.8   \n",
       "71  https://www.booking.com/hotel/fr/logis-le-viei...    8.8   \n",
       "43  https://www.booking.com/hotel/fr/leprecarre.en...    8.7   \n",
       "22  https://www.booking.com/hotel/fr/victor-hugo-p...    8.7   \n",
       "40  https://www.booking.com/hotel/fr/imperial-pala...    8.7   \n",
       "51  https://www.booking.com/hotel/fr/bastide-du-ca...    8.7   \n",
       "\n",
       "                     city_final   latitude  longitude  latitude2  longitude2  \\\n",
       "38         Le Mont-Saint-Michel  48.425212  -1.565564  48.443177   -1.538432   \n",
       "12                     Besançon  47.140367   5.883229  47.158332    5.909699   \n",
       "79             Gorges du Verdon  43.821657   6.197063  43.839623    6.222017   \n",
       "31         Le Mont-Saint-Michel  48.602466  -1.317163  48.620432   -1.289936   \n",
       "92  Château du Haut-Kœnigsbourg  48.241500   7.421219  48.259465    7.448253   \n",
       "30         Le Mont-Saint-Michel  48.675686  -1.402012  48.693652   -1.374745   \n",
       "87             Gorges du Verdon  43.707751   6.042673  43.725717    6.067579   \n",
       "82             Gorges du Verdon  43.740731   5.857135  43.758697    5.882055   \n",
       "67                       Annecy  45.887734   6.126087  45.905699    6.151953   \n",
       "89  Château du Haut-Kœnigsbourg  48.238806   7.425404  48.256771    7.452437   \n",
       "39                       Annecy  45.884221   6.097941  45.902187    6.123805   \n",
       "81             Gorges du Verdon  43.681123   6.012344  43.699089    6.037239   \n",
       "42                       Annecy  45.879050   6.105681  45.897015    6.131543   \n",
       "46                       Annecy  45.882453   6.094481  45.900418    6.120344   \n",
       "83                       Annecy  45.858383   6.116070  45.876348    6.141922   \n",
       "71             Gorges du Verdon  43.743029   6.417110  43.760994    6.442030   \n",
       "43                       Annecy  45.884531   6.100255  45.902496    6.126120   \n",
       "22         Le Mont-Saint-Michel  48.534984  -1.535250  48.552949   -1.508059   \n",
       "40                       Annecy  45.885782   6.118829  45.903747    6.144694   \n",
       "51             Gorges du Verdon  43.636401   6.144628  43.654366    6.169505   \n",
       "\n",
       "                                          description  \n",
       "38  Set in a castle dating back to the 17th-Centur...  \n",
       "12  Offering a garden and garden view, Gîtes de l'...  \n",
       "79  This Provencal-style hotel has a floral terrac...  \n",
       "31  Set 25 km from Mont Saint Michel Abbey, 25 km ...  \n",
       "92  Gite Villa Avril piscine- jacuzzi- sauna - 15 ...  \n",
       "30  Composed of 2 villas and situated 400 metres f...  \n",
       "87  Le Moulin Du Château is a former olive oil mil...  \n",
       "82  Ideally located near the famous Gorges du Verd...  \n",
       "67  Featuring 4-star accommodation, Rivage Hôtel &...  \n",
       "89  Offering city views, Le Château du Haut-Koenig...  \n",
       "39  Set in Annecy City Centre, this 3-star hotel i...  \n",
       "81  Located at the entrance to Quinson village, ne...  \n",
       "42  Situated in Annecy, 37 km from Rochexpo, Le Pé...  \n",
       "46  \\nNew hotel - Opening May 2021.\\n\\nHébé Hotel ...  \n",
       "83  Facing Lake Annecy, Cote Ouest is a 15-minute ...  \n",
       "71  Le Vieil Amandier is located in the small vill...  \n",
       "43  Le Pré Carré is a hotel located in the heart o...  \n",
       "22  Located in Pontorson, 10 km from Mont Saint Mi...  \n",
       "40  Located in the heart of the French Alps, Impér...  \n",
       "51  Bastide Du Calalou is located a 30-minute driv...  "
      ]
     },
     "execution_count": 11,
     "metadata": {},
     "output_type": "execute_result"
    }
   ],
   "source": [
    "df_best_hotels['latitude2'] = pd.to_numeric(df_best_hotels['latitude2'], errors='coerce')\n",
    "df_best_hotels['longitude2'] = pd.to_numeric(df_best_hotels['longitude2'], errors='coerce')\n",
    "df_best_hotels['latitude'] = pd.to_numeric(df_best_hotels['latitude'], errors='coerce')\n",
    "df_best_hotels['longitude'] = pd.to_numeric(df_best_hotels['longitude'], errors='coerce')\n",
    "df_best_hotels"
   ]
  },
  {
   "cell_type": "code",
   "execution_count": 13,
   "metadata": {},
   "outputs": [
    {
     "data": {
      "application/vnd.plotly.v1+json": {
       "config": {
        "plotlyServerURL": "https://plot.ly"
       },
       "data": [
        {
         "coloraxis": "coloraxis",
         "hovertemplate": "rating=%{z}<br>latitude=%{lat}<br>longitude=%{lon}<extra></extra>",
         "lat": [
          48.4252115019916,
          47.1403667834269,
          43.8216573920728,
          48.6024661018379,
          48.2414995333971,
          48.6756861845111,
          43.7077513789502,
          43.7407312884502,
          45.8877335834269,
          48.2388058585689,
          45.8842211891775,
          43.681123453981,
          45.8790495834269,
          45.8824529538554,
          45.8583826800147,
          43.7430288223375,
          45.8845310289839,
          48.5349837062864,
          45.8857815696647,
          43.6364009674548
         ],
         "lon": [
          -1.56556425721297,
          5.88322924529768,
          6.19706322184185,
          -1.31716304049834,
          7.42121866663502,
          -1.40201181082892,
          6.04267314899316,
          5.85713505082914,
          6.1260871043344,
          7.42540421525328,
          6.09794078685643,
          6.01234440534967,
          6.10568114969585,
          6.09448106915901,
          6.11606979658019,
          6.41710959876116,
          6.10025538889274,
          -1.53525009676055,
          6.1188291037136,
          6.14462804384087
         ],
         "name": "",
         "radius": 10,
         "subplot": "mapbox",
         "type": "densitymapbox",
         "z": [
          "9.2",
          "9.2",
          "9.1",
          "9.0",
          "9.0",
          "9.0",
          "8.9",
          "8.9",
          "8.9",
          "8.8",
          "8.8",
          "8.8",
          "8.8",
          "8.8",
          "8.8",
          "8.8",
          "8.7",
          "8.7",
          "8.7",
          "8.7"
         ]
        }
       ],
       "layout": {
        "coloraxis": {
         "colorbar": {
          "title": {
           "text": "rating"
          }
         },
         "colorscale": [
          [
           0,
           "#0d0887"
          ],
          [
           0.1111111111111111,
           "#46039f"
          ],
          [
           0.2222222222222222,
           "#7201a8"
          ],
          [
           0.3333333333333333,
           "#9c179e"
          ],
          [
           0.4444444444444444,
           "#bd3786"
          ],
          [
           0.5555555555555556,
           "#d8576b"
          ],
          [
           0.6666666666666666,
           "#ed7953"
          ],
          [
           0.7777777777777778,
           "#fb9f3a"
          ],
          [
           0.8888888888888888,
           "#fdca26"
          ],
          [
           1,
           "#f0f921"
          ]
         ]
        },
        "legend": {
         "tracegroupgap": 0
        },
        "mapbox": {
         "center": {
          "lat": 46.067593278090825,
          "lon": 4.717008039536664
         },
         "domain": {
          "x": [
           0,
           1
          ],
          "y": [
           0,
           1
          ]
         },
         "style": "open-street-map",
         "zoom": 3
        },
        "margin": {
         "t": 60
        },
        "template": {
         "data": {
          "bar": [
           {
            "error_x": {
             "color": "#2a3f5f"
            },
            "error_y": {
             "color": "#2a3f5f"
            },
            "marker": {
             "line": {
              "color": "#E5ECF6",
              "width": 0.5
             },
             "pattern": {
              "fillmode": "overlay",
              "size": 10,
              "solidity": 0.2
             }
            },
            "type": "bar"
           }
          ],
          "barpolar": [
           {
            "marker": {
             "line": {
              "color": "#E5ECF6",
              "width": 0.5
             },
             "pattern": {
              "fillmode": "overlay",
              "size": 10,
              "solidity": 0.2
             }
            },
            "type": "barpolar"
           }
          ],
          "carpet": [
           {
            "aaxis": {
             "endlinecolor": "#2a3f5f",
             "gridcolor": "white",
             "linecolor": "white",
             "minorgridcolor": "white",
             "startlinecolor": "#2a3f5f"
            },
            "baxis": {
             "endlinecolor": "#2a3f5f",
             "gridcolor": "white",
             "linecolor": "white",
             "minorgridcolor": "white",
             "startlinecolor": "#2a3f5f"
            },
            "type": "carpet"
           }
          ],
          "choropleth": [
           {
            "colorbar": {
             "outlinewidth": 0,
             "ticks": ""
            },
            "type": "choropleth"
           }
          ],
          "contour": [
           {
            "colorbar": {
             "outlinewidth": 0,
             "ticks": ""
            },
            "colorscale": [
             [
              0,
              "#0d0887"
             ],
             [
              0.1111111111111111,
              "#46039f"
             ],
             [
              0.2222222222222222,
              "#7201a8"
             ],
             [
              0.3333333333333333,
              "#9c179e"
             ],
             [
              0.4444444444444444,
              "#bd3786"
             ],
             [
              0.5555555555555556,
              "#d8576b"
             ],
             [
              0.6666666666666666,
              "#ed7953"
             ],
             [
              0.7777777777777778,
              "#fb9f3a"
             ],
             [
              0.8888888888888888,
              "#fdca26"
             ],
             [
              1,
              "#f0f921"
             ]
            ],
            "type": "contour"
           }
          ],
          "contourcarpet": [
           {
            "colorbar": {
             "outlinewidth": 0,
             "ticks": ""
            },
            "type": "contourcarpet"
           }
          ],
          "heatmap": [
           {
            "colorbar": {
             "outlinewidth": 0,
             "ticks": ""
            },
            "colorscale": [
             [
              0,
              "#0d0887"
             ],
             [
              0.1111111111111111,
              "#46039f"
             ],
             [
              0.2222222222222222,
              "#7201a8"
             ],
             [
              0.3333333333333333,
              "#9c179e"
             ],
             [
              0.4444444444444444,
              "#bd3786"
             ],
             [
              0.5555555555555556,
              "#d8576b"
             ],
             [
              0.6666666666666666,
              "#ed7953"
             ],
             [
              0.7777777777777778,
              "#fb9f3a"
             ],
             [
              0.8888888888888888,
              "#fdca26"
             ],
             [
              1,
              "#f0f921"
             ]
            ],
            "type": "heatmap"
           }
          ],
          "heatmapgl": [
           {
            "colorbar": {
             "outlinewidth": 0,
             "ticks": ""
            },
            "colorscale": [
             [
              0,
              "#0d0887"
             ],
             [
              0.1111111111111111,
              "#46039f"
             ],
             [
              0.2222222222222222,
              "#7201a8"
             ],
             [
              0.3333333333333333,
              "#9c179e"
             ],
             [
              0.4444444444444444,
              "#bd3786"
             ],
             [
              0.5555555555555556,
              "#d8576b"
             ],
             [
              0.6666666666666666,
              "#ed7953"
             ],
             [
              0.7777777777777778,
              "#fb9f3a"
             ],
             [
              0.8888888888888888,
              "#fdca26"
             ],
             [
              1,
              "#f0f921"
             ]
            ],
            "type": "heatmapgl"
           }
          ],
          "histogram": [
           {
            "marker": {
             "pattern": {
              "fillmode": "overlay",
              "size": 10,
              "solidity": 0.2
             }
            },
            "type": "histogram"
           }
          ],
          "histogram2d": [
           {
            "colorbar": {
             "outlinewidth": 0,
             "ticks": ""
            },
            "colorscale": [
             [
              0,
              "#0d0887"
             ],
             [
              0.1111111111111111,
              "#46039f"
             ],
             [
              0.2222222222222222,
              "#7201a8"
             ],
             [
              0.3333333333333333,
              "#9c179e"
             ],
             [
              0.4444444444444444,
              "#bd3786"
             ],
             [
              0.5555555555555556,
              "#d8576b"
             ],
             [
              0.6666666666666666,
              "#ed7953"
             ],
             [
              0.7777777777777778,
              "#fb9f3a"
             ],
             [
              0.8888888888888888,
              "#fdca26"
             ],
             [
              1,
              "#f0f921"
             ]
            ],
            "type": "histogram2d"
           }
          ],
          "histogram2dcontour": [
           {
            "colorbar": {
             "outlinewidth": 0,
             "ticks": ""
            },
            "colorscale": [
             [
              0,
              "#0d0887"
             ],
             [
              0.1111111111111111,
              "#46039f"
             ],
             [
              0.2222222222222222,
              "#7201a8"
             ],
             [
              0.3333333333333333,
              "#9c179e"
             ],
             [
              0.4444444444444444,
              "#bd3786"
             ],
             [
              0.5555555555555556,
              "#d8576b"
             ],
             [
              0.6666666666666666,
              "#ed7953"
             ],
             [
              0.7777777777777778,
              "#fb9f3a"
             ],
             [
              0.8888888888888888,
              "#fdca26"
             ],
             [
              1,
              "#f0f921"
             ]
            ],
            "type": "histogram2dcontour"
           }
          ],
          "mesh3d": [
           {
            "colorbar": {
             "outlinewidth": 0,
             "ticks": ""
            },
            "type": "mesh3d"
           }
          ],
          "parcoords": [
           {
            "line": {
             "colorbar": {
              "outlinewidth": 0,
              "ticks": ""
             }
            },
            "type": "parcoords"
           }
          ],
          "pie": [
           {
            "automargin": true,
            "type": "pie"
           }
          ],
          "scatter": [
           {
            "fillpattern": {
             "fillmode": "overlay",
             "size": 10,
             "solidity": 0.2
            },
            "type": "scatter"
           }
          ],
          "scatter3d": [
           {
            "line": {
             "colorbar": {
              "outlinewidth": 0,
              "ticks": ""
             }
            },
            "marker": {
             "colorbar": {
              "outlinewidth": 0,
              "ticks": ""
             }
            },
            "type": "scatter3d"
           }
          ],
          "scattercarpet": [
           {
            "marker": {
             "colorbar": {
              "outlinewidth": 0,
              "ticks": ""
             }
            },
            "type": "scattercarpet"
           }
          ],
          "scattergeo": [
           {
            "marker": {
             "colorbar": {
              "outlinewidth": 0,
              "ticks": ""
             }
            },
            "type": "scattergeo"
           }
          ],
          "scattergl": [
           {
            "marker": {
             "colorbar": {
              "outlinewidth": 0,
              "ticks": ""
             }
            },
            "type": "scattergl"
           }
          ],
          "scattermapbox": [
           {
            "marker": {
             "colorbar": {
              "outlinewidth": 0,
              "ticks": ""
             }
            },
            "type": "scattermapbox"
           }
          ],
          "scatterpolar": [
           {
            "marker": {
             "colorbar": {
              "outlinewidth": 0,
              "ticks": ""
             }
            },
            "type": "scatterpolar"
           }
          ],
          "scatterpolargl": [
           {
            "marker": {
             "colorbar": {
              "outlinewidth": 0,
              "ticks": ""
             }
            },
            "type": "scatterpolargl"
           }
          ],
          "scatterternary": [
           {
            "marker": {
             "colorbar": {
              "outlinewidth": 0,
              "ticks": ""
             }
            },
            "type": "scatterternary"
           }
          ],
          "surface": [
           {
            "colorbar": {
             "outlinewidth": 0,
             "ticks": ""
            },
            "colorscale": [
             [
              0,
              "#0d0887"
             ],
             [
              0.1111111111111111,
              "#46039f"
             ],
             [
              0.2222222222222222,
              "#7201a8"
             ],
             [
              0.3333333333333333,
              "#9c179e"
             ],
             [
              0.4444444444444444,
              "#bd3786"
             ],
             [
              0.5555555555555556,
              "#d8576b"
             ],
             [
              0.6666666666666666,
              "#ed7953"
             ],
             [
              0.7777777777777778,
              "#fb9f3a"
             ],
             [
              0.8888888888888888,
              "#fdca26"
             ],
             [
              1,
              "#f0f921"
             ]
            ],
            "type": "surface"
           }
          ],
          "table": [
           {
            "cells": {
             "fill": {
              "color": "#EBF0F8"
             },
             "line": {
              "color": "white"
             }
            },
            "header": {
             "fill": {
              "color": "#C8D4E3"
             },
             "line": {
              "color": "white"
             }
            },
            "type": "table"
           }
          ]
         },
         "layout": {
          "annotationdefaults": {
           "arrowcolor": "#2a3f5f",
           "arrowhead": 0,
           "arrowwidth": 1
          },
          "autotypenumbers": "strict",
          "coloraxis": {
           "colorbar": {
            "outlinewidth": 0,
            "ticks": ""
           }
          },
          "colorscale": {
           "diverging": [
            [
             0,
             "#8e0152"
            ],
            [
             0.1,
             "#c51b7d"
            ],
            [
             0.2,
             "#de77ae"
            ],
            [
             0.3,
             "#f1b6da"
            ],
            [
             0.4,
             "#fde0ef"
            ],
            [
             0.5,
             "#f7f7f7"
            ],
            [
             0.6,
             "#e6f5d0"
            ],
            [
             0.7,
             "#b8e186"
            ],
            [
             0.8,
             "#7fbc41"
            ],
            [
             0.9,
             "#4d9221"
            ],
            [
             1,
             "#276419"
            ]
           ],
           "sequential": [
            [
             0,
             "#0d0887"
            ],
            [
             0.1111111111111111,
             "#46039f"
            ],
            [
             0.2222222222222222,
             "#7201a8"
            ],
            [
             0.3333333333333333,
             "#9c179e"
            ],
            [
             0.4444444444444444,
             "#bd3786"
            ],
            [
             0.5555555555555556,
             "#d8576b"
            ],
            [
             0.6666666666666666,
             "#ed7953"
            ],
            [
             0.7777777777777778,
             "#fb9f3a"
            ],
            [
             0.8888888888888888,
             "#fdca26"
            ],
            [
             1,
             "#f0f921"
            ]
           ],
           "sequentialminus": [
            [
             0,
             "#0d0887"
            ],
            [
             0.1111111111111111,
             "#46039f"
            ],
            [
             0.2222222222222222,
             "#7201a8"
            ],
            [
             0.3333333333333333,
             "#9c179e"
            ],
            [
             0.4444444444444444,
             "#bd3786"
            ],
            [
             0.5555555555555556,
             "#d8576b"
            ],
            [
             0.6666666666666666,
             "#ed7953"
            ],
            [
             0.7777777777777778,
             "#fb9f3a"
            ],
            [
             0.8888888888888888,
             "#fdca26"
            ],
            [
             1,
             "#f0f921"
            ]
           ]
          },
          "colorway": [
           "#636efa",
           "#EF553B",
           "#00cc96",
           "#ab63fa",
           "#FFA15A",
           "#19d3f3",
           "#FF6692",
           "#B6E880",
           "#FF97FF",
           "#FECB52"
          ],
          "font": {
           "color": "#2a3f5f"
          },
          "geo": {
           "bgcolor": "white",
           "lakecolor": "white",
           "landcolor": "#E5ECF6",
           "showlakes": true,
           "showland": true,
           "subunitcolor": "white"
          },
          "hoverlabel": {
           "align": "left"
          },
          "hovermode": "closest",
          "mapbox": {
           "style": "light"
          },
          "paper_bgcolor": "white",
          "plot_bgcolor": "#E5ECF6",
          "polar": {
           "angularaxis": {
            "gridcolor": "white",
            "linecolor": "white",
            "ticks": ""
           },
           "bgcolor": "#E5ECF6",
           "radialaxis": {
            "gridcolor": "white",
            "linecolor": "white",
            "ticks": ""
           }
          },
          "scene": {
           "xaxis": {
            "backgroundcolor": "#E5ECF6",
            "gridcolor": "white",
            "gridwidth": 2,
            "linecolor": "white",
            "showbackground": true,
            "ticks": "",
            "zerolinecolor": "white"
           },
           "yaxis": {
            "backgroundcolor": "#E5ECF6",
            "gridcolor": "white",
            "gridwidth": 2,
            "linecolor": "white",
            "showbackground": true,
            "ticks": "",
            "zerolinecolor": "white"
           },
           "zaxis": {
            "backgroundcolor": "#E5ECF6",
            "gridcolor": "white",
            "gridwidth": 2,
            "linecolor": "white",
            "showbackground": true,
            "ticks": "",
            "zerolinecolor": "white"
           }
          },
          "shapedefaults": {
           "line": {
            "color": "#2a3f5f"
           }
          },
          "ternary": {
           "aaxis": {
            "gridcolor": "white",
            "linecolor": "white",
            "ticks": ""
           },
           "baxis": {
            "gridcolor": "white",
            "linecolor": "white",
            "ticks": ""
           },
           "bgcolor": "#E5ECF6",
           "caxis": {
            "gridcolor": "white",
            "linecolor": "white",
            "ticks": ""
           }
          },
          "title": {
           "x": 0.05
          },
          "xaxis": {
           "automargin": true,
           "gridcolor": "white",
           "linecolor": "white",
           "ticks": "",
           "title": {
            "standoff": 15
           },
           "zerolinecolor": "white",
           "zerolinewidth": 2
          },
          "yaxis": {
           "automargin": true,
           "gridcolor": "white",
           "linecolor": "white",
           "ticks": "",
           "title": {
            "standoff": 15
           },
           "zerolinecolor": "white",
           "zerolinewidth": 2
          }
         }
        }
       }
      }
     },
     "metadata": {},
     "output_type": "display_data"
    }
   ],
   "source": [
    "\n",
    "import plotly.graph_objects as go\n",
    "import plotly.express as px\n",
    "fig = px.density_mapbox(df_best_hotels, lat=\"latitude\", lon=\"longitude\", mapbox_style=\"open-street-map\", zoom = 3, radius = 10, z =\"rating\")\n",
    "fig.show()"
   ]
  },
  {
   "cell_type": "code",
   "execution_count": 14,
   "metadata": {},
   "outputs": [],
   "source": [
    "df_best_hotels.to_csv('best_hotel.csv', index=False)"
   ]
  },
  {
   "cell_type": "code",
   "execution_count": null,
   "metadata": {},
   "outputs": [],
   "source": []
  }
 ],
 "metadata": {
  "kernelspec": {
   "display_name": "base",
   "language": "python",
   "name": "python3"
  },
  "language_info": {
   "codemirror_mode": {
    "name": "ipython",
    "version": 3
   },
   "file_extension": ".py",
   "mimetype": "text/x-python",
   "name": "python",
   "nbconvert_exporter": "python",
   "pygments_lexer": "ipython3",
   "version": "3.11.7"
  }
 },
 "nbformat": 4,
 "nbformat_minor": 2
}
